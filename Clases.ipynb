{
 "cells": [
  {
   "attachments": {},
   "cell_type": "markdown",
   "metadata": {
    "slideshow": {
     "slide_type": "slide"
    }
   },
   "source": [
    "# Creando una clase\n",
    "\n",
    "Para este ejemplo, usaremos el caso anterior, por ello debemos conocer la sintaxis basíca para definir una clase.\n",
    "\n",
    "**Sintaxis**\n",
    "\n",
    "<img src=\"images\\sintaxis_clase_1.png\">"
   ]
  },
  {
   "cell_type": "code",
   "execution_count": 6,
   "metadata": {},
   "outputs": [],
   "source": [
    "class Personaje:\n",
    "    pass"
   ]
  },
  {
   "cell_type": "code",
   "execution_count": 7,
   "metadata": {},
   "outputs": [
    {
     "data": {
      "text/plain": [
       "<__main__.Personaje at 0x2d9c393bd10>"
      ]
     },
     "execution_count": 7,
     "metadata": {},
     "output_type": "execute_result"
    }
   ],
   "source": [
    "Personaje()"
   ]
  },
  {
   "attachments": {},
   "cell_type": "markdown",
   "metadata": {
    "slideshow": {
     "slide_type": "slide"
    }
   },
   "source": [
    "Para agregar atributos a una clase, debemos conocer que estos se dividen en atributos de clase y de instancia. Los primeros se definen dentro de la clase, mientras que los de instancia se declaran cuando usamos el metodo `__init__`, usamos el parametro `self` punto y el nombre del atributo.\n",
    "\n",
    "\n",
    "<img src=\"images\\sintaxis_clase_2.png\">"
   ]
  },
  {
   "cell_type": "code",
   "execution_count": 10,
   "metadata": {
    "slideshow": {
     "slide_type": "skip"
    }
   },
   "outputs": [],
   "source": [
    "class Personaje:\n",
    "    region = \"Norte\"\n",
    "    def __init__(self, nombre=\"NA\", edad=0, role=\"NA\"):\n",
    "        self.nombre = nombre\n",
    "        self.edad = edad\n",
    "        self.role = role"
   ]
  },
  {
   "cell_type": "code",
   "execution_count": 11,
   "metadata": {},
   "outputs": [
    {
     "data": {
      "text/plain": [
       "<__main__.Personaje at 0x2d9c48c6890>"
      ]
     },
     "execution_count": 11,
     "metadata": {},
     "output_type": "execute_result"
    }
   ],
   "source": [
    "Personaje()"
   ]
  },
  {
   "cell_type": "code",
   "execution_count": 12,
   "metadata": {},
   "outputs": [
    {
     "data": {
      "text/plain": [
       "<__main__.Personaje at 0x2d9c48f1b90>"
      ]
     },
     "execution_count": 12,
     "metadata": {},
     "output_type": "execute_result"
    }
   ],
   "source": [
    "Personaje(\"Jhon Snow\", 32, \"Knight\")"
   ]
  },
  {
   "cell_type": "code",
   "execution_count": 14,
   "metadata": {},
   "outputs": [
    {
     "name": "stdout",
     "output_type": "stream",
     "text": [
      "Jhon Snow 32 Knight Norte\n",
      "Jhon Snow 33 Guardia Nocturna Norte\n"
     ]
    }
   ],
   "source": [
    "p1 = Personaje(\"Jhon Snow\", 32, \"Knight\")\n",
    "print(p1.nombre, p1.edad, p1.role, p1.region)\n",
    "\n",
    "p1.edad += 1\n",
    "p1.role = \"Guardia Nocturna\"\n",
    "print(p1.nombre, p1.edad, p1.role, p1.region)"
   ]
  },
  {
   "attachments": {},
   "cell_type": "markdown",
   "metadata": {
    "slideshow": {
     "slide_type": "slide"
    }
   },
   "source": [
    "### Agregando metodos a una clase\n",
    "\n",
    "Se definen de la misma forma en que declaramos una función, con la particularidad de que llevara `self` como primer parametro, y en dado caso de que solicitemos más de un parametro, estos iran despues de `self`\n",
    "\n",
    "<img src=\"images\\sintaxis_clase_3.png\">"
   ]
  },
  {
   "cell_type": "code",
   "execution_count": 16,
   "metadata": {},
   "outputs": [
    {
     "name": "stdout",
     "output_type": "stream",
     "text": [
      "<__main__.Personaje object at 0x000002D9C490C390>\n"
     ]
    }
   ],
   "source": [
    "print(p1)"
   ]
  },
  {
   "cell_type": "code",
   "execution_count": 17,
   "metadata": {},
   "outputs": [],
   "source": [
    "class Personaje:\n",
    "    region = \"Norte\"\n",
    "    def __init__(self, nombre, edad, role):\n",
    "        self.nombre = nombre\n",
    "        self.edad = edad\n",
    "        self.role = role\n",
    "\n",
    "    def say_name(self):\n",
    "        print(\"Mi nombre es {}, tengo {}, y soy un {}\".format(self.nombre, self.edad, self.role))"
   ]
  },
  {
   "cell_type": "code",
   "execution_count": 18,
   "metadata": {},
   "outputs": [
    {
     "name": "stdout",
     "output_type": "stream",
     "text": [
      "Jhon Snow 32 Knight Norte\n",
      "Mi nombre es Jhon Snow, tengo 32, y soy un Knight\n"
     ]
    }
   ],
   "source": [
    "p1 = Personaje(\"Jhon Snow\", 32, \"Knight\")\n",
    "print(p1.nombre, p1.edad, p1.role, p1.region)\n",
    "\n",
    "p1.say_name()"
   ]
  },
  {
   "attachments": {},
   "cell_type": "markdown",
   "metadata": {},
   "source": [
    "### Sobrescribiendo metodos\n",
    "\n",
    "En Python las clases tienen por default ciertos metodos, a los cuales les podemos cambiar el comportamiento. Para el listado de metodo de clase, podemos ejecutar lo siguiente:\n",
    "\n",
    "```python\n",
    "print(dir(Personaje))\n",
    "```\n",
    "\n",
    "Esto nos retornara una lista de metodos y propiedades."
   ]
  },
  {
   "cell_type": "code",
   "execution_count": 19,
   "metadata": {},
   "outputs": [
    {
     "name": "stdout",
     "output_type": "stream",
     "text": [
      "['__class__', '__delattr__', '__dict__', '__dir__', '__doc__', '__eq__', '__format__', '__ge__', '__getattribute__', '__getstate__', '__gt__', '__hash__', '__init__', '__init_subclass__', '__le__', '__lt__', '__module__', '__ne__', '__new__', '__reduce__', '__reduce_ex__', '__repr__', '__setattr__', '__sizeof__', '__str__', '__subclasshook__', '__weakref__', 'region', 'say_name']\n"
     ]
    }
   ],
   "source": [
    "print(dir(Personaje))\n"
   ]
  },
  {
   "attachments": {},
   "cell_type": "markdown",
   "metadata": {},
   "source": [
    "#### Sobrescribiendo el metodo __repr__\n",
    "\n"
   ]
  },
  {
   "cell_type": "code",
   "execution_count": 20,
   "metadata": {},
   "outputs": [
    {
     "name": "stdout",
     "output_type": "stream",
     "text": [
      "<__main__.Personaje object at 0x000002D9C48D8BD0>\n"
     ]
    }
   ],
   "source": [
    "print(p1)"
   ]
  },
  {
   "attachments": {},
   "cell_type": "markdown",
   "metadata": {},
   "source": [
    "```python\n",
    "class Personaje:\n",
    "    region = \"Norte\"\n",
    "    def __init__(self, nombre, edad, role):\n",
    "        self.nombre = nombre\n",
    "        self.edad = edad\n",
    "        self.role = role\n",
    "\n",
    "    def say_name(self):\n",
    "        print(\"Mi nombre es {}, tengo {}, y soy un {}\".format(self.nombre, self.edad, self.role))\n",
    "\n",
    "    def __repr__(self):\n",
    "        return \"Personaje(nombre={}, edad={}, role={})\".format(self.nombre, self.edad, self.role)\n",
    "```"
   ]
  },
  {
   "cell_type": "code",
   "execution_count": 23,
   "metadata": {},
   "outputs": [],
   "source": [
    "class Personaje:\n",
    "    region = \"Norte\"\n",
    "    def __init__(self, nombre, edad, role):\n",
    "        self.nombre = nombre\n",
    "        self.edad = edad\n",
    "        self.role = role\n",
    "\n",
    "    def say_name(self):\n",
    "        print(\"Mi nombre es {}, tengo {}, y soy un {}\".format(self.nombre, self.edad, self.role))\n",
    "\n",
    "    def __repr__(self):\n",
    "        return \"Personaje(nombre=\\\"{}\\\", edad={}, role=\\\"{}\\\")\".format(self.nombre, self.edad, self.role)"
   ]
  },
  {
   "cell_type": "code",
   "execution_count": 24,
   "metadata": {},
   "outputs": [
    {
     "name": "stdout",
     "output_type": "stream",
     "text": [
      "Personaje(nombre=\"Jhon Snow\", edad=32, role=\"Knight\")\n"
     ]
    }
   ],
   "source": [
    "p1 = Personaje(\"Jhon Snow\", 32, \"Knight\")\n",
    "print(p1)"
   ]
  },
  {
   "attachments": {},
   "cell_type": "markdown",
   "metadata": {},
   "source": [
    "#### Documentando una clase\n",
    "\n",
    "Se hace de la misma manera en que documentamos nuestras funciones, usaremos docstrings para realizarlo.\n",
    "\n",
    "```python\n",
    "class Personaje:\n",
    "    \"\"\"\n",
    "    Clase Personaje\n",
    "\n",
    "    ...\n",
    "    \n",
    "    Atributos\n",
    "    ---------\n",
    "    nombre: str\n",
    "        El nombre del personaje\n",
    "    edad: int\n",
    "        Edad del personaje\n",
    "    role: str\n",
    "        Role del personaje\n",
    "    region: str\n",
    "        Región del personaje\n",
    "\n",
    "    Metodos\n",
    "    -------\n",
    "    say_name() \n",
    "        Imprime los datos del personaje\n",
    "\n",
    "    \"\"\"\n",
    "    region = \"Norte\"\n",
    "    def __init__(self, nombre, edad, role):\n",
    "        \"\"\"\n",
    "        Parameters\n",
    "        ----------\n",
    "        nombre: str\n",
    "            El nombre del personaje\n",
    "        edad: int\n",
    "            Edad del personaje\n",
    "        role: str\n",
    "            Role del personaje\n",
    "        \"\"\"\n",
    "        self.nombre = nombre\n",
    "        self.edad = edad\n",
    "        self.role = role\n",
    "\n",
    "    def say_name(self):\n",
    "        \"\"\"Imprime información del personaje\"\"\"\n",
    "        print(\"Mi nombre es {}, tengo {}, y soy un {}\".format(self.nombre, self.edad, self.role))\n",
    "\n",
    "    def __repr__(self):\n",
    "        return \"Personaje(nombre={}, edad={}, role={})\".format(self.nombre, self.edad, self.role)\n",
    "```"
   ]
  },
  {
   "cell_type": "code",
   "execution_count": 25,
   "metadata": {},
   "outputs": [],
   "source": [
    "class Personaje:\n",
    "    \"\"\"\n",
    "    Clase Personaje\n",
    "\n",
    "    ...\n",
    "    \n",
    "    Atributos\n",
    "    ---------\n",
    "    nombre: str\n",
    "        El nombre del personaje\n",
    "    edad: int\n",
    "        Edad del personaje\n",
    "    role: str\n",
    "        Role del personaje\n",
    "    region: str\n",
    "        Región del personaje\n",
    "\n",
    "    Metodos\n",
    "    -------\n",
    "    say_name() \n",
    "        Imprime los datos del personaje\n",
    "\n",
    "    \"\"\"\n",
    "    region = \"Norte\"\n",
    "    def __init__(self, nombre, edad, role):\n",
    "        \"\"\"\n",
    "        Parameters\n",
    "        ----------\n",
    "        nombre: str\n",
    "            El nombre del personaje\n",
    "        edad: int\n",
    "            Edad del personaje\n",
    "        role: str\n",
    "            Role del personaje\n",
    "        \"\"\"\n",
    "        self.nombre = nombre\n",
    "        self.edad = edad\n",
    "        self.role = role\n",
    "\n",
    "    def say_name(self):\n",
    "        \"\"\"Imprime información del personaje\"\"\"\n",
    "        print(\"Mi nombre es {}, tengo {}, y soy un {}\".format(self.nombre, self.edad, self.role))\n",
    "\n",
    "    def __repr__(self):\n",
    "        return \"Personaje(nombre={}, edad={}, role={})\".format(self.nombre, self.edad, self.role)"
   ]
  },
  {
   "cell_type": "code",
   "execution_count": null,
   "metadata": {},
   "outputs": [],
   "source": [
    "p1 = Personaje(\"Jhon Snow\", 32, \"Knight\")\n",
    "print(p1.say_name)"
   ]
  },
  {
   "attachments": {},
   "cell_type": "markdown",
   "metadata": {},
   "source": [
    "## Metodos de clase y estaticos"
   ]
  },
  {
   "attachments": {},
   "cell_type": "markdown",
   "metadata": {},
   "source": [
    "### **Métodos de clase (classmethod)**\n",
    "\n",
    "A diferencia de los métodos de instancia, los métodos de clase reciben como argumento **cls**, que hace referencia a la clase. Estos metodos pueden acceder a la clase pero no a la instancia, y pueden modificar el estado de la clase, es decir si usamos variables de clase, podemos acceder a estas y modificar su estado.\n",
    "\n",
    "Los **métodos de clase**:\n",
    "\n",
    "- No pueden acceder a los atributos de la instancia.\n",
    "- Pero si pueden modificar los atributos de la clase."
   ]
  },
  {
   "attachments": {},
   "cell_type": "markdown",
   "metadata": {},
   "source": [
    "```python\n",
    "class Personaje:\n",
    "    \"\"\"\n",
    "    Clase Personaje\n",
    "\n",
    "    ...\n",
    "    \n",
    "    Atributos\n",
    "    ---------\n",
    "    nombre: str\n",
    "        El nombre del personaje\n",
    "    edad: int\n",
    "        Edad del personaje\n",
    "    role: str\n",
    "        Role del personaje\n",
    "    region: str\n",
    "        Región del personaje\n",
    "\n",
    "    Metodos\n",
    "    -------\n",
    "    say_name() \n",
    "        Imprime los datos del personaje\n",
    "\n",
    "    \"\"\"\n",
    "    region = \"Norte\"\n",
    "\n",
    "    @classmethod\n",
    "    def cambiar_region(cls, region):\n",
    "        print(Personaje.region) # Norte\n",
    "        Personaje.region = region\n",
    "\n",
    "    def __init__(self, nombre, edad, role):\n",
    "        \"\"\"\n",
    "        Parameters\n",
    "        ----------\n",
    "        nombre: str\n",
    "            El nombre del personaje\n",
    "        edad: int\n",
    "            Edad del personaje\n",
    "        role: str\n",
    "            Role del personaje\n",
    "        \"\"\"\n",
    "        self.nombre = nombre\n",
    "        self.edad = edad\n",
    "        self.role = role\n",
    "\n",
    "    def say_name(self):\n",
    "        \"\"\"Imprime información del personaje\"\"\"\n",
    "        print(\"Mi nombre es {}, tengo {}, y soy un {}\".format(self.nombre, self.edad, self.role))\n",
    "\n",
    "    def __repr__(self):\n",
    "        return \"Personaje(nombre={}, edad={}, role={})\".format(self.nombre, self.edad, self.role)\n",
    "```"
   ]
  },
  {
   "cell_type": "code",
   "execution_count": 26,
   "metadata": {},
   "outputs": [
    {
     "data": {
      "text/plain": [
       "'Norte'"
      ]
     },
     "execution_count": 26,
     "metadata": {},
     "output_type": "execute_result"
    }
   ],
   "source": [
    "Personaje.region # Variable de clase"
   ]
  },
  {
   "cell_type": "code",
   "execution_count": 27,
   "metadata": {},
   "outputs": [],
   "source": [
    "class Personaje:\n",
    "    \"\"\"\n",
    "    Clase Personaje\n",
    "\n",
    "    ...\n",
    "    \n",
    "    Atributos\n",
    "    ---------\n",
    "    nombre: str\n",
    "        El nombre del personaje\n",
    "    edad: int\n",
    "        Edad del personaje\n",
    "    role: str\n",
    "        Role del personaje\n",
    "    region: str\n",
    "        Región del personaje\n",
    "\n",
    "    Metodos\n",
    "    -------\n",
    "    say_name() \n",
    "        Imprime los datos del personaje\n",
    "\n",
    "    \"\"\"\n",
    "    region = \"Norte\"\n",
    "\n",
    "    @classmethod\n",
    "    def cambiar_region(cls, region):\n",
    "        print(\"Actual: \", Personaje.region) # Norte\n",
    "        print(\"Nuevo: \", region)\n",
    "        Personaje.region = region\n",
    "\n",
    "    def __init__(self, nombre, edad, role):\n",
    "        \"\"\"\n",
    "        Parameters\n",
    "        ----------\n",
    "        nombre: str\n",
    "            El nombre del personaje\n",
    "        edad: int\n",
    "            Edad del personaje\n",
    "        role: str\n",
    "            Role del personaje\n",
    "        \"\"\"\n",
    "        self.nombre = nombre\n",
    "        self.edad = edad\n",
    "        self.role = role\n",
    "\n",
    "    def say_name(self):\n",
    "        \"\"\"Imprime información del personaje\"\"\"\n",
    "        print(\"Mi nombre es {}, tengo {}, y soy un {}\".format(self.nombre, self.edad, self.role))\n",
    "\n",
    "    def __repr__(self):\n",
    "        return \"Personaje(nombre={}, edad={}, role={})\".format(self.nombre, self.edad, self.role)"
   ]
  },
  {
   "cell_type": "code",
   "execution_count": 28,
   "metadata": {},
   "outputs": [
    {
     "name": "stdout",
     "output_type": "stream",
     "text": [
      "Norte\n",
      "Norte\n",
      "Actual:  Norte\n",
      "Nuevo:  Sur\n",
      "Sur\n",
      "Sur\n"
     ]
    }
   ],
   "source": [
    "print(Personaje.region) # Norte\n",
    "p1 = Personaje(\"Jhon Snow\", 32, \"Knight\")\n",
    "print(p1.region) # Norte\n",
    "\n",
    "Personaje.cambiar_region(\"Este\")\n",
    "\n",
    "p2 = Personaje(\"Aria Stark\", 14, \"Assasin\")\n",
    "print(p2.region) # Sur\n",
    "print(p1.region)"
   ]
  },
  {
   "cell_type": "code",
   "execution_count": 29,
   "metadata": {},
   "outputs": [
    {
     "name": "stdout",
     "output_type": "stream",
     "text": [
      "Actual:  Sur\n",
      "Nuevo:  Este\n",
      "Este\n",
      "Este\n"
     ]
    }
   ],
   "source": [
    "\n",
    "Personaje.cambiar_region(\"Este\")\n",
    "print(p2.region) # Este\n",
    "print(p1.region)"
   ]
  },
  {
   "attachments": {},
   "cell_type": "markdown",
   "metadata": {},
   "source": [
    "### Añadiendo metodos de clase de manera dinamica\n",
    "\n",
    "Para añadir un nuevo metodo de clase, usamos el metodo **classmethod**, el cuál recibe como argumento una función previamente definida. Seguido debemos asignar un nombre de metodo o variable de clase a nuestra clase."
   ]
  },
  {
   "cell_type": "code",
   "execution_count": 31,
   "metadata": {},
   "outputs": [],
   "source": [
    "class Student:\n",
    "    school_name = 'IRC School'\n",
    "\n",
    "    def __init__(self, name, age):\n",
    "        self.name = name\n",
    "        self.age = age\n",
    "\n",
    "    def show(self):\n",
    "        print(self.name, self.age)"
   ]
  },
  {
   "cell_type": "code",
   "execution_count": 32,
   "metadata": {},
   "outputs": [],
   "source": [
    "def exercises(cls):\n",
    "    # accedemos a las variables de clases\n",
    "    print(\"Ejercicios de la escuela \", cls.school_name)\n"
   ]
  },
  {
   "cell_type": "code",
   "execution_count": 33,
   "metadata": {},
   "outputs": [],
   "source": [
    "Student.exercises = classmethod(exercises)"
   ]
  },
  {
   "cell_type": "code",
   "execution_count": 34,
   "metadata": {},
   "outputs": [
    {
     "name": "stdout",
     "output_type": "stream",
     "text": [
      "Martha 25\n",
      "Ejercicios de la escuela  IRC School\n"
     ]
    }
   ],
   "source": [
    "jessa = Student(\"Martha\", 25)\n",
    "jessa.show()\n",
    "# call the new method\n",
    "Student.exercises()"
   ]
  },
  {
   "attachments": {},
   "cell_type": "markdown",
   "metadata": {},
   "source": [
    "### Otro ejemplo de uso"
   ]
  },
  {
   "cell_type": "code",
   "execution_count": 35,
   "metadata": {},
   "outputs": [
    {
     "name": "stdout",
     "output_type": "stream",
     "text": [
      "Jessa's age is: 20\n",
      "Joy's age is: 28\n"
     ]
    }
   ],
   "source": [
    "from datetime import date\n",
    "\n",
    "class Student:\n",
    "    def __init__(self, name, age):\n",
    "        self.name = name\n",
    "        self.age = age\n",
    "\n",
    "    @classmethod\n",
    "    def calculate_age(cls, name, birth_year):\n",
    "        return cls(name, date.today().year - birth_year)\n",
    "\n",
    "    def show(self):\n",
    "        print(self.name + \"'s age is: \" + str(self.age))\n",
    "\n",
    "jessa = Student('Jessa', 20)\n",
    "jessa.show()\n",
    "\n",
    "# creamos un nuevo objeto usando el patron factory\n",
    "joy = Student.calculate_age(\"Joy\", 1995)\n",
    "joy.show()"
   ]
  },
  {
   "attachments": {},
   "cell_type": "markdown",
   "metadata": {},
   "source": [
    "## Métodos estáticos (staticmethod)\n",
    "\n",
    "Por último, los métodos estáticos se pueden definir con el decorador `@staticmethod` y no aceptan como parámetro ni la instancia ni la clase. Es por ello por lo que **no pueden modificar el estado ni de la clase ni de la instancia**. Pero por supuesto pueden aceptar parámetros de entrada.\n",
    "\n",
    "**Ventajas**\n",
    "\n",
    "- Consume menos memoria.\n",
    "- Se usan para escribir funciones utiles.\n",
    "- Legibles"
   ]
  },
  {
   "cell_type": "code",
   "execution_count": null,
   "metadata": {},
   "outputs": [],
   "source": [
    "class Employee:\n",
    "    @staticmethod\n",
    "    def ejemplo(x):\n",
    "        print('Metodo Estatico', x)\n",
    "\n",
    "# llamando a nuestro metodo estatico\n",
    "Employee.ejemplo(10)\n",
    "\n",
    "# tambien puede ser llamado desde una instancia\n",
    "emp = Employee()\n",
    "emp.ejemplo(20)"
   ]
  },
  {
   "attachments": {},
   "cell_type": "markdown",
   "metadata": {},
   "source": [
    "### Herencia\n",
    "\n",
    "Al igual que otros lenguajes de programación que manejan POO, Python nos permite hacer la parte de Herencia. La **herencia** es un proceso mediante el cual se puede crear una clase hija que hereda de una clase padre, compartiendo sus métodos y atributos. Además de ello, una clase hija puede sobreescribir los métodos o atributos, o incluso definir unos nuevos.\n",
    "\n",
    "Se puede crear una clase hija con tan solo pasar como parámetro la clase de la que queremos heredar. En el siguiente ejemplo vemos como se puede usar la herencia en Python, con la clase PersonajeSecundario que hereda de Personaje. Así de fácil."
   ]
  },
  {
   "attachments": {},
   "cell_type": "markdown",
   "metadata": {},
   "source": [
    "```python\n",
    "class Personaje:\n",
    "    \"\"\"\n",
    "    Clase Personaje\n",
    "\n",
    "    ...\n",
    "    \n",
    "    Atributos\n",
    "    ---------\n",
    "    nombre: str\n",
    "        El nombre del personaje\n",
    "    edad: int\n",
    "        Edad del personaje\n",
    "    role: str\n",
    "        Role del personaje\n",
    "    region: str\n",
    "        Región del personaje\n",
    "\n",
    "    Metodos\n",
    "    -------\n",
    "    say_name() \n",
    "        Imprime los datos del personaje\n",
    "\n",
    "    \"\"\"\n",
    "    region = \"Norte\"\n",
    "    def __init__(self, nombre, edad, role):\n",
    "        \"\"\"\n",
    "        Parameters\n",
    "        ----------\n",
    "        nombre: str\n",
    "            El nombre del personaje\n",
    "        edad: int\n",
    "            Edad del personaje\n",
    "        role: str\n",
    "            Role del personaje\n",
    "        \"\"\"\n",
    "        self.nombre = nombre\n",
    "        self.edad = edad\n",
    "        self.role = role\n",
    "\n",
    "    def say_name(self):\n",
    "        \"\"\"Imprime información del personaje\"\"\"\n",
    "        print(\"Mi nombre es {}, tengo {}, y soy un {}\".format(self.nombre, self.edad, self.role))\n",
    "\n",
    "    def __repr__(self):\n",
    "        return \"Personaje(nombre={}, edad={}, role={})\".format(self.nombre, self.edad, self.role)\n",
    "```"
   ]
  },
  {
   "attachments": {},
   "cell_type": "markdown",
   "metadata": {},
   "source": [
    "```python\n",
    "class PersonajeSecundario(Personaje):\n",
    "    def __init__(self, nombre, edad, rol, region, familia):\n",
    "        # self.nombre = nombre\n",
    "        # self.edad = edad\n",
    "        # self.role = role\n",
    "        # self.region = region\n",
    "        # self.familia = familia\n",
    "        super().__init(nombre, edad, role)\n",
    "        self.region = region\n",
    "        self.familia = familia\n",
    "```"
   ]
  },
  {
   "cell_type": "code",
   "execution_count": 36,
   "metadata": {},
   "outputs": [],
   "source": [
    "class PersonajeSecundario(Personaje):\n",
    "    def __init__(self, nombre, edad, role, region, familia):\n",
    "        # self.nombre = nombre\n",
    "        # self.edad = edad\n",
    "        # self.role = role\n",
    "        # self.region = region\n",
    "        # self.familia = familia\n",
    "        super().__init__(nombre, edad, role)\n",
    "        self.region = region\n",
    "        self.familia = familia"
   ]
  },
  {
   "cell_type": "code",
   "execution_count": 37,
   "metadata": {},
   "outputs": [
    {
     "name": "stdout",
     "output_type": "stream",
     "text": [
      "Personaje(nombre=Soldier 1, edad=30, role=Soldier)\n"
     ]
    }
   ],
   "source": [
    "sp1 = PersonajeSecundario(\"Soldier 1\", 30, \"Soldier\", \"North\", \"Desconocido\")\n",
    "print(sp1)"
   ]
  },
  {
   "cell_type": "code",
   "execution_count": 38,
   "metadata": {},
   "outputs": [],
   "source": [
    "class PersonajeSecundario(Personaje):\n",
    "    def __init__(self, nombre, edad, role, region, familia):\n",
    "        # self.nombre = nombre\n",
    "        # self.edad = edad\n",
    "        # self.role = role\n",
    "        # self.region = region\n",
    "        # self.familia = familia\n",
    "        super().__init__(nombre, edad, role)\n",
    "        self.region = region\n",
    "        self.familia = familia\n",
    "    def __repr__(self):\n",
    "        return \"PersonajeSecundario(nombre={}, edad={}, role={})\".format(self.nombre, self.edad, self.role)\n",
    "    "
   ]
  },
  {
   "cell_type": "code",
   "execution_count": 39,
   "metadata": {},
   "outputs": [
    {
     "name": "stdout",
     "output_type": "stream",
     "text": [
      "PersonajeSecundario(nombre=Soldier 1, edad=30, role=Soldier)\n"
     ]
    }
   ],
   "source": [
    "sp1 = PersonajeSecundario(\"Soldier 1\", 30, \"Soldier\", \"North\", \"Desconocido\")\n",
    "print(sp1)"
   ]
  },
  {
   "attachments": {},
   "cell_type": "markdown",
   "metadata": {},
   "source": [
    "## Usando Clases para Diccionarios"
   ]
  },
  {
   "cell_type": "code",
   "execution_count": 40,
   "metadata": {},
   "outputs": [],
   "source": [
    "from typing import TypedDict, NotRequired\n",
    "\n",
    "class Movie(TypedDict):\n",
    "   title: str\n",
    "   year: NotRequired[int]\n",
    "\n",
    "m1: Movie = {\"title\": \"Black Panther\", \"year\": 2018}"
   ]
  },
  {
   "cell_type": "code",
   "execution_count": 41,
   "metadata": {},
   "outputs": [
    {
     "data": {
      "text/plain": [
       "'Black Panther'"
      ]
     },
     "execution_count": 41,
     "metadata": {},
     "output_type": "execute_result"
    }
   ],
   "source": [
    "m1['title']"
   ]
  },
  {
   "cell_type": "code",
   "execution_count": 42,
   "metadata": {},
   "outputs": [],
   "source": [
    "m2: Movie = {\"year\": 2018}"
   ]
  },
  {
   "cell_type": "code",
   "execution_count": 44,
   "metadata": {},
   "outputs": [
    {
     "data": {
      "text/plain": [
       "2018"
      ]
     },
     "execution_count": 44,
     "metadata": {},
     "output_type": "execute_result"
    }
   ],
   "source": [
    "m2['year']"
   ]
  }
 ],
 "metadata": {
  "kernelspec": {
   "display_name": "intro_python",
   "language": "python",
   "name": "python3"
  },
  "language_info": {
   "codemirror_mode": {
    "name": "ipython",
    "version": 3
   },
   "file_extension": ".py",
   "mimetype": "text/x-python",
   "name": "python",
   "nbconvert_exporter": "python",
   "pygments_lexer": "ipython3",
   "version": "3.11.2"
  },
  "orig_nbformat": 4
 },
 "nbformat": 4,
 "nbformat_minor": 2
}
