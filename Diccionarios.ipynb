{
 "cells": [
  {
   "attachments": {},
   "cell_type": "markdown",
   "metadata": {},
   "source": [
    "<center>\n",
    "<img src=\"https://i.morioh.com/2022/07/29/a10a9b28.webp\" width=400 height=300 />\n",
    "</center>"
   ]
  },
  {
   "attachments": {},
   "cell_type": "markdown",
   "metadata": {},
   "source": [
    "![](https://controlautomaticoeducacion.com/wp-content/uploads/Ejemplos-con-Diccionarios-en-Python.png)"
   ]
  },
  {
   "attachments": {},
   "cell_type": "markdown",
   "metadata": {},
   "source": [
    "Los diccionarios en Python son una estructura de datos que permite almacenar su contenido en forma de llave y valor.\n",
    "\n",
    "Un diccionario en Python es una colección de elementos, donde cada uno tiene una llave `key` y un valor `value`. Los diccionarios se pueden crear con llaves `{}` separando con una coma cada par `key: value`. Tambien se pueden crear usando la función dict y pasando el nombre de las llaves(keys).\n",
    "\n",
    "Ejemplo:\n",
    "\n",
    "```python\n",
    "# información de una persona\n",
    "p1 = {\n",
    "    \"Name\": \"Daniela\",\n",
    "    \"Age\": 24,\n",
    "    \"Teams\": [\"Bear & Bunny\", \"Bunny & Others\"] \n",
    "}\n",
    "\n",
    "p2 = dict([\n",
    "    (\"Name\", \"Tania\"),\n",
    "    (\"Age\", 20),\n",
    "    (\"Teams\", [\"Alpha\"]) \n",
    "])\n",
    "\n",
    "p3 = dict(Name=\"Martha\",\n",
    "          Age= 20,\n",
    "          Teams= [\"Beta\"])\n",
    "\n",
    "# usando zip, listas y dict\n",
    "fruits = [\"Apple\", \"Pear\", \"Peach\", \"Banana\"]\n",
    "prices = [0.35, 0.40, 0.40, 0.28]\n",
    "\n",
    "fruit_dictionary = dict(zip(fruits, prices))\n",
    "\n",
    "print(fruit_dictionary) # {'Apple': 0.35, 'Pear': 0.4, 'Peach': 0.4, 'Banana': 0.28}\n",
    "\n",
    "```\n",
    "\n",
    "A partir de Python 3.11.2 podemos usar TypeDict para que una clase sea usada para crear diccionarios`.\n",
    "Ejemplo:\n",
    "\n",
    "```python\n",
    "class Movie(TypedDict):\n",
    "   title: str\n",
    "   year: NotRequired[int]\n",
    "\n",
    "m1: Movie = {\"title\": \"Black Panther\", \"year\": 2018}\n",
    "```"
   ]
  },
  {
   "attachments": {},
   "cell_type": "markdown",
   "metadata": {},
   "source": [
    "# Creando diccionarios en Python"
   ]
  },
  {
   "cell_type": "code",
   "execution_count": 2,
   "metadata": {},
   "outputs": [
    {
     "name": "stdout",
     "output_type": "stream",
     "text": [
      "{'nombre': '5 Quesos', 'precio': 270.5, 'disponible': True, 'ingredientes': [{'nombre': 'mozarella'}, {'nombre': 'manchego'}, {'nombre': 'parmesano'}, {'nombre': 'cheddar'}, {'nombre': 'brie'}]}\n",
      "<class 'dict'>\n"
     ]
    }
   ],
   "source": [
    "pizza = {\n",
    "    \"nombre\": \"5 Quesos\",\n",
    "    \"precio\": 270.50,\n",
    "    \"disponible\": True,\n",
    "    \"ingredientes\": [\n",
    "        {\"nombre\": \"mozarella\"},\n",
    "        {\"nombre\": \"manchego\"},\n",
    "        {\"nombre\": \"parmesano\"},\n",
    "        {\"nombre\": \"cheddar\"},\n",
    "        {\"nombre\": \"brie\"}\n",
    "    ]\n",
    "}\n",
    "print(pizza)\n",
    "print(type(pizza))"
   ]
  },
  {
   "attachments": {},
   "cell_type": "markdown",
   "metadata": {},
   "source": [
    "## Obteniendo elementos de un Diccionario\n",
    "\n",
    "{Llave: Valor}\n",
    "\n",
    "diccionario[Llave] -> Valor"
   ]
  },
  {
   "cell_type": "code",
   "execution_count": 3,
   "metadata": {},
   "outputs": [
    {
     "name": "stdout",
     "output_type": "stream",
     "text": [
      "5 Quesos\n",
      "[{'nombre': 'mozarella'}, {'nombre': 'manchego'}, {'nombre': 'parmesano'}, {'nombre': 'cheddar'}, {'nombre': 'brie'}]\n",
      "mozarella\n"
     ]
    }
   ],
   "source": [
    "print(pizza[\"nombre\"])\n",
    "\n",
    "print(pizza[\"ingredientes\"])\n",
    "print(pizza[\"ingredientes\"][0][\"nombre\"])"
   ]
  },
  {
   "cell_type": "code",
   "execution_count": 4,
   "metadata": {},
   "outputs": [
    {
     "ename": "KeyError",
     "evalue": "'Nombre'",
     "output_type": "error",
     "traceback": [
      "\u001b[1;31m---------------------------------------------------------------------------\u001b[0m",
      "\u001b[1;31mKeyError\u001b[0m                                  Traceback (most recent call last)",
      "Cell \u001b[1;32mIn[4], line 1\u001b[0m\n\u001b[1;32m----> 1\u001b[0m \u001b[39mprint\u001b[39m(pizza[\u001b[39m\"\u001b[39m\u001b[39mNombre\u001b[39m\u001b[39m\"\u001b[39m])\n",
      "\u001b[1;31mKeyError\u001b[0m: 'Nombre'"
     ]
    }
   ],
   "source": [
    "print(pizza[\"Nombre\"])\n"
   ]
  },
  {
   "cell_type": "code",
   "execution_count": 5,
   "metadata": {},
   "outputs": [
    {
     "name": "stdout",
     "output_type": "stream",
     "text": [
      "None\n",
      "5 Quesos\n"
     ]
    }
   ],
   "source": [
    "print(pizza.get(\"Nombre\")) # None\n",
    "print(pizza.get(\"nombre\")) # 5 Quesos"
   ]
  },
  {
   "attachments": {},
   "cell_type": "markdown",
   "metadata": {},
   "source": [
    "# Obteniendo las llaves de un diccionario\n",
    "\n",
    "Para obtener las llaves de un diccionario, usaremos el metodo `keys`, el cuál retornara llas llaves de un diccionario en una lista. Ejemplo:\n",
    "\n",
    "```python\n",
    "p1 = {\n",
    "    \"Name\": \"Daniela\",\n",
    "    \"Age\": 24,\n",
    "    \"Teams\": [\"Bear & Bunny\", \"Bunny & Others\"] \n",
    "}\n",
    "print(p1.keys()) # dict_keys(['Name', 'Age', 'Teams'])\n",
    "```"
   ]
  },
  {
   "cell_type": "code",
   "execution_count": 6,
   "metadata": {},
   "outputs": [
    {
     "name": "stdout",
     "output_type": "stream",
     "text": [
      "dict_keys(['nombre', 'precio', 'disponible', 'ingredientes'])\n",
      "dict_keys(['nombre'])\n"
     ]
    }
   ],
   "source": [
    "print(pizza.keys())\n",
    "print(pizza[\"ingredientes\"][0].keys())"
   ]
  },
  {
   "attachments": {},
   "cell_type": "markdown",
   "metadata": {},
   "source": [
    "## Modificando diccionarios"
   ]
  },
  {
   "attachments": {},
   "cell_type": "markdown",
   "metadata": {},
   "source": [
    "### Cambiando valores"
   ]
  },
  {
   "attachments": {},
   "cell_type": "markdown",
   "metadata": {},
   "source": [
    "diccionario[llave] = nuevo valor"
   ]
  },
  {
   "cell_type": "code",
   "execution_count": 7,
   "metadata": {},
   "outputs": [
    {
     "name": "stdout",
     "output_type": "stream",
     "text": [
      "{'nombre': 'brie'}\n",
      "{'nombre': 'Cebolla'}\n"
     ]
    }
   ],
   "source": [
    "pizza2 = {\n",
    "    \"nombre\": \"Hawaiiana\",\n",
    "    \"precio\": 250,\n",
    "    \"disponible\": True,\n",
    "    \"ingredientes\": [\n",
    "        {\"nombre\": \"Pina\"},\n",
    "        {\"nombre\": \"jambon\"},\n",
    "        {\"nombre\": \"Mozarella\"},\n",
    "        {\"nombre\": \"Peper\"},\n",
    "        {\"nombre\": \"brie\"}\n",
    "    ]\n",
    "}\n",
    "\n",
    "print(pizza2[\"ingredientes\"][-1])\n",
    "\n",
    "pizza2[\"ingredientes\"][-1][\"nombre\"] = \"Cebolla\"\n",
    "\n",
    "print(pizza2[\"ingredientes\"][-1])"
   ]
  },
  {
   "attachments": {},
   "cell_type": "markdown",
   "metadata": {},
   "source": [
    "### Actualizando valores con update"
   ]
  },
  {
   "cell_type": "code",
   "execution_count": 8,
   "metadata": {},
   "outputs": [
    {
     "name": "stdout",
     "output_type": "stream",
     "text": [
      "{'nombre': 'Hawaiiana', 'precio': 250, 'disponible': True, 'ingredientes': [{'nombre': 'Pina'}, {'nombre': 'jambon'}, {'nombre': 'Mozarella'}, {'nombre': 'Peper'}, {'nombre': 'Cebolla'}]}\n",
      "{'nombre': 'Hawaiiana', 'precio': 250, 'disponible': True, 'ingredientes': [{'nombre': 'Piña'}, {'nombre': 'jamon'}, {'nombre': 'Mozarella'}, {'nombre': 'Pimientos'}, {'nombre': 'Cebolla'}]}\n"
     ]
    }
   ],
   "source": [
    "ingredientes = [\n",
    "    {\"nombre\": \"Piña\"},\n",
    "    {\"nombre\": \"jamon\"},\n",
    "    {\"nombre\": \"Mozarella\"},\n",
    "    {\"nombre\": \"Pimientos\"},\n",
    "    {\"nombre\": \"Cebolla\"}\n",
    "]\n",
    "print(pizza2)\n",
    "pizza2.update({\"ingredientes\": ingredientes})\n",
    "print(pizza2)"
   ]
  },
  {
   "cell_type": "code",
   "execution_count": 9,
   "metadata": {},
   "outputs": [
    {
     "name": "stdout",
     "output_type": "stream",
     "text": [
      "{'nombre': 'Hawaiiana', 'precio': 250, 'disponible': True, 'ingredientes': [{'nombre': 'Piña'}, {'nombre': 'jamon'}, {'nombre': 'Mozarella'}, {'nombre': 'Pimientos'}, {'nombre': 'Cebolla'}]}\n"
     ]
    }
   ],
   "source": [
    "print(pizza2)"
   ]
  },
  {
   "attachments": {},
   "cell_type": "markdown",
   "metadata": {},
   "source": [
    "### Eliminando elementos de un diccionario\n",
    "\n",
    "- **del**\n",
    "- **.pop(elemento)**"
   ]
  },
  {
   "cell_type": "code",
   "execution_count": 10,
   "metadata": {},
   "outputs": [
    {
     "name": "stdout",
     "output_type": "stream",
     "text": [
      "{'nombre': 'bistec', 'nombre2': 'asada', 'precio': 18}\n",
      "{'nombre2': 'asada', 'precio': 18}\n",
      "{'precio': 18}\n"
     ]
    }
   ],
   "source": [
    "taco = {\n",
    "    \"nombre\": \"bistec\",\n",
    "    \"nombre2\": \"asada\",\n",
    "    \"precio\": 18\n",
    "}\n",
    "print(taco)\n",
    "\n",
    "del(taco[\"nombre\"])\n",
    "print(taco)\n",
    "\n",
    "\n",
    "taco.pop(\"nombre2\")\n",
    "print(taco)"
   ]
  },
  {
   "attachments": {},
   "cell_type": "markdown",
   "metadata": {},
   "source": [
    "### Iterando elementos con items"
   ]
  },
  {
   "cell_type": "code",
   "execution_count": 15,
   "metadata": {},
   "outputs": [],
   "source": [
    "mangas = {\n",
    "    2013: {\n",
    "        1: \"One Piece\",\n",
    "        2: \"Samuray X\",\n",
    "        3: \"Nana\"\n",
    "    },\n",
    "    2014: {\n",
    "        4: \"Full metal Alchemist\",\n",
    "        5: \"Naruto\",\n",
    "        6: \"Hajime no Ippo\"\n",
    "    }\n",
    "}"
   ]
  },
  {
   "cell_type": "code",
   "execution_count": 16,
   "metadata": {},
   "outputs": [
    {
     "name": "stdout",
     "output_type": "stream",
     "text": [
      "4 Full metal Alchemist\n",
      "5 Naruto\n",
      "6 Hajime no Ippo\n"
     ]
    }
   ],
   "source": [
    "# Iterar sobre el 2014\n",
    "for rank, name in mangas[2014].items():\n",
    "    # Imprime el rank y el nombre\n",
    "    print(rank, name)"
   ]
  },
  {
   "cell_type": "code",
   "execution_count": 17,
   "metadata": {},
   "outputs": [
    {
     "name": "stdout",
     "output_type": "stream",
     "text": [
      "1 One Piece\n",
      "2 Samuray X\n",
      "3 Nana\n"
     ]
    }
   ],
   "source": [
    "# Iterar sobre el 2013\n",
    "for rank, name in mangas[2013].items():\n",
    "    # Imprime el rank y el nombre\n",
    "    print(rank, name)"
   ]
  },
  {
   "attachments": {},
   "cell_type": "markdown",
   "metadata": {},
   "source": [
    "### Verificando la información de un diccionario\n",
    "\n",
    "- **get**\n",
    "- **in**"
   ]
  },
  {
   "cell_type": "code",
   "execution_count": 18,
   "metadata": {},
   "outputs": [
    {
     "name": "stdout",
     "output_type": "stream",
     "text": [
      "None\n"
     ]
    }
   ],
   "source": [
    "print(pizza.get(\"Ingredientes\"))"
   ]
  },
  {
   "cell_type": "code",
   "execution_count": 19,
   "metadata": {},
   "outputs": [
    {
     "data": {
      "text/plain": [
       "False"
      ]
     },
     "execution_count": 19,
     "metadata": {},
     "output_type": "execute_result"
    }
   ],
   "source": [
    "\"Ingredientes\" in pizza"
   ]
  },
  {
   "cell_type": "code",
   "execution_count": 20,
   "metadata": {},
   "outputs": [
    {
     "data": {
      "text/plain": [
       "True"
      ]
     },
     "execution_count": 20,
     "metadata": {},
     "output_type": "execute_result"
    }
   ],
   "source": [
    "\"ingredientes\" in pizza"
   ]
  }
 ],
 "metadata": {
  "kernelspec": {
   "display_name": "intro_python",
   "language": "python",
   "name": "python3"
  },
  "language_info": {
   "codemirror_mode": {
    "name": "ipython",
    "version": 3
   },
   "file_extension": ".py",
   "mimetype": "text/x-python",
   "name": "python",
   "nbconvert_exporter": "python",
   "pygments_lexer": "ipython3",
   "version": "3.11.0"
  },
  "orig_nbformat": 4,
  "vscode": {
   "interpreter": {
    "hash": "b5eac5827db45dbed8ebc74130b8e4a26072146af2a1fea4329943b3d88a2400"
   }
  }
 },
 "nbformat": 4,
 "nbformat_minor": 2
}
