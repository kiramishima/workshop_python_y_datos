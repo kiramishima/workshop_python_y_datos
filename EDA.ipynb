{
 "cells": [
  {
   "attachments": {},
   "cell_type": "markdown",
   "metadata": {},
   "source": [
    "# **¿Qué es EDA?**\n",
    "\n",
    "Exploratory Data Analysis (EDA) o Analisis Exploratorio de Datos (AED)\n",
    "\n",
    "## **Objetivo**\n",
    "\n",
    "Utilizar los datos para responder preguntas y guiar la toma de decisiones."
   ]
  },
  {
   "attachments": {},
   "cell_type": "markdown",
   "metadata": {},
   "source": [
    "# **Metodología CRISP-DM**\n",
    "\n",
    "**CRISP-DM** (Cross-Industry Standart Process for Data Mining) se puede considerar como la metodología de facto para proyectos dedicados a extraer valor de los datos.\n",
    "\n",
    "Durante estos veinte años, la metodología CRISP-DM ha sido fuente de inspiración de otros estándares como SEMMA de SAS o ASUM-DM de IBM, así como ha dado lugar a múltiples variantes que amplían o particularizan CRISP-DM a una industria o tipo de proyecto.\n",
    "\n",
    "La metodología **CRISP-DM** se conceptualiza en 6 fases. En la primera fase, el entendimiento del negocio, el equipo de trabajo debe comprender los objetivos y requisitos del proyecto definidos por el cliente, para poder convertir este conocimiento en una definición técnica del problema.\n",
    "\n",
    "![alt](https://www.iic.uam.es/wp-content/uploads/2021/11/CRISP-DM.jpg)"
   ]
  },
  {
   "attachments": {},
   "cell_type": "markdown",
   "metadata": {},
   "source": [
    "# **Otras metodologías**"
   ]
  },
  {
   "attachments": {},
   "cell_type": "markdown",
   "metadata": {},
   "source": [
    "- **KDD** (Knowledge Discovery in Databases)\n",
    "- **SEMMA** (Sample, Explore, Modify, Model and Access)\n",
    "- **ASUM DM** (Similar a CRISP-DM pero creada por IBM)\n",
    "- **TDPS** (es la más completa, fue creada por Microsoft)\n",
    "\n",
    "\n",
    "Mas información: [https://blog.maestriasydiplomados.tec.mx/5-metodologias-de-las-ciencias-de-datos-que-te-ayudar-para-su-estudio](https://blog.maestriasydiplomados.tec.mx/5-metodologias-de-las-ciencias-de-datos-que-te-ayudar-para-su-estudio)"
   ]
  }
 ],
 "metadata": {
  "kernelspec": {
   "display_name": "intro_python",
   "language": "python",
   "name": "python3"
  },
  "language_info": {
   "name": "python",
   "version": "3.11.2"
  },
  "orig_nbformat": 4,
  "vscode": {
   "interpreter": {
    "hash": "b5eac5827db45dbed8ebc74130b8e4a26072146af2a1fea4329943b3d88a2400"
   }
  }
 },
 "nbformat": 4,
 "nbformat_minor": 2
}
