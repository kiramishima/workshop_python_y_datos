{
 "cells": [
  {
   "attachments": {},
   "cell_type": "markdown",
   "metadata": {},
   "source": [
    "# ¿Qué es EDA?\n",
    "\n",
    "Exploratory Data Analysis (EDA) o Analisis exploratorio de datos"
   ]
  }
 ],
 "metadata": {
  "kernelspec": {
   "display_name": "intro_python",
   "language": "python",
   "name": "python3"
  },
  "language_info": {
   "name": "python",
   "version": "3.11.2"
  },
  "orig_nbformat": 4,
  "vscode": {
   "interpreter": {
    "hash": "b5eac5827db45dbed8ebc74130b8e4a26072146af2a1fea4329943b3d88a2400"
   }
  }
 },
 "nbformat": 4,
 "nbformat_minor": 2
}
