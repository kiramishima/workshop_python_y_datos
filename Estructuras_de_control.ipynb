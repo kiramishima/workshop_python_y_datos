{
 "cells": [
  {
   "attachments": {},
   "cell_type": "markdown",
   "metadata": {},
   "source": [
    "# Estructuras de control\n",
    "\n",
    "Las estructuras de control nos permiten repetir y/o ejecutar mediante ciertas condiciones un determinado bloque de código.\n",
    "\n",
    "Se dividen en 4 tipos:\n",
    "\n",
    "- Secuencial\n",
    "- De Selección o Condicionales\n",
    "    - if\n",
    "    - if else if\n",
    "    - Op. ternario\n",
    "    - switch\n",
    "- Iterativas o repetitivas\n",
    "    - while\n",
    "    - for\n",
    "- De Salto*\n",
    "    - break\n",
    "    - continue"
   ]
  },
  {
   "attachments": {},
   "cell_type": "markdown",
   "metadata": {},
   "source": [
    "# Secuencial\n",
    "\n",
    "Las instrucciones de un programa se ejecutan por defecto en orden secuencial. Esto significa que las instrucciones se ejecutan en secuencia, una después de otra, en el orden en que aparecen escritas dentro del programa.\n",
    "\n",
    "Ejemplo:\n",
    "\n",
    "```python\n",
    "a = 1           # 1\n",
    "b = 2           # 2\n",
    "c = a + b       # 3\n",
    "print(c) # 3    # 4\n",
    "```"
   ]
  },
  {
   "attachments": {},
   "cell_type": "markdown",
   "metadata": {},
   "source": [
    "# Condicionales o de selección\n",
    "\n",
    "Es una de las estructuras que permiten modificar el orden de ejecución de las instrucciones del programa.\n",
    "\n",
    "Una estructura condicional determina si se ejecutan unas acciones u otras según se cumpla o no una determinada condición.\n",
    "\n",
    "La condición que se comprueba para decidir si unas instrucciones se ejecutan o no debe ser una expresión booleana es decir debe dar como resultado un valor booleano `true` ó `false`.\n",
    "\n",
    "En Python tenemos: `ìf` , `else`, `operador ternario` y `\"switch\"`.\n"
   ]
  },
  {
   "attachments": {},
   "cell_type": "markdown",
   "metadata": {},
   "source": [
    "## if, else & elif (else if)\n",
    "\n",
    "Con `if` & `else` al igual que otros lenguajes de programación, el programa evaluara una condición dentro del `if`, si la condición regresa `True`, entonces entrara y ejecutara lo que se encuentre dentro del `if`, de lo contrario accedera al `else`, siempre y cuando exista un `else` que ejecute otra instrucción."
   ]
  },
  {
   "attachments": {},
   "cell_type": "markdown",
   "metadata": {},
   "source": [
    "**Sintaxis**\n",
    "\n",
    "```python\n",
    "if condition:\n",
    "    # codigo a ejecutar\n",
    "\n",
    "if condition:\n",
    "    # codigo a ejecutar si se cumple\n",
    "else:\n",
    "    # codigo a ejecutar si no se cumple lo anterior\n",
    "\n",
    "```"
   ]
  },
  {
   "attachments": {},
   "cell_type": "markdown",
   "metadata": {},
   "source": [
    "**Tabla de Operadores relacionales**\n",
    "\n",
    "| Operador | Descripción | Uso |\n",
    "| --- | --- | --- |\n",
    "| \\> | Devuelve True si el operador de la izquierda es mayor que el operador de la derecha | 12 > 3 devuelve True |\n",
    "| < | Devuelve True si el operador de la derecha es mayor que el operador de la izquierda | 12 < 3 devuelve False |\n",
    "| \\== | Devuelve True si ambos operandos son iguales | 12 == 3 devuelve False |\n",
    "| \\>= | Devuelve True si el operador de la izquierda es mayor o igual que el operador de la derecha | 12 >= 3 devuelve True |\n",
    "| <= | Devuelve True si el operador de la derecha es mayor o igual que el operador de la izquierda | 12 <= 3 devuelve False |\n",
    "| != | Devuelve True si ambos operandos no son iguales | 12 != 3 devuelve True |"
   ]
  },
  {
   "attachments": {},
   "cell_type": "markdown",
   "metadata": {},
   "source": [
    "**Tabla de Operadores logicos**\n",
    "\n",
    "| Operador | Descripción | Uso |\n",
    "| --- | --- | --- |\n",
    "| and | Devuelve True si ambos operandos son True | a and b |\n",
    "| or | Devuelve True si alguno de los operandos es True | a or b |\n",
    "| not | Devuelve True si alguno de los operandos False | not a |"
   ]
  },
  {
   "attachments": {},
   "cell_type": "markdown",
   "metadata": {},
   "source": [
    "**Ejemplo**\n",
    "\n",
    "```python\n",
    "a = 2\n",
    "b = 5\n",
    "if a > b:\n",
    "    print(\"{} es mayor que {}\".format(a, b))\n",
    "\n",
    "if a > b:\n",
    "    print(\"{} es mayor que {}\".format(a, b))\n",
    "else:\n",
    "    print(\"{} no es mayor que {}\".format(a, b))\n",
    "\n",
    "```"
   ]
  },
  {
   "attachments": {},
   "cell_type": "markdown",
   "metadata": {},
   "source": [
    "**Ejemplo 2**\n",
    "\n",
    "```python\n",
    "a = 2\n",
    "b = 5\n",
    "c = 6\n",
    "\n",
    "if a > b:\n",
    "    print(\"{} es mayor que {}\".format(a, b))\n",
    "else:\n",
    "    if a > c:\n",
    "        print(\"{} es mayor que {} pero menor que {}\".format(a, c, b))\n",
    "    else:\n",
    "        print(\"{} no es mayor que {} ni mayor a {}\".format(a, c, b))\n",
    "```"
   ]
  },
  {
   "cell_type": "code",
   "execution_count": 3,
   "metadata": {},
   "outputs": [
    {
     "name": "stdout",
     "output_type": "stream",
     "text": [
      "Dios tiene a sus favoritos\n"
     ]
    }
   ],
   "source": [
    "te_gusta_ella = True\n",
    "tu_le_gustas = True\n",
    "\n",
    "if te_gusta_ella and tu_le_gustas:\n",
    "    print(\"Dios tiene a sus favoritos\")\n",
    "else:\n",
    "    print(\"Dios tiene a sus favoritos, pero tu no lo eres\")"
   ]
  },
  {
   "attachments": {},
   "cell_type": "markdown",
   "metadata": {},
   "source": [
    "**Sintaxis**\n",
    "\n",
    "```python\n",
    "\n",
    "if condition_1:\n",
    "    # codigo a ejecutar si se cumple la condicion 1\n",
    "elif condition_2:\n",
    "    # codigo a ejecutar si se cumple la condicion 2\n",
    "else:\n",
    "    # ejecución default si no se cumplen las condiciones anteriores\n",
    "\n",
    "```"
   ]
  },
  {
   "cell_type": "code",
   "execution_count": 7,
   "metadata": {},
   "outputs": [
    {
     "name": "stdout",
     "output_type": "stream",
     "text": [
      "Friendzoneado\n"
     ]
    }
   ],
   "source": [
    "te_gusta_ella = True\n",
    "es_tu_amiga = True\n",
    "tu_le_gustas = False\n",
    "\n",
    "if not es_tu_amiga and te_gusta_ella and tu_le_gustas:\n",
    "    print(\"Dios tiene a sus favoritos\")\n",
    "elif es_tu_amiga and te_gusta_ella and not tu_le_gustas:\n",
    "    print(\"Friendzoneado\")\n",
    "else:\n",
    "    print(\"Dios tiene a sus favoritos, pero tu no lo eres\")"
   ]
  },
  {
   "attachments": {},
   "cell_type": "markdown",
   "metadata": {},
   "source": [
    "## Operador Ternario\n",
    "\n",
    "En otros lenguajes al referirnos al operador Ternario, es hacer referencia al simbolo `?` precedido de alguna condición `(Condición) ? (Si da verdadero) : (Si da falso);`, por ejemplo:\n",
    "\n",
    "```php\n",
    "$lang = 'js';\n",
    "print($lang == 'Java' ? \"Si son iguales\" : \"Como van a ser lo mismo XD\");\n",
    "```\n",
    "\n",
    "En python usar el operador ternario es distinto, no usamos el simbolo `?`, simplemente colocamos en una linea un if y un else, donde el valor de lado izquierdo sera tomado cuando la condición sea verdadera y la de lado derecho cuando la condición devuelva un falso.\n",
    "\n",
    "```python\n",
    "lang = 'js'\n",
    "print(\"Si son iguales\" if lang == 'java' else \"Como van a ser lo mismo XD\")\n",
    "```"
   ]
  },
  {
   "cell_type": "code",
   "execution_count": 9,
   "metadata": {},
   "outputs": [
    {
     "name": "stdout",
     "output_type": "stream",
     "text": [
      "No es 5\n"
     ]
    }
   ],
   "source": [
    "x = 5\n",
    "print(\"Es 5\" if x == 5 else \"No es 5\") # Es 5"
   ]
  },
  {
   "attachments": {},
   "cell_type": "markdown",
   "metadata": {},
   "source": [
    "## Switch (aka match)\n",
    "\n",
    "Hasta antes de la version 3.10, Python no contaba con un switch, todo se realizaba usando if, else y elif.\n",
    "De la versión 3.10 hacía arriba podemos usar que funciona de manera similar a un switch."
   ]
  },
  {
   "cell_type": "code",
   "execution_count": null,
   "metadata": {},
   "outputs": [],
   "source": [
    "condicion = 0\n",
    "if condicion == 1:\n",
    "    print(\"Haz a\")\n",
    "elif condicion == 2:\n",
    "    print(\"Haz b\")\n",
    "elif condicion == 3:\n",
    "    print(\"Haz c\")\n",
    "else:\n",
    "    print(\"Haz d\")"
   ]
  },
  {
   "attachments": {},
   "cell_type": "markdown",
   "metadata": {},
   "source": [
    "**Sintaxis**\n",
    "\n",
    "```python\n",
    "match termino:\n",
    "    case patron_1:\n",
    "        # codigo a ejecutar\n",
    "    case patron_2:\n",
    "        # codigo a ejecutar\n",
    "    case patron_3:\n",
    "        # codigo a ejecutar\n",
    "    ...\n",
    "    case patron_n:\n",
    "        # codigo a ejecutar\n",
    "    case _:\n",
    "        # codigo default a ejecutar\n",
    "```\n"
   ]
  },
  {
   "cell_type": "code",
   "execution_count": 11,
   "metadata": {},
   "outputs": [
    {
     "name": "stdout",
     "output_type": "stream",
     "text": [
      "Haz d\n"
     ]
    }
   ],
   "source": [
    "condicion = 5\n",
    "match condicion:\n",
    "    case 1:\n",
    "        print(\"Haz a\")\n",
    "    case 2:\n",
    "        print(\"Haz b\")\n",
    "    case 3:\n",
    "        print(\"Haz c\")\n",
    "    case _:\n",
    "        print(\"Haz d\")"
   ]
  },
  {
   "attachments": {},
   "cell_type": "markdown",
   "metadata": {},
   "source": [
    "**Operadores de identidad**\n",
    "\n",
    "Un operador de identidad se emplea para comprobar si dos variables emplean la misma ubicación en memoria.\n",
    "\n",
    "`is` y `is not` son operadores de identidad.\n",
    "\n",
    "`is` devuelve True si los operandos se refieren al mismo objeto. En caso contrario devuelve False.\n",
    "\n",
    "`is not` devuelve True si los operandos no se refieren al mismo objeto. En caso contrario devuelve False."
   ]
  },
  {
   "cell_type": "code",
   "execution_count": null,
   "metadata": {},
   "outputs": [],
   "source": [
    "a = 3\n",
    "b = 3\n",
    "c = 4\n",
    "print(a is b) # muestra True\n",
    "print(a is not b) # muestra False\n",
    "print(a is not c) # muestra True\n",
    "\n",
    "x = 1\n",
    "y = x\n",
    "z = y\n",
    "print(z is 1) # muestra True\n",
    "print(z is x) # muestra True\n",
    "\n",
    "str1 = \"FreeCodeCamp\"\n",
    "str2 = \"FreeCodeCamp\"\n",
    "\n",
    "print(str1 is str2) # muestra True\n",
    "print(\"Code\" is str2) # muestra False\n",
    "\n",
    "a = [10,20,30]\n",
    "b = [10,20,30]\n",
    "\n",
    "print(a is b) # muestra False (ya que las listas son objetos mutables en Python)"
   ]
  },
  {
   "attachments": {},
   "cell_type": "markdown",
   "metadata": {},
   "source": [
    "# Iterativas o repetitivas\n",
    "\n",
    "Esta estructura de control permite ejecutar de forma repetida una instrucción o un bloque de instrucciones.\n",
    "Las instrucciones se repiten mientras que se cumpla una determinada condición.\n",
    "Esta condición se conoce como condición de salida del bucle.\n",
    "En Python las estructuras iterativas/repetitivas se implementan mediante:\n",
    "\n",
    "- while\n",
    "- for"
   ]
  },
  {
   "attachments": {},
   "cell_type": "markdown",
   "metadata": {},
   "source": [
    "**While**\n",
    "\n",
    "El uso del `while` nos permite **ejecutar una sección de código repetidas veces**, de ahí su nombre. El código se ejecutará **mientras** una condición determinada se cumpla. Cuando se deje de cumplir, se saldrá del bucle y se continuará la ejecución normal. Llamaremos **iteración** a una ejecución completa del bloque de código.\n",
    "\n",
    "Cabe destacar que existe dos tipos de bucles, los que tienen un número de iteraciones **no definidas**, y los que tienen un número de iteraciones **definidas**. El `while` estaría dentro del primer tipo. Mas adelante veremos los `for`, que se engloban en el segundo.\n",
    "\n"
   ]
  },
  {
   "attachments": {},
   "cell_type": "markdown",
   "metadata": {},
   "source": [
    "**Sintaxis**\n",
    "```\n",
    "1 while <condicion>:\n",
    "2     # Codigo a evaluar\n",
    "```"
   ]
  },
  {
   "attachments": {},
   "cell_type": "markdown",
   "metadata": {},
   "source": [
    "**Ejemplo**\n",
    "\n",
    "```python\n",
    "n = 0\n",
    "while n < 10:\n",
    "    print(\"n = {}\".format(n))\n",
    "    n += 1\n",
    "```"
   ]
  },
  {
   "cell_type": "code",
   "execution_count": 12,
   "metadata": {},
   "outputs": [
    {
     "name": "stdout",
     "output_type": "stream",
     "text": [
      "n = 0\n",
      "n = 1\n",
      "n = 2\n",
      "n = 3\n",
      "n = 4\n",
      "n = 5\n",
      "n = 6\n",
      "n = 7\n",
      "n = 8\n",
      "n = 9\n"
     ]
    }
   ],
   "source": [
    "\n",
    "n = 0\n",
    "while n < 10:\n",
    "    print(\"n = {}\".format(n))\n",
    "    n += 1"
   ]
  },
  {
   "cell_type": "code",
   "execution_count": 13,
   "metadata": {},
   "outputs": [
    {
     "name": "stdout",
     "output_type": "stream",
     "text": [
      "n = 0\n",
      "n = 1\n",
      "n = 2\n",
      "n = 3\n",
      "n = 4\n",
      "n = 5\n",
      "n = 6\n",
      "n = 7\n",
      "n = 8\n",
      "n = 9\n",
      "salio del while ya que 10 no es menor a 10\n"
     ]
    }
   ],
   "source": [
    "n = 0\n",
    "while n < 10:\n",
    "    print(\"n = {}\".format(n))\n",
    "    n += 1\n",
    "else:\n",
    "    print(\"salio del while ya que {} no es menor a 10\".format(n))"
   ]
  },
  {
   "attachments": {},
   "cell_type": "markdown",
   "metadata": {},
   "source": [
    "**for**\n",
    "\n",
    "El ciclo for, a diferencia del ciclo while, tienen una duración determinada y una sintaxis diferente que nos permite asignar una variable temporal que cambiará de valor con cada iteración (iterador). Gracias al `for` podemos iterar sobre una secuencia como listas, tuplas o una colección de objetos. \n",
    "Los podemos implementar de la siguiente manera:\n",
    "\n",
    "```\n",
    "1 for iterator_var in <collection>\n",
    "2    <loop body>\n",
    "\n",
    "```"
   ]
  },
  {
   "attachments": {},
   "cell_type": "markdown",
   "metadata": {},
   "source": [
    "### Ejemplo\n",
    "\n",
    "```python\n",
    "for i in range(0, 5):\n",
    "    print(i)\n",
    "\n",
    "# 0\n",
    "# 1\n",
    "# 2\n",
    "# 3\n",
    "# 4\n",
    "```"
   ]
  },
  {
   "cell_type": "code",
   "execution_count": 17,
   "metadata": {},
   "outputs": [
    {
     "name": "stdout",
     "output_type": "stream",
     "text": [
      "0\n",
      "1\n",
      "2\n",
      "3\n",
      "4\n"
     ]
    }
   ],
   "source": [
    "for i in range(0, 5):\n",
    "    print(i)"
   ]
  },
  {
   "attachments": {},
   "cell_type": "markdown",
   "metadata": {},
   "source": [
    "### Iterando strings"
   ]
  },
  {
   "cell_type": "code",
   "execution_count": 18,
   "metadata": {},
   "outputs": [
    {
     "name": "stdout",
     "output_type": "stream",
     "text": [
      "J\n",
      "E\n",
      " \n",
      "T\n",
      "'\n",
      "A\n",
      "I\n",
      "M\n",
      "E\n"
     ]
    }
   ],
   "source": [
    "for i in \"JE T'AIME\":\n",
    "    print(i)"
   ]
  },
  {
   "attachments": {},
   "cell_type": "markdown",
   "metadata": {},
   "source": [
    "### Iterando listas y tuplas"
   ]
  },
  {
   "cell_type": "code",
   "execution_count": 19,
   "metadata": {},
   "outputs": [
    {
     "name": "stdout",
     "output_type": "stream",
     "text": [
      "[nswitch] - fornite\n",
      "[pc] - hogwarts legacy\n",
      "[xbox] - portal 2\n",
      "[playstation] - god of war\n"
     ]
    }
   ],
   "source": [
    "# years = [2014, 2023, 2010, 2018]\n",
    "games = [\"fornite\", \"hogwarts legacy\", \"portal 2\", \"god of war\"]\n",
    "platforms = [\"nswitch\", \"pc\", \"xbox\", \"playstation\"]\n",
    "pairs = zip(platforms, games)\n",
    "\n",
    "for platform, game in pairs:\n",
    "    print(\"[{}] - {}\".format(platform, game))"
   ]
  },
  {
   "attachments": {},
   "cell_type": "markdown",
   "metadata": {},
   "source": [
    "### Iterando Diccionarios"
   ]
  },
  {
   "cell_type": "code",
   "execution_count": 21,
   "metadata": {},
   "outputs": [
    {
     "name": "stdout",
     "output_type": "stream",
     "text": [
      "[id] = 1\n",
      "[total] = 200\n",
      "[coupon_code] = F20\n"
     ]
    }
   ],
   "source": [
    "customer = dict(id=1, total=200, coupon_code='F20')\n",
    "\n",
    "for key in customer:\n",
    "    print(\"[{}] = {}\".format(key, customer[key]))"
   ]
  },
  {
   "cell_type": "code",
   "execution_count": 22,
   "metadata": {},
   "outputs": [
    {
     "name": "stdout",
     "output_type": "stream",
     "text": [
      "[1] - F20\n",
      "[2] - P30\n",
      "[3] - P50\n",
      "[4] - F15\n"
     ]
    }
   ],
   "source": [
    "customers = [\n",
    "    dict(id=1, total=200, coupon_code='F20'),  # F20: fixed, £20\n",
    "    dict(id=2, total=150, coupon_code='P30'),  # P30: percent, 30%\n",
    "    dict(id=3, total=100, coupon_code='P50'),  # P50: percent, 50%\n",
    "    dict(id=4, total=110, coupon_code='F15'),  # F15: fixed, £15\n",
    "]\n",
    "for customer in customers:\n",
    "    print(\"[{}] - {}\".format(customer['id'], customer['coupon_code']))"
   ]
  },
  {
   "cell_type": "code",
   "execution_count": 24,
   "metadata": {},
   "outputs": [
    {
     "name": "stdout",
     "output_type": "stream",
     "text": [
      "[id] = 1\n",
      "[total] = 200\n",
      "[coupon_code] = F20\n",
      "[id] = 2\n",
      "[total] = 150\n",
      "[coupon_code] = P30\n",
      "[id] = 3\n",
      "[total] = 100\n",
      "[coupon_code] = P50\n",
      "[id] = 4\n",
      "[total] = 110\n",
      "[coupon_code] = F15\n"
     ]
    }
   ],
   "source": [
    "for customer in customers:\n",
    "    for key in customer:\n",
    "        print(\"[{}] = {}\".format(key, customer[key]))"
   ]
  },
  {
   "attachments": {},
   "cell_type": "markdown",
   "metadata": {},
   "source": [
    "### for-else"
   ]
  },
  {
   "cell_type": "code",
   "execution_count": 25,
   "metadata": {},
   "outputs": [
    {
     "name": "stdout",
     "output_type": "stream",
     "text": [
      "L\n",
      "E\n",
      "V\n",
      "I\n",
      "O\n",
      "S\n",
      "A\n",
      "Es LEVIOSA!!! NO LEEEVIOOSAAA\n"
     ]
    }
   ],
   "source": [
    "for i in \"LEVIOSA\":\n",
    "    print(i)\n",
    "else:\n",
    "    print(\"Es LEVIOSA!!! NO LEEEVIOOSAAA\")"
   ]
  },
  {
   "attachments": {},
   "cell_type": "markdown",
   "metadata": {},
   "source": [
    "# De Salto\n",
    "\n",
    "Una instrucción de salto provoca la modificación del flujo de ejecución de un programa.\n",
    "\n",
    "- break\n",
    "- continue"
   ]
  },
  {
   "attachments": {},
   "cell_type": "markdown",
   "metadata": {},
   "source": [
    "### break\n",
    "\n",
    "`break` nos permite alterar el comportamiento de los bucles `while` y `for`. Especificamente, permite terminar con la ejecución del bucle.\n",
    "\n",
    "```python\n",
    "for i in range(5):\n",
    "    print(i)\n",
    "    break\n",
    "\n",
    "# 0\n",
    "```"
   ]
  },
  {
   "attachments": {},
   "cell_type": "markdown",
   "metadata": {},
   "source": [
    "#### Ejemplo"
   ]
  },
  {
   "cell_type": "code",
   "execution_count": 26,
   "metadata": {},
   "outputs": [
    {
     "name": "stdout",
     "output_type": "stream",
     "text": [
      "0\n"
     ]
    }
   ],
   "source": [
    "for i in range(5):\n",
    "    print(i)\n",
    "    break"
   ]
  },
  {
   "attachments": {},
   "cell_type": "markdown",
   "metadata": {},
   "source": [
    "#### Ejemplo 2"
   ]
  },
  {
   "cell_type": "code",
   "execution_count": 27,
   "metadata": {},
   "outputs": [
    {
     "name": "stdout",
     "output_type": "stream",
     "text": [
      "{'id': 3, 'total': 100, 'coupon_code': 'P50', 'discount': 50}\n"
     ]
    }
   ],
   "source": [
    "for customer in customers:\n",
    "    if customer['coupon_code'] == 'P50':\n",
    "        customer['discount'] = 50\n",
    "        break\n",
    "\n",
    "print(customers[2]) # {'id': 3, 'total': 100, 'coupon_code': 'P50', 'discount': 50}"
   ]
  },
  {
   "attachments": {},
   "cell_type": "markdown",
   "metadata": {},
   "source": [
    "#### Ejemplo 3"
   ]
  },
  {
   "cell_type": "code",
   "execution_count": 28,
   "metadata": {},
   "outputs": [
    {
     "name": "stdout",
     "output_type": "stream",
     "text": [
      "id\n",
      "{'id': 1, 'total': 200, 'coupon_code': 'F20'}\n",
      "id\n",
      "{'id': 2, 'total': 150, 'coupon_code': 'P30'}\n",
      "id\n",
      "{'id': 3, 'total': 100, 'coupon_code': 'P50', 'discount': 50}\n",
      "id\n",
      "{'id': 4, 'total': 110, 'coupon_code': 'F15'}\n"
     ]
    }
   ],
   "source": [
    "for customer in customers:\n",
    "    for key in customer:\n",
    "        print(key)\n",
    "        break\n",
    "    print(customer)\n",
    "\n",
    "# id\n",
    "# {'id': 1, 'total': 200, 'coupon_code': 'F20'}\n",
    "# id\n",
    "# {'id': 2, 'total': 150, 'coupon_code': 'P30'}\n",
    "# id\n",
    "# {'id': 3, 'total': 100, 'coupon_code': 'P50', 'discount': 50}\n",
    "# id\n",
    "# {'id': 4, 'total': 110, 'coupon_code': 'F15'}"
   ]
  },
  {
   "attachments": {},
   "cell_type": "markdown",
   "metadata": {},
   "source": [
    "### continue\n",
    "\n",
    "`continue` se salta todo el código restante en la iteración actual y vuelve al principio en el caso de que aún queden iteraciones por completar.\n",
    "La diferencia entre el `break` y `continue` es que el `continue` no rompe el bucle, si no que pasa a la siguiente iteración saltando el código pendiente.\n",
    "\n",
    "```python\n",
    "cadena = 'Python'\n",
    "for letra in cadena:\n",
    "    if letra == 'P':\n",
    "        continue\n",
    "    print(letra)\n",
    "\n",
    "# y\n",
    "# t\n",
    "# h\n",
    "# o\n",
    "# n    \n",
    "```"
   ]
  },
  {
   "cell_type": "code",
   "execution_count": 31,
   "metadata": {},
   "outputs": [
    {
     "name": "stdout",
     "output_type": "stream",
     "text": [
      "y\n",
      "t\n",
      "h\n",
      "o\n",
      "n\n"
     ]
    }
   ],
   "source": [
    "cadena = 'Python'\n",
    "for letra in cadena:\n",
    "    if letra == 'P':\n",
    "        continue\n",
    "    print(letra)"
   ]
  }
 ],
 "metadata": {
  "kernelspec": {
   "display_name": "intro_python",
   "language": "python",
   "name": "python3"
  },
  "language_info": {
   "codemirror_mode": {
    "name": "ipython",
    "version": 3
   },
   "file_extension": ".py",
   "mimetype": "text/x-python",
   "name": "python",
   "nbconvert_exporter": "python",
   "pygments_lexer": "ipython3",
   "version": "3.11.0"
  },
  "orig_nbformat": 4,
  "vscode": {
   "interpreter": {
    "hash": "b5eac5827db45dbed8ebc74130b8e4a26072146af2a1fea4329943b3d88a2400"
   }
  }
 },
 "nbformat": 4,
 "nbformat_minor": 2
}
