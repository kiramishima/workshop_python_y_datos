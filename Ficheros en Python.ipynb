{
 "cells": [
  {
   "attachments": {},
   "cell_type": "markdown",
   "metadata": {},
   "source": [
    "# Archivos en Python\n",
    "\n",
    "Una de las tareas más comunes que puede realizar con Python es leer y escribir archivos. Ya sea escribiendo en un archivo de texto simple, leyendo un registro de servidor complicado o incluso analizando datos de bytes sin procesar, todas estas situaciones requieren leer o escribir un archivo.\n",
    "\n",
    "**Aprenderas**\n",
    "\n",
    "- Conceptos basicos de escritura y lectura en Python\n",
    "- Utilizar librerias para el manejo de JSON & XML"
   ]
  },
  {
   "attachments": {},
   "cell_type": "markdown",
   "metadata": {},
   "source": [
    "## Conceptos basícos\n",
    "\n",
    "- **Path** : Ruta para llegar a un directorio o archivo.\n",
    "- **Absolute Path** : Ruta completa. \n",
    "    - D:\\Workspace\\ws_python\\intro_python\\Ficheros....ipynb\n",
    "    - /home/darkhero/workspace/ws_python/intro_python/Ficheros....ipynb\n",
    "- **Relative Path**: Se base en las rutas del directorio desde donde ejecutemos un script.\n",
    "    - Ficheros....ipynb\n",
    "    - ..\\Ficheros....ipynb\n",
    "    - ./Ficheros....ipynb\n",
    "    - images\\sintaxis_clase_1.png\n",
    "- **Folder Path**\n",
    "    - images\n",
    "    - \"D:\\Workspace\\ws_python\\intro_python\\imagenes de gatitos\"\n",
    "    - \"imagenes de gatitos\"\n",
    "- **File Name**\n",
    "    - \"imagenes de gatitos 1.png\"\n",
    "    - imagen_1.png\n",
    "- **Extension**\n",
    "- **Encoding**"
   ]
  },
  {
   "attachments": {},
   "cell_type": "markdown",
   "metadata": {},
   "source": [
    "## Abriendo y cerrando un archivo en Python\n",
    "\n",
    "Cuando desee trabajar con un archivo, lo primero que debe hacer es abrirlo. Esto se hace invocando la función integrada open(). **open()** tiene un solo argumento requerido que es la ruta al archivo. **open()** tiene un solo retorno, el objeto de archivo:\n",
    "\n",
    "```python\n",
    "archivo = open('C:\\Archivos\\mi_archivo.txt')\n",
    "archivo = open('Archivos\\mi_archivo.txt')\n",
    "archivo = open('..\\Archivos\\mi_archivo.txt')\n",
    "```"
   ]
  },
  {
   "attachments": {},
   "cell_type": "markdown",
   "metadata": {},
   "source": [
    "**open** recibe más argumentos, el primero sera la ruta/path del archivo, el segundo parametro sera el modo en que deseamos abrir el archivo: `escritura`, `lectura` , etc. El tercer argumento sera la codificación."
   ]
  },
  {
   "attachments": {},
   "cell_type": "markdown",
   "metadata": {},
   "source": [
    "<table class=\"docutils align-default\" id=\"index-5\">\n",
    "<colgroup>\n",
    "<col style=\"width: 13%\">\n",
    "<col style=\"width: 88%\">\n",
    "</colgroup>\n",
    "<thead>\n",
    "<tr class=\"row-odd\"><th class=\"head\"><p>Character</p></th>\n",
    "<th class=\"head\"><p>Meaning</p></th>\n",
    "</tr>\n",
    "</thead>\n",
    "<tbody>\n",
    "<tr class=\"row-even\"><td><p><code class=\"docutils literal notranslate\"><span class=\"pre\">'r'</span></code></p></td>\n",
    "<td><p>open for reading (default)</p></td>\n",
    "</tr>\n",
    "<tr class=\"row-odd\"><td><p><code class=\"docutils literal notranslate\"><span class=\"pre\">'w'</span></code></p></td>\n",
    "<td><p>open for writing, truncating the file first</p></td>\n",
    "</tr>\n",
    "<tr class=\"row-even\"><td><p><code class=\"docutils literal notranslate\"><span class=\"pre\">'x'</span></code></p></td>\n",
    "<td><p>open for exclusive creation, failing if the file already exists</p></td>\n",
    "</tr>\n",
    "<tr class=\"row-odd\"><td><p><code class=\"docutils literal notranslate\"><span class=\"pre\">'a'</span></code></p></td>\n",
    "<td><p>open for writing, appending to the end of file if it exists</p></td>\n",
    "</tr>\n",
    "<tr class=\"row-even\"><td><p><code class=\"docutils literal notranslate\"><span class=\"pre\">'b'</span></code></p></td>\n",
    "<td><p>binary mode</p></td>\n",
    "</tr>\n",
    "<tr class=\"row-odd\"><td><p><code class=\"docutils literal notranslate\"><span class=\"pre\">'t'</span></code></p></td>\n",
    "<td><p>text mode (default)</p></td>\n",
    "</tr>\n",
    "<tr class=\"row-even\"><td><p><code class=\"docutils literal notranslate\"><span class=\"pre\">'+'</span></code></p></td>\n",
    "<td><p>open for updating (reading and writing)</p></td>\n",
    "</tr>\n",
    "</tbody>\n",
    "</table>"
   ]
  },
  {
   "cell_type": "code",
   "execution_count": 7,
   "metadata": {},
   "outputs": [
    {
     "name": "stdout",
     "output_type": "stream",
     "text": [
      "<_io.TextIOWrapper name='files\\\\ejemplo.txt' mode='r' encoding='utf-8'>\n"
     ]
    }
   ],
   "source": [
    "archivo = open('files\\\\ejemplo.txt')\n",
    "print(archivo)\n",
    "archivo.close()"
   ]
  },
  {
   "attachments": {},
   "cell_type": "markdown",
   "metadata": {},
   "source": [
    "> Es importante recordar que es su responsabilidad cerrar el archivo. \n",
    "> En la mayoría de los casos, al finalizar una aplicación o secuencia de comandos, el archivo se cerrará eventualmente. \n",
    "> Sin embargo, no hay garantía de cuándo sucederá exactamente eso. Esto puede conducir a un comportamiento no deseado, incluidas las fugas de recursos. \n",
    "> También es una práctica recomendada dentro de Python (Pythonic) asegurarse de que su código se comporte de una manera bien definida y reduzca cualquier comportamiento no deseado."
   ]
  },
  {
   "cell_type": "code",
   "execution_count": 8,
   "metadata": {},
   "outputs": [
    {
     "name": "stdout",
     "output_type": "stream",
     "text": [
      "To you\n",
      "Yes, my love\n",
      "To you\n",
      "Yes, my love\n",
      "To you, you\n",
      "To you\n",
      "\n",
      "watashi wa watashi anata wa anata to\n",
      "yuube itteta sonna ki mo suru wa\n",
      "Gray no jaketto ni\n",
      "mioboe ga aru koohii no shimi\n",
      "aikawarazu na no ne\n",
      "shoouindou ni futari utsureba\n",
      "\n",
      "Stay with me\n",
      "mayonakano doa o tataki\n",
      "kaeranaide to naita\n",
      "ano kisetsu ga ima me no mae\n"
     ]
    }
   ],
   "source": [
    "archivo = open('files\\\\ejemplo.txt')\n",
    "try:\n",
    "    print(archivo.read())\n",
    "finally:\n",
    "    archivo.close()"
   ]
  },
  {
   "attachments": {},
   "cell_type": "markdown",
   "metadata": {},
   "source": [
    "## Utilizando with para abrir un archivo\n",
    "\n",
    "La instrucción **with** automáticamente se encargara de cerrar el archivo una vez que salimos del bloque with, incluso en casos de error. Recomiendo que utilice la declaración **with** tanto como sea posible, ya que permite un código más limpio y facilita el manejo de cualquier error inesperado."
   ]
  },
  {
   "cell_type": "code",
   "execution_count": 9,
   "metadata": {},
   "outputs": [
    {
     "name": "stdout",
     "output_type": "stream",
     "text": [
      "To you\n",
      "Yes, my love\n",
      "To you\n",
      "Yes, my love\n",
      "To you, you\n",
      "To you\n",
      "\n",
      "watashi wa watashi anata wa anata to\n",
      "yuube itteta sonna ki mo suru wa\n",
      "Gray no jaketto ni\n",
      "mioboe ga aru koohii no shimi\n",
      "aikawarazu na no ne\n",
      "shoouindou ni futari utsureba\n",
      "\n",
      "Stay with me\n",
      "mayonakano doa o tataki\n",
      "kaeranaide to naita\n",
      "ano kisetsu ga ima me no mae\n"
     ]
    }
   ],
   "source": [
    "with open('files\\\\ejemplo.txt', 'r') as archivo:\n",
    "    print(archivo.read())"
   ]
  },
  {
   "attachments": {},
   "cell_type": "markdown",
   "metadata": {},
   "source": [
    "- **read**\n",
    "\n",
    "- **readline**\n",
    "\n",
    "- **readlines**"
   ]
  },
  {
   "cell_type": "code",
   "execution_count": 10,
   "metadata": {},
   "outputs": [
    {
     "name": "stdout",
     "output_type": "stream",
     "text": [
      "To you\n",
      "\n",
      "Yes, my love\n",
      "\n",
      "To you\n",
      "\n",
      "Yes, my love\n",
      "\n",
      "To you, you\n",
      "\n"
     ]
    }
   ],
   "source": [
    "with open('files\\\\ejemplo.txt', 'r') as archivo:\n",
    "    print(archivo.readline())\n",
    "    print(archivo.readline())\n",
    "    print(archivo.readline())\n",
    "    print(archivo.readline())\n",
    "    print(archivo.readline())"
   ]
  },
  {
   "cell_type": "code",
   "execution_count": 17,
   "metadata": {},
   "outputs": [
    {
     "name": "stdout",
     "output_type": "stream",
     "text": [
      "['To you\\n', 'Yes, my love\\n', 'To you\\n', 'Yes, my love\\n', 'To you, you\\n', 'To you\\n', '\\n', 'watashi wa watashi anata wa anata to\\n', 'yuube itteta sonna ki mo suru wa\\n', 'Gray no jaketto ni\\n', 'mioboe ga aru koohii no shimi\\n', 'aikawarazu na no ne\\n', 'shoouindou ni futari utsureba\\n', '\\n', 'Stay with me\\n', 'mayonakano doa o tataki\\n', 'kaeranaide to naita\\n', 'ano kisetsu ga ima me no mae']\n"
     ]
    }
   ],
   "source": [
    "with open('files\\\\ejemplo.txt', 'r') as archivo:\n",
    "    print(archivo.readlines())\n",
    "    # temp = archivo.readlines()\n",
    "    # print(temp[1])"
   ]
  },
  {
   "attachments": {},
   "cell_type": "markdown",
   "metadata": {},
   "source": [
    "## Creando un archivo\n",
    "\n",
    "- **open**\n",
    "  - **write**\n",
    "  - **writelines**"
   ]
  },
  {
   "cell_type": "code",
   "execution_count": 18,
   "metadata": {},
   "outputs": [
    {
     "name": "stdout",
     "output_type": "stream",
     "text": [
      "Algebra Lineal con Tacos\n",
      "Calculo\n",
      "Calculo 2\n",
      "Calculo 3: La Venganza del Calculo\n",
      "\n"
     ]
    }
   ],
   "source": [
    "with open('files\\\\ejemplo2.txt', 'w') as archivo:\n",
    "    archivo.write(\"Algebra Lineal con Tacos\\n\")\n",
    "    archivo.writelines((\"Calculo\\n\", \"Calculo 2\\n\", \"Calculo 3: La Venganza del Calculo\\n\"))\n",
    "\n",
    "with open('files\\\\ejemplo2.txt', 'r') as archivo:\n",
    "    print(archivo.read())"
   ]
  },
  {
   "attachments": {},
   "cell_type": "markdown",
   "metadata": {},
   "source": [
    "## Tips y Trucos\n",
    "\n",
    "**__file__** es un atributo especial de modulo, similar a __name__ . Dice \n",
    "> El nombre de la ruta del archivo desde el cuál el modulo fue cargado, si fue cargado por un archivo\"\n",
    "\n",
    "Va a regresar la ruta relativa desde el script de python fue originalmente cargado. Si queremos usar toda la ruta del sistema, podemos usar `os.getcwd()` para conseguir el directorio de trabajo actual del codigo ejecutado."
   ]
  },
  {
   "cell_type": "code",
   "execution_count": null,
   "metadata": {},
   "outputs": [],
   "source": [
    "# ver carpeta ficheros"
   ]
  },
  {
   "attachments": {},
   "cell_type": "markdown",
   "metadata": {},
   "source": [
    "### Abrir más de un archivo al mismo tiempo"
   ]
  },
  {
   "cell_type": "code",
   "execution_count": 19,
   "metadata": {},
   "outputs": [],
   "source": [
    "with open('files\\\\ejemplo.txt', 'r') as archivo, open('files\\\\ejemplo3.txt', 'w') as archivo2:\n",
    "    for idx, line in enumerate(archivo.readlines()):\n",
    "        if idx % 2 == 0:\n",
    "            archivo2.write(line)"
   ]
  },
  {
   "attachments": {},
   "cell_type": "markdown",
   "metadata": {},
   "source": [
    "## Archivos JSON"
   ]
  },
  {
   "cell_type": "code",
   "execution_count": 20,
   "metadata": {},
   "outputs": [],
   "source": [
    "import json"
   ]
  },
  {
   "cell_type": "code",
   "execution_count": 21,
   "metadata": {},
   "outputs": [
    {
     "name": "stdout",
     "output_type": "stream",
     "text": [
      "{\n",
      "    \"name\": \"Piña Colada\",\n",
      "    \"ingredients\": [\n",
      "        \"Jugo de Piña\",\n",
      "        \"Crema de coco\",\n",
      "        \"Ron\",\n",
      "        \"Cerezas\",\n",
      "        \"Trozos de piña\"\n",
      "    ]\n",
      "}\n"
     ]
    }
   ],
   "source": [
    "with open('files\\\\drink.json') as archivo:\n",
    "    file_contents = archivo.read()\n",
    "\n",
    "print(file_contents)"
   ]
  },
  {
   "cell_type": "code",
   "execution_count": 22,
   "metadata": {},
   "outputs": [
    {
     "data": {
      "text/plain": [
       "{'name': 'Piña Colada',\n",
       " 'ingredients': ['Jugo de Piña',\n",
       "  'Crema de coco',\n",
       "  'Ron',\n",
       "  'Cerezas',\n",
       "  'Trozos de piña']}"
      ]
     },
     "execution_count": 22,
     "metadata": {},
     "output_type": "execute_result"
    }
   ],
   "source": [
    "parsed_json = json.loads(file_contents)\n",
    "parsed_json"
   ]
  },
  {
   "cell_type": "code",
   "execution_count": 25,
   "metadata": {},
   "outputs": [
    {
     "data": {
      "text/plain": [
       "'Crema de coco'"
      ]
     },
     "execution_count": 25,
     "metadata": {},
     "output_type": "execute_result"
    }
   ],
   "source": [
    "parsed_json.get('ingredients')[1]"
   ]
  },
  {
   "attachments": {},
   "cell_type": "markdown",
   "metadata": {},
   "source": [
    "### Agregando contenido a un archivo JSON"
   ]
  },
  {
   "cell_type": "code",
   "execution_count": 26,
   "metadata": {},
   "outputs": [],
   "source": [
    "parsed_json['description'] = \"Receta de Piña Colada\"\n",
    "\n",
    "with open('files\\\\drink2.json', 'w') as archivo:\n",
    "    json.dump(parsed_json, archivo)\n"
   ]
  },
  {
   "cell_type": "code",
   "execution_count": 27,
   "metadata": {},
   "outputs": [],
   "source": [
    "parsed_json['description'] = \"Receta Piña Colada\"\n",
    "\n",
    "with open('files\\\\drink2.json', 'w') as archivo:\n",
    "    json.dump(parsed_json, archivo, ensure_ascii=False)\n"
   ]
  },
  {
   "attachments": {},
   "cell_type": "markdown",
   "metadata": {},
   "source": [
    "### Archivos XML"
   ]
  },
  {
   "cell_type": "code",
   "execution_count": 28,
   "metadata": {},
   "outputs": [
    {
     "name": "stdout",
     "output_type": "stream",
     "text": [
      "<Element 'students' at 0x0000015E365C49A0>\n",
      "TAG: student\n",
      "   Atributo: id,  Valor: 1\n",
      "   Atributo: name,  Valor: Paul\n",
      "   Atributo: last_name,  Valor: Arizpe\n",
      "TAG: student\n",
      "   Atributo: id,  Valor: 2\n",
      "   Atributo: name,  Valor: Fernanda\n",
      "   Atributo: last_name,  Valor: Martinez\n",
      "TAG: student\n",
      "   Atributo: id,  Valor: 3\n",
      "   Atributo: name,  Valor: Tania\n",
      "   Atributo: last_name,  Valor: Guzman\n",
      "TAG: student\n",
      "   Atributo: id,  Valor: 4\n",
      "   Atributo: name,  Valor: Paola\n",
      "   Atributo: last_name,  Valor: Rios\n",
      "Finalizo lectura de XML\n"
     ]
    }
   ],
   "source": [
    "from xml.etree import ElementTree as ET\n",
    "\n",
    "try:\n",
    "    tree = ET.parse(\"files/alumnos.xml\")\n",
    "    root = tree.getroot()\n",
    "    print(root)\n",
    "    for child in root:\n",
    "        print(\"TAG: {}\".format(child.tag))\n",
    "        for attr in child.attrib:\n",
    "            print(\"   Atributo: {},  Valor: {}\".format(attr, child.attrib[attr]))\n",
    "\n",
    "except Exception as err:\n",
    "    print(\"Error: {}\".format(err))\n",
    "finally:\n",
    "    print(\"Finalizo lectura de XML\")"
   ]
  }
 ],
 "metadata": {
  "kernelspec": {
   "display_name": "intro_python",
   "language": "python",
   "name": "python3"
  },
  "language_info": {
   "codemirror_mode": {
    "name": "ipython",
    "version": 3
   },
   "file_extension": ".py",
   "mimetype": "text/x-python",
   "name": "python",
   "nbconvert_exporter": "python",
   "pygments_lexer": "ipython3",
   "version": "3.11.2"
  },
  "orig_nbformat": 4
 },
 "nbformat": 4,
 "nbformat_minor": 2
}
