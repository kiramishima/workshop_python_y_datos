{
 "cells": [
  {
   "attachments": {},
   "cell_type": "markdown",
   "metadata": {},
   "source": [
    "# Excepciones\n",
    "\n",
    "Las excepciones en Python son una herramienta muy potente que la gran mayoría de lenguajes de programación modernos tienen. Se trata de una forma de controlar el comportamiento de un programa cuando se produce un error."
   ]
  },
  {
   "attachments": {},
   "cell_type": "markdown",
   "metadata": {},
   "source": [
    "```python\n",
    "print( 0/0 )) # SyntaxError: unmatched ')'\n",
    "\n",
    "def division(a, b):\n",
    "    return a/b\n",
    "\n",
    "print(division(1/0)) # ZeroDivisionError...\n",
    "```"
   ]
  },
  {
   "cell_type": "code",
   "execution_count": 35,
   "metadata": {},
   "outputs": [
    {
     "ename": "SyntaxError",
     "evalue": "unmatched ')' (1423504206.py, line 1)",
     "output_type": "error",
     "traceback": [
      "\u001b[1;36m  Cell \u001b[1;32mIn[35], line 1\u001b[1;36m\u001b[0m\n\u001b[1;33m    print( 0/0 ))\u001b[0m\n\u001b[1;37m                ^\u001b[0m\n\u001b[1;31mSyntaxError\u001b[0m\u001b[1;31m:\u001b[0m unmatched ')'\n"
     ]
    }
   ],
   "source": [
    "print( 0/0 ))"
   ]
  },
  {
   "cell_type": "code",
   "execution_count": 36,
   "metadata": {},
   "outputs": [
    {
     "ename": "ZeroDivisionError",
     "evalue": "division by zero",
     "output_type": "error",
     "traceback": [
      "\u001b[1;31m---------------------------------------------------------------------------\u001b[0m",
      "\u001b[1;31mZeroDivisionError\u001b[0m                         Traceback (most recent call last)",
      "Cell \u001b[1;32mIn[36], line 4\u001b[0m\n\u001b[0;32m      1\u001b[0m \u001b[39mdef\u001b[39;00m \u001b[39mdivision\u001b[39m(a, b):\n\u001b[0;32m      2\u001b[0m     \u001b[39mreturn\u001b[39;00m a\u001b[39m/\u001b[39mb\n\u001b[1;32m----> 4\u001b[0m \u001b[39mprint\u001b[39m(division(\u001b[39m1\u001b[39m\u001b[39m/\u001b[39m\u001b[39m0\u001b[39m))\n",
      "\u001b[1;31mZeroDivisionError\u001b[0m: division by zero"
     ]
    }
   ],
   "source": [
    "def division(a, b):\n",
    "    return a/b\n",
    "\n",
    "print(division(1/0))                         "
   ]
  },
  {
   "attachments": {},
   "cell_type": "markdown",
   "metadata": {},
   "source": [
    "Listado de excepciones: [https://docs.python.org/3/library/exceptions.html](https://docs.python.org/3/library/exceptions.html)"
   ]
  },
  {
   "attachments": {},
   "cell_type": "markdown",
   "metadata": {},
   "source": [
    "## Raise\n",
    "\n",
    "Para levantar/lanzar un \"error\" usamos la palabra reservada **raise** , seguido usamos Exception que recibe el mensaje de nuestra excepción. Por ejemplo:\n",
    "\n",
    "```python\n",
    "x = 10\n",
    "if x > 5:\n",
    "    raise Exception('x should not exceed 5. The value of x was: {}'.format(x))\n",
    "```"
   ]
  },
  {
   "cell_type": "code",
   "execution_count": 37,
   "metadata": {},
   "outputs": [
    {
     "ename": "Exception",
     "evalue": "x no debe ser mayor a 5. El valor de x fue: 10",
     "output_type": "error",
     "traceback": [
      "\u001b[1;31m---------------------------------------------------------------------------\u001b[0m",
      "\u001b[1;31mException\u001b[0m                                 Traceback (most recent call last)",
      "Cell \u001b[1;32mIn[37], line 3\u001b[0m\n\u001b[0;32m      1\u001b[0m x \u001b[39m=\u001b[39m \u001b[39m10\u001b[39m\n\u001b[0;32m      2\u001b[0m \u001b[39mif\u001b[39;00m x \u001b[39m>\u001b[39m \u001b[39m5\u001b[39m:\n\u001b[1;32m----> 3\u001b[0m     \u001b[39mraise\u001b[39;00m \u001b[39mException\u001b[39;00m(\u001b[39m'\u001b[39m\u001b[39mx no debe ser mayor a 5. El valor de x fue: \u001b[39m\u001b[39m{}\u001b[39;00m\u001b[39m'\u001b[39m\u001b[39m.\u001b[39mformat(x))\n",
      "\u001b[1;31mException\u001b[0m: x no debe ser mayor a 5. El valor de x fue: 10"
     ]
    }
   ],
   "source": [
    "x = 10\n",
    "if x > 5:\n",
    "    raise Exception('x no debe ser mayor a 5. El valor de x fue: {}'.format(x))"
   ]
  },
  {
   "attachments": {},
   "cell_type": "markdown",
   "metadata": {},
   "source": [
    "## La excepción: AssertionError\n",
    "\n",
    "En lugar de esperar a que nuestro programa truene a medio camino, podemos realizar una afirmación/validación. \n",
    "Para ello vamos a usar la función **assert**, la cuál recibe una condición u operación que regrese True o False, y un texto que deseemos recuperar. Por ejemplo:\n",
    "\n",
    "```python\n",
    "def apply_discount(product, discount):\n",
    "    price = int(product['price'] * (1.0 - discount))\n",
    "    assert 0 <= price <= product['price']\n",
    "    return price\n",
    "\n",
    "shoes = {'name': 'Fancy Shoes', 'price': 14900}\n",
    "beer = {'name': 'Guiness', 'price': 120} # Saporo\n",
    "\n",
    "apply_discount(beer, 0.25)\n",
    "apply_discount(shoes, -0.3)\n",
    "```"
   ]
  },
  {
   "cell_type": "code",
   "execution_count": 38,
   "metadata": {},
   "outputs": [
    {
     "data": {
      "text/plain": [
       "90"
      ]
     },
     "execution_count": 38,
     "metadata": {},
     "output_type": "execute_result"
    }
   ],
   "source": [
    "def apply_discount(product, discount):\n",
    "    price = int(product['price'] * (1.0 - discount))\n",
    "    assert 0 <= price <= product['price']\n",
    "    return price\n",
    "\n",
    "shoes = {'name': 'Fancy Shoes', 'price': 14900}\n",
    "beer = {'name': 'Saporo', 'price': 120} # Saporo\n",
    "\n",
    "apply_discount(beer, 0.25)"
   ]
  },
  {
   "cell_type": "code",
   "execution_count": 39,
   "metadata": {},
   "outputs": [
    {
     "ename": "AssertionError",
     "evalue": "",
     "output_type": "error",
     "traceback": [
      "\u001b[1;31m---------------------------------------------------------------------------\u001b[0m",
      "\u001b[1;31mAssertionError\u001b[0m                            Traceback (most recent call last)",
      "Cell \u001b[1;32mIn[39], line 1\u001b[0m\n\u001b[1;32m----> 1\u001b[0m apply_discount(shoes, \u001b[39m-\u001b[39m\u001b[39m0.3\u001b[39m)\n",
      "Cell \u001b[1;32mIn[38], line 3\u001b[0m, in \u001b[0;36mapply_discount\u001b[1;34m(product, discount)\u001b[0m\n\u001b[0;32m      1\u001b[0m \u001b[39mdef\u001b[39;00m \u001b[39mapply_discount\u001b[39m(product, discount):\n\u001b[0;32m      2\u001b[0m     price \u001b[39m=\u001b[39m \u001b[39mint\u001b[39m(product[\u001b[39m'\u001b[39m\u001b[39mprice\u001b[39m\u001b[39m'\u001b[39m] \u001b[39m*\u001b[39m (\u001b[39m1.0\u001b[39m \u001b[39m-\u001b[39m discount))\n\u001b[1;32m----> 3\u001b[0m     \u001b[39massert\u001b[39;00m \u001b[39m0\u001b[39m \u001b[39m<\u001b[39m\u001b[39m=\u001b[39m price \u001b[39m<\u001b[39m\u001b[39m=\u001b[39m product[\u001b[39m'\u001b[39m\u001b[39mprice\u001b[39m\u001b[39m'\u001b[39m]\n\u001b[0;32m      4\u001b[0m     \u001b[39mreturn\u001b[39;00m price\n",
      "\u001b[1;31mAssertionError\u001b[0m: "
     ]
    }
   ],
   "source": [
    "apply_discount(shoes, -0.3)"
   ]
  },
  {
   "cell_type": "code",
   "execution_count": 40,
   "metadata": {},
   "outputs": [],
   "source": [
    "def apply_discount2(product, discount):\n",
    "    price = int(product['price'] * (1.0 - discount))\n",
    "    assert 0 <= price <= product['price'], \"El precio con descuento excedio al precio original\"\n",
    "    return price"
   ]
  },
  {
   "cell_type": "code",
   "execution_count": 41,
   "metadata": {},
   "outputs": [
    {
     "ename": "AssertionError",
     "evalue": "El precio con descuento excedio al precio original",
     "output_type": "error",
     "traceback": [
      "\u001b[1;31m---------------------------------------------------------------------------\u001b[0m",
      "\u001b[1;31mAssertionError\u001b[0m                            Traceback (most recent call last)",
      "Cell \u001b[1;32mIn[41], line 1\u001b[0m\n\u001b[1;32m----> 1\u001b[0m apply_discount2(shoes, \u001b[39m-\u001b[39m\u001b[39m0.3\u001b[39m)\n",
      "Cell \u001b[1;32mIn[40], line 3\u001b[0m, in \u001b[0;36mapply_discount2\u001b[1;34m(product, discount)\u001b[0m\n\u001b[0;32m      1\u001b[0m \u001b[39mdef\u001b[39;00m \u001b[39mapply_discount2\u001b[39m(product, discount):\n\u001b[0;32m      2\u001b[0m     price \u001b[39m=\u001b[39m \u001b[39mint\u001b[39m(product[\u001b[39m'\u001b[39m\u001b[39mprice\u001b[39m\u001b[39m'\u001b[39m] \u001b[39m*\u001b[39m (\u001b[39m1.0\u001b[39m \u001b[39m-\u001b[39m discount))\n\u001b[1;32m----> 3\u001b[0m     \u001b[39massert\u001b[39;00m \u001b[39m0\u001b[39m \u001b[39m<\u001b[39m\u001b[39m=\u001b[39m price \u001b[39m<\u001b[39m\u001b[39m=\u001b[39m product[\u001b[39m'\u001b[39m\u001b[39mprice\u001b[39m\u001b[39m'\u001b[39m], \u001b[39m\"\u001b[39m\u001b[39mEl precio con descuento excedio al precio original\u001b[39m\u001b[39m\"\u001b[39m\n\u001b[0;32m      4\u001b[0m     \u001b[39mreturn\u001b[39;00m price\n",
      "\u001b[1;31mAssertionError\u001b[0m: El precio con descuento excedio al precio original"
     ]
    }
   ],
   "source": [
    "apply_discount2(shoes, -0.3)"
   ]
  },
  {
   "attachments": {},
   "cell_type": "markdown",
   "metadata": {},
   "source": [
    "## Definiendo Excepciones personalizadas\n",
    "\n",
    "Si queremos crear una excepción, solamente tenemos que crear una clase que herede de la clase Exception. Es tan sencillo como el siguiente ejemplo.\n",
    "\n",
    "```python\n",
    "class MiExcepcion(Exception):\n",
    "    pass\n",
    "\n",
    "class MiSuperExcepcion(Exception):\n",
    "    def __init__(self, param1, message=\"Mensaje Default de mi excepción\"):\n",
    "        self.param1 = param1\n",
    "        self.message = message\n",
    "        super().__init__(self.message)\n",
    "```\n"
   ]
  },
  {
   "cell_type": "code",
   "execution_count": 42,
   "metadata": {},
   "outputs": [],
   "source": [
    "class CustomError(Exception):\n",
    "    def __init__(self, param1, message=\"Mensaje Default de mi excepción\"):\n",
    "        self.param1 = param1\n",
    "        self.message = message\n",
    "        super().__init__(self.message)"
   ]
  },
  {
   "attachments": {},
   "cell_type": "markdown",
   "metadata": {},
   "source": [
    "## Bloque Try , Except, Else & Finally\n",
    "\n",
    "Las excepciones pueden ser capturadas y manejadas adecuadamente, sin que el programa se detenga. Para ello usaremos los bloques try, catch.\n",
    "\n",
    "<img src=\"https://robocrop.realpython.net/?url=https%3A//files.realpython.com/media/try_except.c94eabed2c59.png&w=697&sig=c3b8dc7765e44e335bded19fe998f3a6960cee07\">\n",
    "\n",
    "**Try** es la sección del código que podría lanzar la excepción que se está capturando en el except.\n",
    "\n",
    "**Except** es la sección para cuando ocurre una excepción o un error. "
   ]
  },
  {
   "cell_type": "code",
   "execution_count": 43,
   "metadata": {},
   "outputs": [
    {
     "name": "stdout",
     "output_type": "stream",
     "text": [
      "90\n"
     ]
    }
   ],
   "source": [
    "try:\n",
    "    print(apply_discount2(beer, 0.25))\n",
    "except:\n",
    "    print(\"Ocurrio un error\")"
   ]
  },
  {
   "cell_type": "code",
   "execution_count": 45,
   "metadata": {},
   "outputs": [
    {
     "name": "stdout",
     "output_type": "stream",
     "text": [
      "Ocurrio un error\n",
      "Termino la evaluación de excepciones\n"
     ]
    }
   ],
   "source": [
    "try:\n",
    "    print(apply_discount2(shoes, -0.25))\n",
    "except:\n",
    "    print(\"Ocurrio un error\")\n",
    "\n",
    "print(\"Termino la evaluación de excepciones\")"
   ]
  },
  {
   "attachments": {},
   "cell_type": "markdown",
   "metadata": {},
   "source": [
    "### Especificando el tipo de Error o Excepción en Except"
   ]
  },
  {
   "cell_type": "code",
   "execution_count": 46,
   "metadata": {},
   "outputs": [
    {
     "name": "stdout",
     "output_type": "stream",
     "text": [
      "Ocurrio un error\n",
      "El precio con descuento excedio al precio original\n"
     ]
    }
   ],
   "source": [
    "try:\n",
    "    print(apply_discount2(shoes, -0.25))\n",
    "except AssertionError as error:\n",
    "    print(\"Ocurrio un error\")\n",
    "    print(error)\n",
    "\n",
    "# print(apply_discount2(shoes, 0.25))\n"
   ]
  },
  {
   "cell_type": "code",
   "execution_count": 52,
   "metadata": {},
   "outputs": [
    {
     "name": "stdout",
     "output_type": "stream",
     "text": [
      "Ocurrio un error\n",
      "Alohomora\n",
      "Ups Error\n"
     ]
    }
   ],
   "source": [
    "try:\n",
    "    # print(apply_discount2(shoes, -0.25))\n",
    "    # eval(\"print('Fernanda'))\")\n",
    "    # division(0/0)\n",
    "    raise CustomError(\"Alohomora\", \"Ups Error\")\n",
    "except SyntaxError:\n",
    "    print(\"Tienes un error de sintaxis\")\n",
    "except AssertionError as error:\n",
    "    print(\"Ocurrio un error\")\n",
    "    print(error)\n",
    "except ZeroDivisionError as error:\n",
    "    print(\"Ocurrio un error\")\n",
    "    print(error)\n",
    "except CustomError as error:\n",
    "    print(\"Ocurrio un error\")\n",
    "    print(error.param1)\n",
    "    print(error)"
   ]
  },
  {
   "attachments": {},
   "cell_type": "markdown",
   "metadata": {},
   "source": [
    "### Bloque else\n",
    "\n",
    "Esta sección se ejecutara cuando no exista  o no haya ocurrido una excepción.\n",
    "\n",
    "![alt](https://robocrop.realpython.net/?url=https%3A//files.realpython.com/media/try_except_else.703aaeeb63d3.png&w=697&sig=37bb8642adb5814a6b5be4e14201e8777d5bea8c)"
   ]
  },
  {
   "cell_type": "code",
   "execution_count": 53,
   "metadata": {},
   "outputs": [
    {
     "name": "stdout",
     "output_type": "stream",
     "text": [
      "90\n",
      "No ocurrio ninguna excepción :D\n"
     ]
    }
   ],
   "source": [
    "try:\n",
    "    print(apply_discount2(beer, 0.25))\n",
    "except AssertionError as error:\n",
    "    print(\"Ocurrio un error\")\n",
    "    print(error)\n",
    "else:\n",
    "    print(\"No ocurrio ninguna excepción :D\")"
   ]
  },
  {
   "attachments": {},
   "cell_type": "markdown",
   "metadata": {},
   "source": [
    "### Bloque Finally\n",
    "\n",
    "Esta sección o bloque se ejecuta haya o no haya ocurrido una excepción o error.\n",
    "\n",
    "![alt](https://robocrop.realpython.net/?url=https%3A//files.realpython.com/media/try_except_else_finally.a7fac6c36c55.png&w=697&sig=6903754041189bdc1e28fbb3f1ab9b454c0214d1)"
   ]
  },
  {
   "cell_type": "code",
   "execution_count": 55,
   "metadata": {},
   "outputs": [
    {
     "name": "stdout",
     "output_type": "stream",
     "text": [
      "Ocurrio un error\n",
      "El precio con descuento excedio al precio original\n",
      "Ejecución del bloque finally\n"
     ]
    }
   ],
   "source": [
    "try:\n",
    "    print(apply_discount2(shoes, -0.25))\n",
    "except AssertionError as error:\n",
    "    print(\"Ocurrio un error\")\n",
    "    print(error)\n",
    "finally:\n",
    "    print(\"Ejecución del bloque finally\")"
   ]
  },
  {
   "attachments": {},
   "cell_type": "markdown",
   "metadata": {},
   "source": [
    "### Uniendo todo"
   ]
  },
  {
   "cell_type": "code",
   "execution_count": 56,
   "metadata": {},
   "outputs": [
    {
     "name": "stdout",
     "output_type": "stream",
     "text": [
      "Ocurrio un error\n",
      "El precio con descuento excedio al precio original\n",
      "Ejecución del bloque finally\n"
     ]
    }
   ],
   "source": [
    "try:\n",
    "    print(apply_discount2(shoes, -0.25))\n",
    "except AssertionError as error:\n",
    "    print(\"Ocurrio un error\")\n",
    "    print(error)\n",
    "else:\n",
    "    print(\"No ocurrio ninguna excepción :D\")\n",
    "finally:\n",
    "    print(\"Ejecución del bloque finally\")"
   ]
  },
  {
   "cell_type": "code",
   "execution_count": 57,
   "metadata": {},
   "outputs": [
    {
     "name": "stdout",
     "output_type": "stream",
     "text": [
      "90\n",
      "No ocurrio ninguna excepción :D\n",
      "Ejecución del bloque finally\n"
     ]
    }
   ],
   "source": [
    "try:\n",
    "    print(apply_discount2(beer, 0.25))\n",
    "except AssertionError as error:\n",
    "    print(\"Ocurrio un error\")\n",
    "    print(error)\n",
    "else:\n",
    "    print(\"No ocurrio ninguna excepción :D\")\n",
    "finally:\n",
    "    print(\"Ejecución del bloque finally\")"
   ]
  }
 ],
 "metadata": {
  "kernelspec": {
   "display_name": "intro_python",
   "language": "python",
   "name": "python3"
  },
  "language_info": {
   "codemirror_mode": {
    "name": "ipython",
    "version": 3
   },
   "file_extension": ".py",
   "mimetype": "text/x-python",
   "name": "python",
   "nbconvert_exporter": "python",
   "pygments_lexer": "ipython3",
   "version": "3.11.2"
  },
  "orig_nbformat": 4
 },
 "nbformat": 4,
 "nbformat_minor": 2
}
