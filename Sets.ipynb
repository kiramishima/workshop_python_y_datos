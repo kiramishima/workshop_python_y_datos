{
 "cells": [
  {
   "attachments": {},
   "cell_type": "markdown",
   "metadata": {},
   "source": [
    "<center>\n",
    "    <img height=\"300\" width=\"500\" src=\"https://miro.medium.com/v2/resize:fit:640/format:webp/1*DOTMwkkjO6vtgWsASTNuuA.png\" />\n",
    "</center>"
   ]
  },
  {
   "attachments": {},
   "cell_type": "markdown",
   "metadata": {},
   "source": [
    "## ¿ Sets ?\n",
    "\n",
    "Son colecciones donde cada entrada o valor debe ser diferente, y ademas no mantienen un orden. Los sets se declaran usando `{` `}`, los cuales casualmente en matematicas los sets estan escritos. Podemos convertir listas y tuplas a sets mediante la función `set`.\n",
    "\n",
    "**Caracteristicas**\n",
    "\n",
    "- Los elementos de un set son **único**, lo que significa que no puede haber elementos duplicados.\n",
    "- Los set son **desordenados**, lo que significa que no mantienen el orden de cuando son declarados.\n",
    "- Sus elementos deben ser **inmutables**. (No pueden ser lista, diccionario o set)\n",
    "\n",
    "Para comprender mejor los `sets`, es necesario entender ciertos conceptos matemáticos como la **teoría de conjuntos**.\n",
    "\n",
    "Ejemplo:\n",
    "\n",
    "```python\n",
    "s = set([5, 4, 6, 8, 8, 1, 1, 8])\n",
    "print(s)       # {1, 4, 5, 6, 8}\n",
    "print(type(s)) # <class 'set'>\n",
    "```\n",
    "\n",
    "```python\n",
    "s = set((1,2,2,2,3))\n",
    "print(s)       # {1, 2, 3}\n",
    "print(type(s)) #<class 'set'>\n",
    "```\n",
    "\n",
    "Ejemplo 2:\n",
    "\n",
    "```python\n",
    "s = {5, 4, 6, 8, 8, 1, 8}\n",
    "print(s)       #{1, 4, 5, 6, 8}\n",
    "print(type(s)) #<class 'set'>\n",
    "```"
   ]
  },
  {
   "attachments": {},
   "cell_type": "markdown",
   "metadata": {},
   "source": [
    "## Creando Sets"
   ]
  },
  {
   "cell_type": "code",
   "execution_count": 17,
   "metadata": {},
   "outputs": [
    {
     "name": "stdout",
     "output_type": "stream",
     "text": [
      "<class 'set'>\n",
      "<class 'set'>\n",
      "<class 'set'>\n",
      "<class 'set'>\n"
     ]
    }
   ],
   "source": [
    "pc_games = {\"fornite\", \"hogwarts legacy\", \"portal 2\", \"half life\", \"god of war\"}\n",
    "nintendo_games = set([\"mario odissey\", \"fornite\", \"tetris 99\", \"pokemon X\"])\n",
    "ps_games = set((\"god of war\", \"DmC 6\", \"fornite\"))\n",
    "xbox_games = set()\n",
    "\n",
    "print(type(pc_games))\n",
    "print(type(nintendo_games))\n",
    "print(type(ps_games))\n",
    "print(type(xbox_games))"
   ]
  },
  {
   "attachments": {},
   "cell_type": "markdown",
   "metadata": {},
   "source": [
    "### Metodos Sets\n",
    "\n",
    "- **add**\n",
    "- **update**\n",
    "- **pop**\n",
    "- **discard**"
   ]
  },
  {
   "cell_type": "code",
   "execution_count": 18,
   "metadata": {},
   "outputs": [
    {
     "name": "stdout",
     "output_type": "stream",
     "text": [
      "{'mario odissey', 'hogwarts legacy'}\n",
      "{'mario kart 9', 'mario odissey', 'iron hearts', 'hogwarts legacy'}\n",
      "{'mario kart 9', 'iron hearts', 'hogwarts legacy'}\n",
      "{'iron hearts', 'hogwarts legacy'}\n"
     ]
    }
   ],
   "source": [
    "xbox_games.add('hogwarts legacy')\n",
    "xbox_games.add('mario odissey')\n",
    "print(xbox_games)\n",
    "\n",
    "games = ['hogwarts legacy', 'iron hearts', 'mario odissey', 'mario kart 9']\n",
    "xbox_games.update(games)\n",
    "print(xbox_games)\n",
    "\n",
    "xbox_games.discard('mario odissey')\n",
    "print(xbox_games)\n",
    "\n",
    "xbox_games.pop()\n",
    "print(xbox_games)\n",
    "\n",
    "# clear"
   ]
  },
  {
   "attachments": {},
   "cell_type": "markdown",
   "metadata": {},
   "source": [
    "## Unión, Intersección, diferencia.\n",
    "\n",
    "<center>\n",
    "    <img width=\"450\" height=\"300\" src=\"https://umsistemas.files.wordpress.com/2016/12/ds.png\">\n",
    "</center>"
   ]
  },
  {
   "attachments": {},
   "cell_type": "markdown",
   "metadata": {},
   "source": [
    "## Metodos union, intersection & difference\n",
    "\n",
    "- **union**\n",
    "- **intersection**\n",
    "- **difference**"
   ]
  },
  {
   "attachments": {},
   "cell_type": "markdown",
   "metadata": {},
   "source": [
    "# Union\n",
    "\n",
    "<img src=\"https://www.conoce3000.com/html/espaniol/Libros/Matematica01/imagenes/UnionConjuntos02.jpg\" width=400 height=300 />"
   ]
  },
  {
   "cell_type": "code",
   "execution_count": 19,
   "metadata": {},
   "outputs": [
    {
     "name": "stdout",
     "output_type": "stream",
     "text": [
      "{'half life', 'iron hearts', 'god of war', 'portal 2', 'fornite', 'hogwarts legacy'}\n"
     ]
    }
   ],
   "source": [
    "# Uniendo Sets\n",
    "resultado = pc_games.union(xbox_games)\n",
    "print(resultado)"
   ]
  },
  {
   "cell_type": "code",
   "execution_count": 20,
   "metadata": {},
   "outputs": [
    {
     "name": "stdout",
     "output_type": "stream",
     "text": [
      "{'pokemon X', 'iron hearts', 'god of war', 'portal 2', 'fornite', 'tetris 99', 'mario odissey', 'half life', 'hogwarts legacy'}\n"
     ]
    }
   ],
   "source": [
    "# Uniendo Sets 2\n",
    "resultado2 = pc_games.union(xbox_games.union(nintendo_games))\n",
    "print(resultado2)"
   ]
  },
  {
   "cell_type": "code",
   "execution_count": 21,
   "metadata": {},
   "outputs": [
    {
     "name": "stdout",
     "output_type": "stream",
     "text": [
      "{'pokemon X', 'iron hearts', 'god of war', 'portal 2', 'fornite', 'DmC 6', 'tetris 99', 'mario odissey', 'half life', 'hogwarts legacy'}\n"
     ]
    }
   ],
   "source": [
    "# Uniendo Sets 3\n",
    "resultado3 = pc_games.union(xbox_games.union(nintendo_games.union(ps_games)))\n",
    "print(resultado3)"
   ]
  },
  {
   "cell_type": "code",
   "execution_count": 22,
   "metadata": {},
   "outputs": [
    {
     "name": "stdout",
     "output_type": "stream",
     "text": [
      "{'pokemon X', 'iron hearts', 'god of war', 'portal 2', 'fornite', 'DmC 6', 'tetris 99', 'mario odissey', 'half life', 'hogwarts legacy'}\n"
     ]
    }
   ],
   "source": [
    "# Uniendo Sets 4\n",
    "resultado4 = pc_games.union(xbox_games, nintendo_games, ps_games)\n",
    "print(resultado4)"
   ]
  },
  {
   "attachments": {},
   "cell_type": "markdown",
   "metadata": {},
   "source": [
    "# Intersection\n",
    "\n",
    "<img src=\"https://www.conoce3000.com/html/espaniol/Libros/Matematica01/imagenes/Interseccion01.jpg\" width=400 height=300 />"
   ]
  },
  {
   "cell_type": "code",
   "execution_count": 23,
   "metadata": {},
   "outputs": [
    {
     "name": "stdout",
     "output_type": "stream",
     "text": [
      "{'fornite'}\n"
     ]
    }
   ],
   "source": [
    "# Inserction 1\n",
    "resultado = pc_games.intersection(nintendo_games)\n",
    "print(resultado)"
   ]
  },
  {
   "cell_type": "code",
   "execution_count": 25,
   "metadata": {},
   "outputs": [
    {
     "name": "stdout",
     "output_type": "stream",
     "text": [
      "{'fornite', 'god of war'}\n"
     ]
    }
   ],
   "source": [
    "# Inserction 2\n",
    "resultado2 = pc_games.intersection(ps_games)\n",
    "print(resultado2)"
   ]
  },
  {
   "attachments": {},
   "cell_type": "markdown",
   "metadata": {},
   "source": [
    "# Difference\n",
    "\n",
    "<img src=\"https://www.conoce3000.com/html/espaniol/Libros/Matematica01/imagenes/Diferencia01.jpg\" width=400 height=300 />"
   ]
  },
  {
   "cell_type": "code",
   "execution_count": 27,
   "metadata": {},
   "outputs": [
    {
     "name": "stdout",
     "output_type": "stream",
     "text": [
      "{'DmC 6', 'god of war', 'fornite'}\n",
      "{'fornite', 'mario odissey', 'tetris 99', 'pokemon X'}\n"
     ]
    },
    {
     "data": {
      "text/plain": [
       "{'DmC 6', 'god of war'}"
      ]
     },
     "execution_count": 27,
     "metadata": {},
     "output_type": "execute_result"
    }
   ],
   "source": [
    "print(ps_games)\n",
    "print(nintendo_games)\n",
    "ps_games.difference(nintendo_games)"
   ]
  },
  {
   "attachments": {},
   "cell_type": "markdown",
   "metadata": {},
   "source": [
    "# Ejercicio\n",
    "\n",
    "De los siguientes conjuntos de datos, realizar las operaciones de conjuntos:\n",
    "\n",
    "A = {1, 2, 3, 4, 5}\n",
    "B = {6, 5, 3, 0, 9}\n",
    "\n",
    "- A U B\n",
    "- A n B\n",
    "- A - B\n",
    "- B - A\n"
   ]
  }
 ],
 "metadata": {
  "kernelspec": {
   "display_name": "intro_python",
   "language": "python",
   "name": "python3"
  },
  "language_info": {
   "codemirror_mode": {
    "name": "ipython",
    "version": 3
   },
   "file_extension": ".py",
   "mimetype": "text/x-python",
   "name": "python",
   "nbconvert_exporter": "python",
   "pygments_lexer": "ipython3",
   "version": "3.11.0"
  },
  "orig_nbformat": 4,
  "vscode": {
   "interpreter": {
    "hash": "b5eac5827db45dbed8ebc74130b8e4a26072146af2a1fea4329943b3d88a2400"
   }
  }
 },
 "nbformat": 4,
 "nbformat_minor": 2
}
