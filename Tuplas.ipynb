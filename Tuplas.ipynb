{
 "cells": [
  {
   "attachments": {},
   "cell_type": "markdown",
   "metadata": {},
   "source": [
    "![](https://i.ytimg.com/vi/n54Q-IccZEs/mqdefault.jpg)\n",
    "\n",
    "\n",
    "Las tuplas en Python o `tuples` son muy similares a las listas, pero con dos diferencias. Son **inmutables**, lo que significa que no pueden ser modificadas una vez declaradas, y en vez de inicializarse con corchetes se hace con `()`. Dependiendo de lo que queramos hacer, **las tuplas pueden ser más rápidas**. Ejemplo\n",
    "\n",
    "```python\n",
    "superheros = (\"Spiderman\", \"Dr. Strange\", \"Hulk\", \"Daredevil\", \"Iron Man\")\n",
    "print(superheros) # ('Spiderman', 'Dr. Strange', 'Hulk', 'Daredevil', 'Iron Man')\n",
    "```\n",
    "\n",
    "**Caracteristicas**\n",
    "\n",
    "- Inmutables\n",
    "- Indexadas\n",
    "- Ordenadas\n",
    "- Desempaquetables\n",
    "- (), tuple, zip & enumerate()"
   ]
  },
  {
   "attachments": {},
   "cell_type": "markdown",
   "metadata": {},
   "source": [
    "### Creando tuplas"
   ]
  },
  {
   "cell_type": "code",
   "execution_count": 8,
   "metadata": {},
   "outputs": [
    {
     "name": "stdout",
     "output_type": "stream",
     "text": [
      "('Spiderman', 'Dr. Strange', 'Hulk', 'Daredevil', 'Iron Man', 'Spiderman')\n",
      "('Dr. Doom', 'Loki', 'Kang', 'Thanos', 'Shuma Gorath')\n",
      "<class 'tuple'>\n",
      "Spiderman vs Shuma Gorath\n",
      "Rojo\n"
     ]
    }
   ],
   "source": [
    "superheros = (\"Spiderman\", \"Dr. Strange\", \"Hulk\", \"Daredevil\", \"Iron Man\", \"Spiderman\")\n",
    "print(superheros) # ('Spiderman', 'Dr. Strange', 'Hulk', 'Daredevil', 'Iron Man')\n",
    "\n",
    "villanos = \"Dr. Doom\", \"Loki\", \"Kang\", \"Thanos\", \"Shuma Gorath\"\n",
    "print(villanos) # ('Dr. Doom', 'Loki', 'Kang', 'Thanos', 'Shuma Gorath')\n",
    "\n",
    "n = (5,)\n",
    "print(type(n))\n",
    "\n",
    "print(superheros[0], \"vs\", villanos[-1])\n",
    "\n",
    "colores = (\"Rojo\", \"Azul\")\n",
    "rojo, azul = colores\n",
    "print(rojo)\n"
   ]
  },
  {
   "attachments": {},
   "cell_type": "markdown",
   "metadata": {},
   "source": [
    "### Creando una tupla por error"
   ]
  },
  {
   "cell_type": "code",
   "execution_count": 6,
   "metadata": {},
   "outputs": [
    {
     "name": "stdout",
     "output_type": "stream",
     "text": [
      "<class 'str'>\n",
      "<class 'tuple'>\n"
     ]
    }
   ],
   "source": [
    "nombre = 'Sonic'\n",
    "tupla_error = 'Sonic The Hedgehog',\n",
    "\n",
    "print(type(nombre))\n",
    "\n",
    "print(type(tupla_error))"
   ]
  },
  {
   "attachments": {},
   "cell_type": "markdown",
   "metadata": {},
   "source": [
    "### ¿ Inmutables ?\n",
    "\n",
    "La inmutabilidad es la propiedad que tiene un objeto que no puede cambiar su estado. Como consecuencia, la inmutabilidad aporta muchas facilidades a la hora de razonar sobre nuestro código, ya que nos libera de pensar en los cambios sufridos por objetos a lo largo del programa. Además, los objetos inmutables son automáticamente seguros en hilos (o thread-safe), ya que pueden ser accedidos de manera concurrente sin consecuencias, al no poder modificarse."
   ]
  },
  {
   "cell_type": "code",
   "execution_count": 7,
   "metadata": {},
   "outputs": [
    {
     "ename": "TypeError",
     "evalue": "'tuple' object does not support item assignment",
     "output_type": "error",
     "traceback": [
      "\u001b[1;31m---------------------------------------------------------------------------\u001b[0m",
      "\u001b[1;31mTypeError\u001b[0m                                 Traceback (most recent call last)",
      "Cell \u001b[1;32mIn[7], line 1\u001b[0m\n\u001b[1;32m----> 1\u001b[0m superheros[\u001b[39m0\u001b[39;49m] \u001b[39m=\u001b[39m \u001b[39m\"\u001b[39m\u001b[39mThor\u001b[39m\u001b[39m\"\u001b[39m\n",
      "\u001b[1;31mTypeError\u001b[0m: 'tuple' object does not support item assignment"
     ]
    }
   ],
   "source": [
    "superheros[0] = \"Thor\""
   ]
  },
  {
   "attachments": {},
   "cell_type": "markdown",
   "metadata": {},
   "source": [
    "### Metodos de las Tuplas\n",
    "\n",
    "- **count**\n",
    "- **index**"
   ]
  },
  {
   "cell_type": "code",
   "execution_count": 10,
   "metadata": {},
   "outputs": [
    {
     "name": "stdout",
     "output_type": "stream",
     "text": [
      "2\n",
      "0\n",
      "5\n"
     ]
    }
   ],
   "source": [
    "# count\n",
    "print(superheros.count(\"Spiderman\")) # Contara cuantas veces el elemento/objeto pasado en el argumento existe\n",
    "\n",
    "# index\n",
    "print(superheros.index(\"Spiderman\")) # Busca el elemento y regresa su indice, si no existe regresara ValueError\n",
    "print(superheros.index(\"Spiderman\", 2)) # Tambien podemos indicarle a desde que indice comenzar"
   ]
  },
  {
   "attachments": {},
   "cell_type": "markdown",
   "metadata": {},
   "source": [
    "### De Listas a Tuplas\n",
    "\n",
    "Hay varias formas de crear tuplas, una de ellas es convirtiendo listas a tuplas, para ello usaremos la función `tuple` , a la cual le pasaremos nuestra lista. Ejemplo:\n",
    "\n",
    "```python\n",
    "pokemon_list = [\"Pikachu\", \"Lugia\", \"Mew\", \"Solrock\", \"Latias\", \"Hitmontop\"]\n",
    "pokemon_tuple = tuple(pokemon_list)\n",
    "print(pokemon_tuple) # ('Pikachu', 'Lugia', 'Mew', 'Solrock', 'Latias', 'Hitmontop')\n",
    "```"
   ]
  },
  {
   "cell_type": "code",
   "execution_count": 12,
   "metadata": {},
   "outputs": [
    {
     "name": "stdout",
     "output_type": "stream",
     "text": [
      "['Pikachu', 'Lugia', 'Mew', 'Solrock', 'Latias', 'Hitmontop']\n",
      "('Pikachu', 'Lugia', 'Mew', 'Solrock', 'Latias', 'Hitmontop')\n"
     ]
    }
   ],
   "source": [
    "pokemon_list = [\"Pikachu\", \"Lugia\", \"Mew\", \"Solrock\", \"Latias\", \"Hitmontop\"]\n",
    "print(pokemon_list)\n",
    "pokemon_tuple = tuple(pokemon_list)\n",
    "print(pokemon_tuple)"
   ]
  },
  {
   "attachments": {},
   "cell_type": "markdown",
   "metadata": {},
   "source": [
    "### Utilizando Zip & Enumerate\n",
    "\n",
    "**zip** nos permite crear un objeto zip, el cual emparejara los datos que recibe a la otra coleccion de datos, creando un iterador. Para convertir el objeto zip a una tupla, usaremos la función ``tuple`.\n",
    "\n",
    "**enumerate** crea un contador para cada iteracción, por lo que regresara una tupla, la cual podemos desempaquetar en variables.\n",
    "\n",
    "```python\n",
    "girls = ['Serena', 'Emily', 'Ava', 'Serenity', 'Atena']\n",
    "boys = ['Ray', 'Peter', 'Dave', 'Jayden', 'Seiya']\n",
    "\n",
    "parejas = zip(girls, boys)\n",
    "print(tuple(parejas))\n",
    "for idx, pair in enumerate(pairs):\n",
    "    girl_name, boy_name = pair\n",
    "    print('#{}: {} - {}'.format(idx+1, girl_name, boy_name))\n",
    "\n",
    "# #1: Serena - Ray\n",
    "# #2: Emily - Peter\n",
    "# #3: Ava - Dave\n",
    "# #4: Serenity - Jayden\n",
    "# #5: Atena - Seiya    \n",
    "```"
   ]
  },
  {
   "cell_type": "code",
   "execution_count": 17,
   "metadata": {},
   "outputs": [
    {
     "name": "stdout",
     "output_type": "stream",
     "text": [
      "(('Serena', 'Ray'), ('Emily', 'Peter'), ('Ava', 'Dave'), ('Serenity', 'Jayden'), ('Atena', 'Seiya'))\n"
     ]
    }
   ],
   "source": [
    "girls = ['Serena', 'Emily', 'Ava', 'Serenity', 'Atena']\n",
    "boys = ['Ray', 'Peter', 'Dave', 'Jayden', 'Seiya']\n",
    "\n",
    "parejas = zip(girls, boys)\n",
    "# print(tuple(parejas))\n",
    "\n",
    "for idx, pareja in enumerate(parejas): # (indice, (x, y))\n",
    "    girl_name, boy_name = pareja\n",
    "    print('#{}: {} - {}'.format(idx+1, girl_name, boy_name))"
   ]
  },
  {
   "cell_type": "code",
   "execution_count": 21,
   "metadata": {},
   "outputs": [
    {
     "name": "stdout",
     "output_type": "stream",
     "text": [
      "[('Serena', 'Ray'), ('Emily', 'Peter'), ('Ava', 'Dave'), ('Serenity', 'Jayden')]\n",
      "#1: Serena - Ray\n",
      "#2: Emily - Peter\n",
      "#3: Ava - Dave\n",
      "#4: Serenity - Jayden\n"
     ]
    }
   ],
   "source": [
    "girls = ['Serena', 'Emily', 'Ava', 'Serenity']\n",
    "boys = ['Ray', 'Peter', 'Dave', 'Jayden', 'Seiya']\n",
    "\n",
    "parejas = list(zip(girls, boys))\n",
    "print(parejas)\n",
    "\n",
    "for idx, pareja in enumerate(parejas): # (indice, (x, y))\n",
    "    girl_name, boy_name = pareja\n",
    "    print('#{}: {} - {}'.format(idx+1, girl_name, boy_name))"
   ]
  }
 ],
 "metadata": {
  "kernelspec": {
   "display_name": "intro_python",
   "language": "python",
   "name": "python3"
  },
  "language_info": {
   "codemirror_mode": {
    "name": "ipython",
    "version": 3
   },
   "file_extension": ".py",
   "mimetype": "text/x-python",
   "name": "python",
   "nbconvert_exporter": "python",
   "pygments_lexer": "ipython3",
   "version": "3.11.0"
  },
  "orig_nbformat": 4,
  "vscode": {
   "interpreter": {
    "hash": "b5eac5827db45dbed8ebc74130b8e4a26072146af2a1fea4329943b3d88a2400"
   }
  }
 },
 "nbformat": 4,
 "nbformat_minor": 2
}
