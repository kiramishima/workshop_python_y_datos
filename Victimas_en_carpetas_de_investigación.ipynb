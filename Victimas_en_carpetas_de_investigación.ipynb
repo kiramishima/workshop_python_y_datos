{
 "cells": [
  {
   "attachments": {},
   "cell_type": "markdown",
   "metadata": {},
   "source": [
    "# Víctimas en carpetas de investigación FGJ"
   ]
  },
  {
   "attachments": {},
   "cell_type": "markdown",
   "metadata": {},
   "source": [
    "## Cargando librerias"
   ]
  },
  {
   "cell_type": "code",
   "execution_count": 2,
   "metadata": {},
   "outputs": [],
   "source": [
    "import pandas as pd\n",
    "import numpy as np\n",
    "import matplotlib.pyplot as plt\n",
    "import seaborn as sns"
   ]
  },
  {
   "attachments": {},
   "cell_type": "markdown",
   "metadata": {},
   "source": [
    "## Cargando datos a pandas"
   ]
  },
  {
   "cell_type": "code",
   "execution_count": 3,
   "metadata": {},
   "outputs": [],
   "source": [
    "# Cargamos los datos al dataframe\n",
    "df = pd.read_csv('DATASETS\\da_victimas_completa_enero_2022.csv')"
   ]
  },
  {
   "cell_type": "code",
   "execution_count": 4,
   "metadata": {},
   "outputs": [
    {
     "data": {
      "text/html": [
       "<div>\n",
       "<style scoped>\n",
       "    .dataframe tbody tr th:only-of-type {\n",
       "        vertical-align: middle;\n",
       "    }\n",
       "\n",
       "    .dataframe tbody tr th {\n",
       "        vertical-align: top;\n",
       "    }\n",
       "\n",
       "    .dataframe thead th {\n",
       "        text-align: right;\n",
       "    }\n",
       "</style>\n",
       "<table border=\"1\" class=\"dataframe\">\n",
       "  <thead>\n",
       "    <tr style=\"text-align: right;\">\n",
       "      <th></th>\n",
       "      <th>idCarpeta</th>\n",
       "      <th>Año_inicio</th>\n",
       "      <th>Mes_inicio</th>\n",
       "      <th>FechaInicio</th>\n",
       "      <th>Delito</th>\n",
       "      <th>Categoria</th>\n",
       "      <th>Sexo</th>\n",
       "      <th>Edad</th>\n",
       "      <th>TipoPersona</th>\n",
       "      <th>CalidadJuridica</th>\n",
       "      <th>...</th>\n",
       "      <th>Mes_hecho</th>\n",
       "      <th>FechaHecho</th>\n",
       "      <th>HoraHecho</th>\n",
       "      <th>HoraInicio</th>\n",
       "      <th>alcaldia_hechos</th>\n",
       "      <th>municipio_hechos</th>\n",
       "      <th>colonia_datos</th>\n",
       "      <th>fgj_colonia_registro</th>\n",
       "      <th>latitud</th>\n",
       "      <th>longitud</th>\n",
       "    </tr>\n",
       "  </thead>\n",
       "  <tbody>\n",
       "    <tr>\n",
       "      <th>0</th>\n",
       "      <td>8324429.0</td>\n",
       "      <td>2019</td>\n",
       "      <td>Enero</td>\n",
       "      <td>2019-01-04</td>\n",
       "      <td>FRAUDE</td>\n",
       "      <td>DELITO DE BAJO IMPACTO</td>\n",
       "      <td>Masculino</td>\n",
       "      <td>62.0</td>\n",
       "      <td>FISICA</td>\n",
       "      <td>OFENDIDO</td>\n",
       "      <td>...</td>\n",
       "      <td>Agosto</td>\n",
       "      <td>2018-08-29</td>\n",
       "      <td>12:00:00</td>\n",
       "      <td>12:19:00</td>\n",
       "      <td>ALVARO OBREGON</td>\n",
       "      <td>NaN</td>\n",
       "      <td>GUADALUPE INN</td>\n",
       "      <td>GUADALUPE INN</td>\n",
       "      <td>19.36125</td>\n",
       "      <td>-99.18314</td>\n",
       "    </tr>\n",
       "    <tr>\n",
       "      <th>1</th>\n",
       "      <td>8324430.0</td>\n",
       "      <td>2019</td>\n",
       "      <td>Enero</td>\n",
       "      <td>2019-01-04</td>\n",
       "      <td>PRODUCCIÓN, IMPRESIÓN, ENAJENACIÓN, DISTRIBUCI...</td>\n",
       "      <td>DELITO DE BAJO IMPACTO</td>\n",
       "      <td>Femenino</td>\n",
       "      <td>38.0</td>\n",
       "      <td>FISICA</td>\n",
       "      <td>VICTIMA Y DENUNCIANTE</td>\n",
       "      <td>...</td>\n",
       "      <td>Diciembre</td>\n",
       "      <td>2018-12-15</td>\n",
       "      <td>15:00:00</td>\n",
       "      <td>12:20:00</td>\n",
       "      <td>AZCAPOTZALCO</td>\n",
       "      <td>NaN</td>\n",
       "      <td>VICTORIA DE LAS DEMOCRACIAS</td>\n",
       "      <td>VICTORIA DE LAS DEMOCRACIAS</td>\n",
       "      <td>19.47181</td>\n",
       "      <td>-99.16458</td>\n",
       "    </tr>\n",
       "    <tr>\n",
       "      <th>2</th>\n",
       "      <td>8324431.0</td>\n",
       "      <td>2019</td>\n",
       "      <td>Enero</td>\n",
       "      <td>2019-01-04</td>\n",
       "      <td>ROBO A TRANSEUNTE SALIENDO DEL BANCO CON VIOLE...</td>\n",
       "      <td>ROBO A CUENTAHABIENTE SALIENDO DEL CAJERO CON ...</td>\n",
       "      <td>Masculino</td>\n",
       "      <td>42.0</td>\n",
       "      <td>FISICA</td>\n",
       "      <td>VICTIMA Y DENUNCIANTE</td>\n",
       "      <td>...</td>\n",
       "      <td>Diciembre</td>\n",
       "      <td>2018-12-22</td>\n",
       "      <td>15:30:00</td>\n",
       "      <td>12:23:00</td>\n",
       "      <td>COYOACAN</td>\n",
       "      <td>NaN</td>\n",
       "      <td>COPILCO EL BAJO</td>\n",
       "      <td>COPILCO UNIVERSIDAD ISSSTE</td>\n",
       "      <td>19.33797</td>\n",
       "      <td>-99.18611</td>\n",
       "    </tr>\n",
       "    <tr>\n",
       "      <th>3</th>\n",
       "      <td>8324435.0</td>\n",
       "      <td>2019</td>\n",
       "      <td>Enero</td>\n",
       "      <td>2019-01-04</td>\n",
       "      <td>ROBO DE VEHICULO DE SERVICIO PARTICULAR SIN VI...</td>\n",
       "      <td>ROBO DE VEHÍCULO CON Y SIN VIOLENCIA</td>\n",
       "      <td>Masculino</td>\n",
       "      <td>35.0</td>\n",
       "      <td>FISICA</td>\n",
       "      <td>VICTIMA Y DENUNCIANTE</td>\n",
       "      <td>...</td>\n",
       "      <td>Enero</td>\n",
       "      <td>2019-01-04</td>\n",
       "      <td>06:00:00</td>\n",
       "      <td>12:27:00</td>\n",
       "      <td>IZTACALCO</td>\n",
       "      <td>NaN</td>\n",
       "      <td>PANTITLAN V</td>\n",
       "      <td>AGRÍCOLA PANTITLAN</td>\n",
       "      <td>19.40327</td>\n",
       "      <td>-99.05983</td>\n",
       "    </tr>\n",
       "    <tr>\n",
       "      <th>4</th>\n",
       "      <td>8324438.0</td>\n",
       "      <td>2019</td>\n",
       "      <td>Enero</td>\n",
       "      <td>2019-01-04</td>\n",
       "      <td>ROBO DE MOTOCICLETA SIN VIOLENCIA</td>\n",
       "      <td>ROBO DE VEHÍCULO CON Y SIN VIOLENCIA</td>\n",
       "      <td>Masculino</td>\n",
       "      <td>NaN</td>\n",
       "      <td>FISICA</td>\n",
       "      <td>VICTIMA</td>\n",
       "      <td>...</td>\n",
       "      <td>Enero</td>\n",
       "      <td>2019-01-03</td>\n",
       "      <td>20:00:00</td>\n",
       "      <td>12:35:00</td>\n",
       "      <td>IZTAPALAPA</td>\n",
       "      <td>NaN</td>\n",
       "      <td>LAS AMERICAS (U HAB)</td>\n",
       "      <td>PROGRESISTA</td>\n",
       "      <td>19.35480</td>\n",
       "      <td>-99.06324</td>\n",
       "    </tr>\n",
       "  </tbody>\n",
       "</table>\n",
       "<p>5 rows × 22 columns</p>\n",
       "</div>"
      ],
      "text/plain": [
       "   idCarpeta  Año_inicio Mes_inicio FechaInicio  \\\n",
       "0  8324429.0        2019      Enero  2019-01-04   \n",
       "1  8324430.0        2019      Enero  2019-01-04   \n",
       "2  8324431.0        2019      Enero  2019-01-04   \n",
       "3  8324435.0        2019      Enero  2019-01-04   \n",
       "4  8324438.0        2019      Enero  2019-01-04   \n",
       "\n",
       "                                              Delito  \\\n",
       "0                                             FRAUDE   \n",
       "1  PRODUCCIÓN, IMPRESIÓN, ENAJENACIÓN, DISTRIBUCI...   \n",
       "2  ROBO A TRANSEUNTE SALIENDO DEL BANCO CON VIOLE...   \n",
       "3  ROBO DE VEHICULO DE SERVICIO PARTICULAR SIN VI...   \n",
       "4                  ROBO DE MOTOCICLETA SIN VIOLENCIA   \n",
       "\n",
       "                                           Categoria       Sexo  Edad  \\\n",
       "0                             DELITO DE BAJO IMPACTO  Masculino  62.0   \n",
       "1                             DELITO DE BAJO IMPACTO   Femenino  38.0   \n",
       "2  ROBO A CUENTAHABIENTE SALIENDO DEL CAJERO CON ...  Masculino  42.0   \n",
       "3               ROBO DE VEHÍCULO CON Y SIN VIOLENCIA  Masculino  35.0   \n",
       "4               ROBO DE VEHÍCULO CON Y SIN VIOLENCIA  Masculino   NaN   \n",
       "\n",
       "  TipoPersona        CalidadJuridica  ...  Mes_hecho  FechaHecho HoraHecho  \\\n",
       "0      FISICA               OFENDIDO  ...     Agosto  2018-08-29  12:00:00   \n",
       "1      FISICA  VICTIMA Y DENUNCIANTE  ...  Diciembre  2018-12-15  15:00:00   \n",
       "2      FISICA  VICTIMA Y DENUNCIANTE  ...  Diciembre  2018-12-22  15:30:00   \n",
       "3      FISICA  VICTIMA Y DENUNCIANTE  ...      Enero  2019-01-04  06:00:00   \n",
       "4      FISICA                VICTIMA  ...      Enero  2019-01-03  20:00:00   \n",
       "\n",
       "  HoraInicio alcaldia_hechos municipio_hechos                colonia_datos  \\\n",
       "0   12:19:00  ALVARO OBREGON              NaN                GUADALUPE INN   \n",
       "1   12:20:00    AZCAPOTZALCO              NaN  VICTORIA DE LAS DEMOCRACIAS   \n",
       "2   12:23:00        COYOACAN              NaN              COPILCO EL BAJO   \n",
       "3   12:27:00       IZTACALCO              NaN                  PANTITLAN V   \n",
       "4   12:35:00      IZTAPALAPA              NaN         LAS AMERICAS (U HAB)   \n",
       "\n",
       "          fgj_colonia_registro   latitud  longitud  \n",
       "0                GUADALUPE INN  19.36125 -99.18314  \n",
       "1  VICTORIA DE LAS DEMOCRACIAS  19.47181 -99.16458  \n",
       "2   COPILCO UNIVERSIDAD ISSSTE  19.33797 -99.18611  \n",
       "3           AGRÍCOLA PANTITLAN  19.40327 -99.05983  \n",
       "4                  PROGRESISTA  19.35480 -99.06324  \n",
       "\n",
       "[5 rows x 22 columns]"
      ]
     },
     "execution_count": 4,
     "metadata": {},
     "output_type": "execute_result"
    }
   ],
   "source": [
    "# Revisamos las 1ras 5 filas\n",
    "df.head(5)"
   ]
  },
  {
   "cell_type": "code",
   "execution_count": 5,
   "metadata": {},
   "outputs": [
    {
     "data": {
      "text/html": [
       "<div>\n",
       "<style scoped>\n",
       "    .dataframe tbody tr th:only-of-type {\n",
       "        vertical-align: middle;\n",
       "    }\n",
       "\n",
       "    .dataframe tbody tr th {\n",
       "        vertical-align: top;\n",
       "    }\n",
       "\n",
       "    .dataframe thead th {\n",
       "        text-align: right;\n",
       "    }\n",
       "</style>\n",
       "<table border=\"1\" class=\"dataframe\">\n",
       "  <thead>\n",
       "    <tr style=\"text-align: right;\">\n",
       "      <th></th>\n",
       "      <th>idCarpeta</th>\n",
       "      <th>Año_inicio</th>\n",
       "      <th>Mes_inicio</th>\n",
       "      <th>FechaInicio</th>\n",
       "      <th>Delito</th>\n",
       "      <th>Categoria</th>\n",
       "      <th>Sexo</th>\n",
       "      <th>Edad</th>\n",
       "      <th>TipoPersona</th>\n",
       "      <th>CalidadJuridica</th>\n",
       "      <th>...</th>\n",
       "      <th>Mes_hecho</th>\n",
       "      <th>FechaHecho</th>\n",
       "      <th>HoraHecho</th>\n",
       "      <th>HoraInicio</th>\n",
       "      <th>alcaldia_hechos</th>\n",
       "      <th>municipio_hechos</th>\n",
       "      <th>colonia_datos</th>\n",
       "      <th>fgj_colonia_registro</th>\n",
       "      <th>latitud</th>\n",
       "      <th>longitud</th>\n",
       "    </tr>\n",
       "  </thead>\n",
       "  <tbody>\n",
       "    <tr>\n",
       "      <th>994246</th>\n",
       "      <td>9383188.0</td>\n",
       "      <td>2023</td>\n",
       "      <td>Enero</td>\n",
       "      <td>2023-01-31</td>\n",
       "      <td>ROBO A NEGOCIO SIN VIOLENCIA POR FARDEROS (TIE...</td>\n",
       "      <td>DELITO DE BAJO IMPACTO</td>\n",
       "      <td>NaN</td>\n",
       "      <td>NaN</td>\n",
       "      <td>MORAL</td>\n",
       "      <td>OFENDIDO</td>\n",
       "      <td>...</td>\n",
       "      <td>Enero</td>\n",
       "      <td>2023-01-31</td>\n",
       "      <td>22:35:00</td>\n",
       "      <td>23:55:00</td>\n",
       "      <td>GUSTAVO A. MADERO</td>\n",
       "      <td>NaN</td>\n",
       "      <td>GUADALUPE TEPEYAC</td>\n",
       "      <td>GUADALUPE TEPEYAC</td>\n",
       "      <td>19.472222</td>\n",
       "      <td>-99.121970</td>\n",
       "    </tr>\n",
       "    <tr>\n",
       "      <th>994247</th>\n",
       "      <td>9383189.0</td>\n",
       "      <td>2023</td>\n",
       "      <td>Enero</td>\n",
       "      <td>2023-01-31</td>\n",
       "      <td>ABUSO DE CONFIANZA</td>\n",
       "      <td>DELITO DE BAJO IMPACTO</td>\n",
       "      <td>Masculino</td>\n",
       "      <td>NaN</td>\n",
       "      <td>FISICA</td>\n",
       "      <td>VICTIMA Y DENUNCIANTE</td>\n",
       "      <td>...</td>\n",
       "      <td>Enero</td>\n",
       "      <td>2023-01-09</td>\n",
       "      <td>12:00:00</td>\n",
       "      <td>23:57:00</td>\n",
       "      <td>TLALPAN</td>\n",
       "      <td>NaN</td>\n",
       "      <td>LOS VOLCANES</td>\n",
       "      <td>LOS VOLCANES</td>\n",
       "      <td>19.269199</td>\n",
       "      <td>-99.174285</td>\n",
       "    </tr>\n",
       "    <tr>\n",
       "      <th>994248</th>\n",
       "      <td>9383190.0</td>\n",
       "      <td>2023</td>\n",
       "      <td>Enero</td>\n",
       "      <td>2023-01-31</td>\n",
       "      <td>FRAUDE</td>\n",
       "      <td>DELITO DE BAJO IMPACTO</td>\n",
       "      <td>Femenino</td>\n",
       "      <td>42.0</td>\n",
       "      <td>FISICA</td>\n",
       "      <td>VICTIMA Y DENUNCIANTE</td>\n",
       "      <td>...</td>\n",
       "      <td>Diciembre</td>\n",
       "      <td>2022-12-30</td>\n",
       "      <td>10:45:00</td>\n",
       "      <td>23:57:00</td>\n",
       "      <td>CUAUHTEMOC</td>\n",
       "      <td>NaN</td>\n",
       "      <td>CENTRO IV</td>\n",
       "      <td>CENTRO</td>\n",
       "      <td>19.429240</td>\n",
       "      <td>-99.134771</td>\n",
       "    </tr>\n",
       "    <tr>\n",
       "      <th>994249</th>\n",
       "      <td>9383191.0</td>\n",
       "      <td>2023</td>\n",
       "      <td>Enero</td>\n",
       "      <td>2023-01-31</td>\n",
       "      <td>VIOLENCIA FAMILIAR</td>\n",
       "      <td>DELITO DE BAJO IMPACTO</td>\n",
       "      <td>Masculino</td>\n",
       "      <td>49.0</td>\n",
       "      <td>FISICA</td>\n",
       "      <td>VICTIMA Y DENUNCIANTE</td>\n",
       "      <td>...</td>\n",
       "      <td>Enero</td>\n",
       "      <td>2023-01-31</td>\n",
       "      <td>17:40:00</td>\n",
       "      <td>23:59:00</td>\n",
       "      <td>MILPA ALTA</td>\n",
       "      <td>NaN</td>\n",
       "      <td>SAN ANTONIO TECOMITL (PBLO)</td>\n",
       "      <td>TENANTITLA (SAN ANTONIO TECOMITL)</td>\n",
       "      <td>19.216952</td>\n",
       "      <td>-99.001603</td>\n",
       "    </tr>\n",
       "    <tr>\n",
       "      <th>994250</th>\n",
       "      <td>9383192.0</td>\n",
       "      <td>2023</td>\n",
       "      <td>Enero</td>\n",
       "      <td>2023-01-31</td>\n",
       "      <td>FRAUDE</td>\n",
       "      <td>DELITO DE BAJO IMPACTO</td>\n",
       "      <td>Femenino</td>\n",
       "      <td>32.0</td>\n",
       "      <td>FISICA</td>\n",
       "      <td>VICTIMA Y DENUNCIANTE</td>\n",
       "      <td>...</td>\n",
       "      <td>Enero</td>\n",
       "      <td>2023-01-31</td>\n",
       "      <td>13:10:00</td>\n",
       "      <td>23:59:00</td>\n",
       "      <td>IZTACALCO</td>\n",
       "      <td>NaN</td>\n",
       "      <td>SANTA ANITA</td>\n",
       "      <td>SANTA ANITA</td>\n",
       "      <td>19.402165</td>\n",
       "      <td>-99.118786</td>\n",
       "    </tr>\n",
       "  </tbody>\n",
       "</table>\n",
       "<p>5 rows × 22 columns</p>\n",
       "</div>"
      ],
      "text/plain": [
       "        idCarpeta  Año_inicio Mes_inicio FechaInicio  \\\n",
       "994246  9383188.0        2023      Enero  2023-01-31   \n",
       "994247  9383189.0        2023      Enero  2023-01-31   \n",
       "994248  9383190.0        2023      Enero  2023-01-31   \n",
       "994249  9383191.0        2023      Enero  2023-01-31   \n",
       "994250  9383192.0        2023      Enero  2023-01-31   \n",
       "\n",
       "                                                   Delito  \\\n",
       "994246  ROBO A NEGOCIO SIN VIOLENCIA POR FARDEROS (TIE...   \n",
       "994247                                 ABUSO DE CONFIANZA   \n",
       "994248                                             FRAUDE   \n",
       "994249                                 VIOLENCIA FAMILIAR   \n",
       "994250                                             FRAUDE   \n",
       "\n",
       "                     Categoria       Sexo  Edad TipoPersona  \\\n",
       "994246  DELITO DE BAJO IMPACTO        NaN   NaN       MORAL   \n",
       "994247  DELITO DE BAJO IMPACTO  Masculino   NaN      FISICA   \n",
       "994248  DELITO DE BAJO IMPACTO   Femenino  42.0      FISICA   \n",
       "994249  DELITO DE BAJO IMPACTO  Masculino  49.0      FISICA   \n",
       "994250  DELITO DE BAJO IMPACTO   Femenino  32.0      FISICA   \n",
       "\n",
       "              CalidadJuridica  ...  Mes_hecho  FechaHecho HoraHecho  \\\n",
       "994246               OFENDIDO  ...      Enero  2023-01-31  22:35:00   \n",
       "994247  VICTIMA Y DENUNCIANTE  ...      Enero  2023-01-09  12:00:00   \n",
       "994248  VICTIMA Y DENUNCIANTE  ...  Diciembre  2022-12-30  10:45:00   \n",
       "994249  VICTIMA Y DENUNCIANTE  ...      Enero  2023-01-31  17:40:00   \n",
       "994250  VICTIMA Y DENUNCIANTE  ...      Enero  2023-01-31  13:10:00   \n",
       "\n",
       "       HoraInicio    alcaldia_hechos municipio_hechos  \\\n",
       "994246   23:55:00  GUSTAVO A. MADERO              NaN   \n",
       "994247   23:57:00            TLALPAN              NaN   \n",
       "994248   23:57:00         CUAUHTEMOC              NaN   \n",
       "994249   23:59:00         MILPA ALTA              NaN   \n",
       "994250   23:59:00          IZTACALCO              NaN   \n",
       "\n",
       "                      colonia_datos               fgj_colonia_registro  \\\n",
       "994246            GUADALUPE TEPEYAC                  GUADALUPE TEPEYAC   \n",
       "994247                 LOS VOLCANES                       LOS VOLCANES   \n",
       "994248                    CENTRO IV                             CENTRO   \n",
       "994249  SAN ANTONIO TECOMITL (PBLO)  TENANTITLA (SAN ANTONIO TECOMITL)   \n",
       "994250                  SANTA ANITA                        SANTA ANITA   \n",
       "\n",
       "          latitud   longitud  \n",
       "994246  19.472222 -99.121970  \n",
       "994247  19.269199 -99.174285  \n",
       "994248  19.429240 -99.134771  \n",
       "994249  19.216952 -99.001603  \n",
       "994250  19.402165 -99.118786  \n",
       "\n",
       "[5 rows x 22 columns]"
      ]
     },
     "execution_count": 5,
     "metadata": {},
     "output_type": "execute_result"
    }
   ],
   "source": [
    "# Revisamos las 5 ultimas filas\n",
    "df.tail(5)"
   ]
  },
  {
   "cell_type": "code",
   "execution_count": 6,
   "metadata": {},
   "outputs": [
    {
     "name": "stdout",
     "output_type": "stream",
     "text": [
      "<class 'pandas.core.frame.DataFrame'>\n",
      "RangeIndex: 994251 entries, 0 to 994250\n",
      "Data columns (total 22 columns):\n",
      " #   Column                Non-Null Count   Dtype  \n",
      "---  ------                --------------   -----  \n",
      " 0   idCarpeta             994251 non-null  float64\n",
      " 1   Año_inicio            994251 non-null  int64  \n",
      " 2   Mes_inicio            994251 non-null  object \n",
      " 3   FechaInicio           994251 non-null  object \n",
      " 4   Delito                994251 non-null  object \n",
      " 5   Categoria             994251 non-null  object \n",
      " 6   Sexo                  810813 non-null  object \n",
      " 7   Edad                  641678 non-null  float64\n",
      " 8   TipoPersona           987685 non-null  object \n",
      " 9   CalidadJuridica       994250 non-null  object \n",
      " 10  competencia           994251 non-null  object \n",
      " 11  Año_hecho             993877 non-null  float64\n",
      " 12  Mes_hecho             993877 non-null  object \n",
      " 13  FechaHecho            993877 non-null  object \n",
      " 14  HoraHecho             993886 non-null  object \n",
      " 15  HoraInicio            994250 non-null  object \n",
      " 16  alcaldia_hechos       994251 non-null  object \n",
      " 17  municipio_hechos      9728 non-null    object \n",
      " 18  colonia_datos         923415 non-null  object \n",
      " 19  fgj_colonia_registro  946572 non-null  object \n",
      " 20  latitud               994251 non-null  float64\n",
      " 21  longitud              994251 non-null  float64\n",
      "dtypes: float64(5), int64(1), object(16)\n",
      "memory usage: 166.9+ MB\n"
     ]
    }
   ],
   "source": [
    "# Información general\n",
    "\n",
    "df.info()"
   ]
  },
  {
   "attachments": {},
   "cell_type": "markdown",
   "metadata": {},
   "source": [
    "> Se observa que hay columnas con datos faltantes en algunas columnas."
   ]
  },
  {
   "cell_type": "code",
   "execution_count": 7,
   "metadata": {},
   "outputs": [
    {
     "data": {
      "text/plain": [
       "Index(['idCarpeta', 'Año_inicio', 'Mes_inicio', 'FechaInicio', 'Delito',\n",
       "       'Categoria', 'Sexo', 'Edad', 'TipoPersona', 'CalidadJuridica',\n",
       "       'competencia', 'Año_hecho', 'Mes_hecho', 'FechaHecho', 'HoraHecho',\n",
       "       'HoraInicio', 'alcaldia_hechos', 'municipio_hechos', 'colonia_datos',\n",
       "       'fgj_colonia_registro', 'latitud', 'longitud'],\n",
       "      dtype='object')"
      ]
     },
     "execution_count": 7,
     "metadata": {},
     "output_type": "execute_result"
    }
   ],
   "source": [
    "# Obtenemos el listado de columnas del DataFrame\n",
    "\n",
    "df.columns"
   ]
  },
  {
   "cell_type": "code",
   "execution_count": 8,
   "metadata": {},
   "outputs": [
    {
     "data": {
      "text/plain": [
       "idCarpeta               float64\n",
       "Año_inicio                int64\n",
       "Mes_inicio               object\n",
       "FechaInicio              object\n",
       "Delito                   object\n",
       "Categoria                object\n",
       "Sexo                     object\n",
       "Edad                    float64\n",
       "TipoPersona              object\n",
       "CalidadJuridica          object\n",
       "competencia              object\n",
       "Año_hecho               float64\n",
       "Mes_hecho                object\n",
       "FechaHecho               object\n",
       "HoraHecho                object\n",
       "HoraInicio               object\n",
       "alcaldia_hechos          object\n",
       "municipio_hechos         object\n",
       "colonia_datos            object\n",
       "fgj_colonia_registro     object\n",
       "latitud                 float64\n",
       "longitud                float64\n",
       "dtype: object"
      ]
     },
     "execution_count": 8,
     "metadata": {},
     "output_type": "execute_result"
    }
   ],
   "source": [
    "# Tipo de datos de las columnas\n",
    "df.dtypes"
   ]
  },
  {
   "cell_type": "code",
   "execution_count": 9,
   "metadata": {},
   "outputs": [
    {
     "data": {
      "text/html": [
       "<div>\n",
       "<style scoped>\n",
       "    .dataframe tbody tr th:only-of-type {\n",
       "        vertical-align: middle;\n",
       "    }\n",
       "\n",
       "    .dataframe tbody tr th {\n",
       "        vertical-align: top;\n",
       "    }\n",
       "\n",
       "    .dataframe thead th {\n",
       "        text-align: right;\n",
       "    }\n",
       "</style>\n",
       "<table border=\"1\" class=\"dataframe\">\n",
       "  <thead>\n",
       "    <tr style=\"text-align: right;\">\n",
       "      <th></th>\n",
       "      <th>idCarpeta</th>\n",
       "      <th>Año_inicio</th>\n",
       "      <th>Edad</th>\n",
       "      <th>Año_hecho</th>\n",
       "      <th>latitud</th>\n",
       "      <th>longitud</th>\n",
       "    </tr>\n",
       "  </thead>\n",
       "  <tbody>\n",
       "    <tr>\n",
       "      <th>count</th>\n",
       "      <td>9.942510e+05</td>\n",
       "      <td>994251.000000</td>\n",
       "      <td>641678.000000</td>\n",
       "      <td>993877.000000</td>\n",
       "      <td>994251.000000</td>\n",
       "      <td>994251.000000</td>\n",
       "    </tr>\n",
       "    <tr>\n",
       "      <th>mean</th>\n",
       "      <td>8.850491e+06</td>\n",
       "      <td>2020.543727</td>\n",
       "      <td>38.834093</td>\n",
       "      <td>2020.378919</td>\n",
       "      <td>18.459464</td>\n",
       "      <td>-92.025032</td>\n",
       "    </tr>\n",
       "    <tr>\n",
       "      <th>std</th>\n",
       "      <td>3.183876e+05</td>\n",
       "      <td>1.188511</td>\n",
       "      <td>16.299900</td>\n",
       "      <td>2.444895</td>\n",
       "      <td>4.133876</td>\n",
       "      <td>26.467157</td>\n",
       "    </tr>\n",
       "    <tr>\n",
       "      <th>min</th>\n",
       "      <td>4.928620e+06</td>\n",
       "      <td>2019.000000</td>\n",
       "      <td>0.000000</td>\n",
       "      <td>222.000000</td>\n",
       "      <td>0.000000</td>\n",
       "      <td>-99.342357</td>\n",
       "    </tr>\n",
       "    <tr>\n",
       "      <th>25%</th>\n",
       "      <td>8.580746e+06</td>\n",
       "      <td>2019.000000</td>\n",
       "      <td>27.000000</td>\n",
       "      <td>2019.000000</td>\n",
       "      <td>19.324939</td>\n",
       "      <td>-99.173050</td>\n",
       "    </tr>\n",
       "    <tr>\n",
       "      <th>50%</th>\n",
       "      <td>8.846271e+06</td>\n",
       "      <td>2021.000000</td>\n",
       "      <td>37.000000</td>\n",
       "      <td>2020.000000</td>\n",
       "      <td>19.382200</td>\n",
       "      <td>-99.135870</td>\n",
       "    </tr>\n",
       "    <tr>\n",
       "      <th>75%</th>\n",
       "      <td>9.119400e+06</td>\n",
       "      <td>2022.000000</td>\n",
       "      <td>49.000000</td>\n",
       "      <td>2022.000000</td>\n",
       "      <td>19.435452</td>\n",
       "      <td>-99.081520</td>\n",
       "    </tr>\n",
       "    <tr>\n",
       "      <th>max</th>\n",
       "      <td>8.488101e+07</td>\n",
       "      <td>2023.000000</td>\n",
       "      <td>369.000000</td>\n",
       "      <td>2023.000000</td>\n",
       "      <td>19.583333</td>\n",
       "      <td>19.577720</td>\n",
       "    </tr>\n",
       "  </tbody>\n",
       "</table>\n",
       "</div>"
      ],
      "text/plain": [
       "          idCarpeta     Año_inicio           Edad      Año_hecho  \\\n",
       "count  9.942510e+05  994251.000000  641678.000000  993877.000000   \n",
       "mean   8.850491e+06    2020.543727      38.834093    2020.378919   \n",
       "std    3.183876e+05       1.188511      16.299900       2.444895   \n",
       "min    4.928620e+06    2019.000000       0.000000     222.000000   \n",
       "25%    8.580746e+06    2019.000000      27.000000    2019.000000   \n",
       "50%    8.846271e+06    2021.000000      37.000000    2020.000000   \n",
       "75%    9.119400e+06    2022.000000      49.000000    2022.000000   \n",
       "max    8.488101e+07    2023.000000     369.000000    2023.000000   \n",
       "\n",
       "             latitud       longitud  \n",
       "count  994251.000000  994251.000000  \n",
       "mean       18.459464     -92.025032  \n",
       "std         4.133876      26.467157  \n",
       "min         0.000000     -99.342357  \n",
       "25%        19.324939     -99.173050  \n",
       "50%        19.382200     -99.135870  \n",
       "75%        19.435452     -99.081520  \n",
       "max        19.583333      19.577720  "
      ]
     },
     "execution_count": 9,
     "metadata": {},
     "output_type": "execute_result"
    }
   ],
   "source": [
    "# Información estadistica\n",
    "df.describe()"
   ]
  },
  {
   "attachments": {},
   "cell_type": "markdown",
   "metadata": {},
   "source": [
    "> Se detecta que en la columna Año_hecho el 2022 fue colocado como 222, hay que arreglarlo"
   ]
  },
  {
   "cell_type": "code",
   "execution_count": 10,
   "metadata": {},
   "outputs": [
    {
     "data": {
      "text/plain": [
       "(994251, 22)"
      ]
     },
     "execution_count": 10,
     "metadata": {},
     "output_type": "execute_result"
    }
   ],
   "source": [
    "# Información sobre cuantas filas y columnas tiene el dataset\n",
    "df.shape"
   ]
  },
  {
   "cell_type": "code",
   "execution_count": 11,
   "metadata": {},
   "outputs": [
    {
     "data": {
      "text/plain": [
       "array([ 222., 1917., 1950., 1952., 1955., 1958., 1961., 1962., 1963.,\n",
       "       1964., 1965., 1966., 1967., 1968., 1969., 1970., 1971., 1972.,\n",
       "       1973., 1974., 1975., 1976., 1977., 1978., 1979., 1980., 1981.,\n",
       "       1982., 1983., 1984., 1985., 1986., 1987., 1988., 1989., 1990.,\n",
       "       1991., 1992., 1993., 1994., 1995., 1996., 1997., 1998., 1999.,\n",
       "       2000., 2001., 2002., 2003., 2004., 2005., 2006., 2007., 2008.,\n",
       "       2009., 2010., 2011., 2012., 2013., 2014., 2015., 2016., 2017.,\n",
       "       2018., 2019., 2020., 2021., 2022., 2023.,   nan])"
      ]
     },
     "execution_count": 11,
     "metadata": {},
     "output_type": "execute_result"
    }
   ],
   "source": [
    "# Obtenemos los valores que hay en Año_hecho y los ordenamos\n",
    "df['Año_hecho'].sort_values().unique()"
   ]
  },
  {
   "cell_type": "code",
   "execution_count": 13,
   "metadata": {},
   "outputs": [
    {
     "name": "stdout",
     "output_type": "stream",
     "text": [
      "1\n",
      "Año_hecho       0\n",
      "Año_inicio    374\n",
      "dtype: int64\n"
     ]
    }
   ],
   "source": [
    "# 222\n",
    "print(df[df['Año_hecho'] == 222]['Año_hecho'].count())\n",
    "\n",
    "# NaN\n",
    "print(df[df['Año_hecho'].isna()][['Año_hecho', 'Año_inicio']].count())\n"
   ]
  },
  {
   "cell_type": "code",
   "execution_count": 14,
   "metadata": {},
   "outputs": [],
   "source": [
    "# Actualizamos el dato para 2022\n",
    "df['Año_hecho'] = np.where(df['Año_hecho'] == 222, 2022, df['Año_hecho'])"
   ]
  },
  {
   "cell_type": "code",
   "execution_count": 15,
   "metadata": {},
   "outputs": [],
   "source": [
    "# Actualizamos el dato para los NaN\n",
    "df.loc[df['Año_hecho'].isna(), 'Año_hecho'] = df.loc[df['Año_hecho'].isna(), 'Año_inicio']"
   ]
  },
  {
   "cell_type": "code",
   "execution_count": 16,
   "metadata": {},
   "outputs": [
    {
     "data": {
      "text/plain": [
       "array([1917., 1950., 1952., 1955., 1958., 1961., 1962., 1963., 1964.,\n",
       "       1965., 1966., 1967., 1968., 1969., 1970., 1971., 1972., 1973.,\n",
       "       1974., 1975., 1976., 1977., 1978., 1979., 1980., 1981., 1982.,\n",
       "       1983., 1984., 1985., 1986., 1987., 1988., 1989., 1990., 1991.,\n",
       "       1992., 1993., 1994., 1995., 1996., 1997., 1998., 1999., 2000.,\n",
       "       2001., 2002., 2003., 2004., 2005., 2006., 2007., 2008., 2009.,\n",
       "       2010., 2011., 2012., 2013., 2014., 2015., 2016., 2017., 2018.,\n",
       "       2019., 2020., 2021., 2022., 2023.])"
      ]
     },
     "execution_count": 16,
     "metadata": {},
     "output_type": "execute_result"
    }
   ],
   "source": [
    "# Volvemos a obtener los valores que hay en Año_hecho y los ordenamos\n",
    "df['Año_hecho'].sort_values().unique()"
   ]
  },
  {
   "attachments": {},
   "cell_type": "markdown",
   "metadata": {},
   "source": [
    "> Ahora ya hay correspondencia con los años"
   ]
  },
  {
   "attachments": {},
   "cell_type": "markdown",
   "metadata": {},
   "source": [
    "### ¿Cuántos delitos registrados hay en la tabla? "
   ]
  },
  {
   "cell_type": "code",
   "execution_count": 17,
   "metadata": {},
   "outputs": [
    {
     "data": {
      "text/plain": [
       "994251"
      ]
     },
     "execution_count": 17,
     "metadata": {},
     "output_type": "execute_result"
    }
   ],
   "source": [
    "# Contamos cuantos delitos tiene registrada la tabla de manera general\n",
    "df.Delito.count()"
   ]
  },
  {
   "cell_type": "code",
   "execution_count": 18,
   "metadata": {},
   "outputs": [
    {
     "data": {
      "text/plain": [
       "310"
      ]
     },
     "execution_count": 18,
     "metadata": {},
     "output_type": "execute_result"
    }
   ],
   "source": [
    "# También podemos contar cuantos tipos de delitos hay registrados\n",
    "len(df.Delito.unique())"
   ]
  },
  {
   "attachments": {},
   "cell_type": "markdown",
   "metadata": {},
   "source": [
    "> 994251 Delitos registrados, con 310 tipos de delitos"
   ]
  },
  {
   "attachments": {},
   "cell_type": "markdown",
   "metadata": {},
   "source": [
    "### ¿Qué rango de tiempo consideran los datos?"
   ]
  },
  {
   "cell_type": "code",
   "execution_count": 19,
   "metadata": {},
   "outputs": [
    {
     "data": {
      "text/plain": [
       "amin    2019\n",
       "amax    2023\n",
       "Name: Año_inicio, dtype: int64"
      ]
     },
     "execution_count": 19,
     "metadata": {},
     "output_type": "execute_result"
    }
   ],
   "source": [
    "df['Año_inicio'].agg([np.min, np.max])"
   ]
  },
  {
   "attachments": {},
   "cell_type": "markdown",
   "metadata": {},
   "source": [
    "> Abarca desde el 2019 al 2023"
   ]
  },
  {
   "attachments": {},
   "cell_type": "markdown",
   "metadata": {},
   "source": [
    "### ¿Cómo se distribuye el número de delitos en la CDMX?"
   ]
  },
  {
   "cell_type": "code",
   "execution_count": 20,
   "metadata": {},
   "outputs": [
    {
     "data": {
      "text/plain": [
       "DELITO DE BAJO IMPACTO                                     815868\n",
       "ROBO A TRANSEUNTE EN VÍA PÚBLICA CON Y SIN VIOLENCIA        51609\n",
       "ROBO DE VEHÍCULO CON Y SIN VIOLENCIA                        39273\n",
       "ROBO A NEGOCIO CON VIOLENCIA                                23953\n",
       "HECHO NO DELICTIVO                                          16403\n",
       "ROBO A REPARTIDOR CON Y SIN VIOLENCIA                       11144\n",
       "VIOLACIÓN                                                    8605\n",
       "ROBO A PASAJERO A BORDO DEL METRO CON Y SIN VIOLENCIA        6559\n",
       "HOMICIDIO DOLOSO                                             6067\n",
       "LESIONES DOLOSAS POR DISPARO DE ARMA DE FUEGO                5070\n",
       "ROBO A PASAJERO A BORDO DE MICROBUS CON Y SIN VIOLENCIA      3794\n",
       "ROBO A CASA HABITACIÓN CON VIOLENCIA                         2364\n",
       "ROBO A CUENTAHABIENTE SALIENDO DEL CAJERO CON VIOLENCIA      1745\n",
       "ROBO A PASAJERO A BORDO DE TAXI CON VIOLENCIA                1193\n",
       "ROBO A TRANSPORTISTA CON Y SIN VIOLENCIA                      471\n",
       "SECUESTRO                                                     133\n",
       "Name: Categoria, dtype: int64"
      ]
     },
     "execution_count": 20,
     "metadata": {},
     "output_type": "execute_result"
    }
   ],
   "source": [
    "df.Categoria.value_counts()"
   ]
  },
  {
   "cell_type": "code",
   "execution_count": 21,
   "metadata": {},
   "outputs": [
    {
     "data": {
      "image/png": "[encoded data removed]",
      "text/plain": [
       "<Figure size 640x480 with 1 Axes>"
      ]
     },
     "metadata": {},
     "output_type": "display_data"
    }
   ],
   "source": [
    "g = sns.countplot(data=df, x='Categoria', order=df.Categoria.value_counts(ascending=False).iloc[:10].index)\n",
    "plt.xticks(rotation=90)\n",
    "g.set_title(\"Top 10 Categorias delictivas CDMX\")\n",
    "g.set(ylabel='Total')\n",
    "plt.show()"
   ]
  },
  {
   "attachments": {},
   "cell_type": "markdown",
   "metadata": {},
   "source": [
    "Si lo distribuimos por categoría, se dividen en 16 categorias los delitos."
   ]
  },
  {
   "cell_type": "code",
   "execution_count": 22,
   "metadata": {},
   "outputs": [
    {
     "data": {
      "text/plain": [
       "VIOLENCIA FAMILIAR                                              137479\n",
       "FRAUDE                                                           73907\n",
       "AMENAZAS                                                         67924\n",
       "ROBO DE OBJETOS                                                  50596\n",
       "ROBO A TRANSEUNTE EN VIA PUBLICA CON VIOLENCIA                   43421\n",
       "                                                                 ...  \n",
       "DENUNCIA DE HECHOS POR ROBO DE CELULAR                               1\n",
       "ROBO A TRANSEUNTE EN VIA PUBLICA (NOMINA) SIN VIOLENCIA              1\n",
       "OTROS DELITOS                                                        1\n",
       "ROBO DE INFANTE                                                      1\n",
       "INTIMIDACION (EVITAR DENUNCIA, APORTE INFORMACIÓN O PRUEBAS)         1\n",
       "Name: Delito, Length: 310, dtype: int64"
      ]
     },
     "execution_count": 22,
     "metadata": {},
     "output_type": "execute_result"
    }
   ],
   "source": [
    "df.Delito.value_counts()"
   ]
  },
  {
   "cell_type": "code",
   "execution_count": 23,
   "metadata": {},
   "outputs": [
    {
     "data": {
      "image/png": "[encoded data removed]",
      "text/plain": [
       "<Figure size 640x480 with 1 Axes>"
      ]
     },
     "metadata": {},
     "output_type": "display_data"
    }
   ],
   "source": [
    "g = sns.countplot(data=df, x='Delito', order=df.Delito.value_counts().iloc[:10].index)\n",
    "plt.xticks(rotation=90)\n",
    "g.set_title(\"Top 10 Delitos con más incidencias de CDMX\")\n",
    "g.set(ylabel='Total')\n",
    "plt.show()"
   ]
  },
  {
   "attachments": {},
   "cell_type": "markdown",
   "metadata": {},
   "source": [
    "### ¿Cuáles son los 5 delitos más frecuentes?\n",
    "\n",
    "Son los siguientes:\n",
    "\n",
    "<table>\n",
    "    <tbody>\n",
    "        <tr>\n",
    "            <td>VIOLENCIA FAMILIAR</td>                                \n",
    "            <td>137479</td>\n",
    "        </tr>\n",
    "        <tr>\n",
    "            <td>FRAUDE</td>                                \n",
    "            <td>73907</td>\n",
    "        </tr>\n",
    "        <tr>\n",
    "            <td>AMENAZAS</td>                                \n",
    "            <td>67924</td>\n",
    "        </tr>\n",
    "        <tr>\n",
    "            <td>ROBO DE OBJETOS</td>                                \n",
    "            <td>50596</td>\n",
    "        </tr>\n",
    "        <tr>\n",
    "            <td>ROBO A TRANSEUNTE EN VIA PUBLICA CON VIOLENCIA</td>                                \n",
    "            <td>43421</td>\n",
    "        </tr>\n",
    "    <tbody>\n",
    "<table>"
   ]
  },
  {
   "cell_type": "code",
   "execution_count": 24,
   "metadata": {},
   "outputs": [
    {
     "data": {
      "text/plain": [
       "VIOLENCIA FAMILIAR                                137479\n",
       "FRAUDE                                             73907\n",
       "AMENAZAS                                           67924\n",
       "ROBO DE OBJETOS                                    50596\n",
       "ROBO A TRANSEUNTE EN VIA PUBLICA CON VIOLENCIA     43421\n",
       "Name: Delito, dtype: int64"
      ]
     },
     "execution_count": 24,
     "metadata": {},
     "output_type": "execute_result"
    }
   ],
   "source": [
    "df.Delito.value_counts().sort_values(ascending=False).head(5)"
   ]
  },
  {
   "cell_type": "code",
   "execution_count": 25,
   "metadata": {},
   "outputs": [
    {
     "data": {
      "image/png": "[encoded data removed]",
      "text/plain": [
       "<Figure size 640x480 with 1 Axes>"
      ]
     },
     "metadata": {},
     "output_type": "display_data"
    }
   ],
   "source": [
    "g = sns.countplot(data=df, x='Delito', order=df.Delito.value_counts().iloc[:5].index)\n",
    "plt.xticks(rotation=90)\n",
    "g.set_title(\"Top 5 Delitos con más incidencias de CDMX\")\n",
    "g.set(ylabel='Total')\n",
    "plt.show()"
   ]
  },
  {
   "attachments": {},
   "cell_type": "markdown",
   "metadata": {},
   "source": [
    "### ¿Cuál es la alcaldía que más delitos tiene y cuál es la que menos?"
   ]
  },
  {
   "cell_type": "code",
   "execution_count": 26,
   "metadata": {},
   "outputs": [
    {
     "data": {
      "text/plain": [
       "alcaldia_hechos\n",
       "IZTAPALAPA                150213\n",
       "CUAUHTEMOC                145446\n",
       "GUSTAVO A. MADERO         101955\n",
       "BENITO JUAREZ              73336\n",
       "ALVARO OBREGON             70059\n",
       "COYOACAN                   66474\n",
       "MIGUEL HIDALGO             61112\n",
       "TLALPAN                    59686\n",
       "VENUSTIANO CARRANZA        56956\n",
       "AZCAPOTZALCO               47743\n",
       "IZTACALCO                  42659\n",
       "XOCHIMILCO                 32858\n",
       "TLAHUAC                    29178\n",
       "LA MAGDALENA CONTRERAS     18763\n",
       "CUAJIMALPA DE MORELOS      16198\n",
       "FUERA DE CDMX              10443\n",
       "MILPA ALTA                  9288\n",
       "CDMX                        1884\n",
       "Name: Delito, dtype: int64"
      ]
     },
     "execution_count": 26,
     "metadata": {},
     "output_type": "execute_result"
    }
   ],
   "source": [
    "df.groupby('alcaldia_hechos').Delito.count().sort_values(ascending=False)"
   ]
  },
  {
   "attachments": {},
   "cell_type": "markdown",
   "metadata": {},
   "source": [
    "> IZTAPALAPA tiene 150213 delitos, mientras que MILPA ALTA tiene la menor cantidad. No se considera CDMX ya que no es alcaldía como tal y podría abarcar cualquier delegación."
   ]
  },
  {
   "attachments": {},
   "cell_type": "markdown",
   "metadata": {},
   "source": [
    "### ¿Por qué crees que sea esto?\n",
    "\n",
    "\n",
    "Aunque no dice podría haber varios factores como el nivel de pobreza, el tipo de colonia, el nivel de educación que hay en la alcaldía, el nivel de seguridad presente, etc."
   ]
  },
  {
   "attachments": {},
   "cell_type": "markdown",
   "metadata": {},
   "source": [
    "### Dentro de cada alcaldía, ¿Cuáles son las tres colonias con más delitos?\n"
   ]
  },
  {
   "cell_type": "code",
   "execution_count": 27,
   "metadata": {},
   "outputs": [
    {
     "data": {
      "text/plain": [
       "alcaldia_hechos  colonia_datos\n",
       "CUAUHTEMOC       CENTRO VIII      9382\n",
       "                 CENTRO IV        7565\n",
       "                 JUAREZ           7297\n",
       "Name: Delito, dtype: int64"
      ]
     },
     "execution_count": 27,
     "metadata": {},
     "output_type": "execute_result"
    }
   ],
   "source": [
    "df.groupby(['alcaldia_hechos', 'colonia_datos']).Delito.count().sort_values(ascending=False).nlargest(3)"
   ]
  },
  {
   "attachments": {},
   "cell_type": "markdown",
   "metadata": {},
   "source": [
    "### ¿Existe alguna tendencia estacional en la ocurrencia de delitos (mes, día, etc.)\n",
    "\n",
    "Ha ido cambiando la tendencia por año, por ejemplo en Enero 2019, se observa que hubo 22591 delitos, pero en mientras van pasando los años, va disminiyendo, en 2023 fue de 14960. En mayo tambien ha tenido sus incrementos y luego en 2020 bajo pero en 2022 supero la cantidad de delitos del 2020 y 2021."
   ]
  },
  {
   "cell_type": "code",
   "execution_count": null,
   "metadata": {},
   "outputs": [],
   "source": [
    "df['Año_hecho'] = df['Año_hecho'].fillna(method='ffill').astype(int)"
   ]
  },
  {
   "cell_type": "code",
   "execution_count": 28,
   "metadata": {},
   "outputs": [
    {
     "data": {
      "text/plain": [
       "Año_hecho  Mes_hecho \n",
       "2019.0     Abril         22386\n",
       "           Agosto        23052\n",
       "           Diciembre     18106\n",
       "           Enero         22591\n",
       "           Febrero       21820\n",
       "           Julio         22138\n",
       "           Junio         22329\n",
       "           Marzo         23878\n",
       "           Mayo          24022\n",
       "           Noviembre     19369\n",
       "           Octubre       19633\n",
       "           Septiembre    21785\n",
       "2020.0     Abril         12980\n",
       "           Agosto        18344\n",
       "           Diciembre     17075\n",
       "           Enero         21677\n",
       "           Febrero       21773\n",
       "           Julio         17104\n",
       "           Junio         15031\n",
       "           Marzo         21280\n",
       "           Mayo          13390\n",
       "           Noviembre     18423\n",
       "           Octubre       19616\n",
       "           Septiembre    18138\n",
       "2021.0     Abril         20350\n",
       "           Agosto        19795\n",
       "           Diciembre     18798\n",
       "           Enero         17858\n",
       "           Febrero       17917\n",
       "           Julio         19838\n",
       "           Junio         20030\n",
       "           Marzo         20805\n",
       "           Mayo          21246\n",
       "           Noviembre     19772\n",
       "           Octubre       20510\n",
       "           Septiembre    19126\n",
       "2022.0     Abril         20023\n",
       "           Agosto        20760\n",
       "           Diciembre     16837\n",
       "           Enero         18060\n",
       "           Febrero       18593\n",
       "           Julio         20114\n",
       "           Junio         20286\n",
       "           Marzo         21452\n",
       "           Mayo          21987\n",
       "           Noviembre     19249\n",
       "           Octubre       20772\n",
       "           Septiembre    19861\n",
       "2023.0     Enero         14960\n",
       "Name: Delito, dtype: int64"
      ]
     },
     "execution_count": 28,
     "metadata": {},
     "output_type": "execute_result"
    }
   ],
   "source": [
    "df[df['Año_hecho'].isin(range(2019, 2024))].groupby(['Año_hecho', 'Mes_hecho'], sort=True).Delito.count()"
   ]
  },
  {
   "cell_type": "code",
   "execution_count": 29,
   "metadata": {},
   "outputs": [
    {
     "data": {
      "text/html": [
       "<div>\n",
       "<style scoped>\n",
       "    .dataframe tbody tr th:only-of-type {\n",
       "        vertical-align: middle;\n",
       "    }\n",
       "\n",
       "    .dataframe tbody tr th {\n",
       "        vertical-align: top;\n",
       "    }\n",
       "\n",
       "    .dataframe thead tr th {\n",
       "        text-align: left;\n",
       "    }\n",
       "</style>\n",
       "<table border=\"1\" class=\"dataframe\">\n",
       "  <thead>\n",
       "    <tr>\n",
       "      <th>Año_hecho</th>\n",
       "      <th colspan=\"10\" halign=\"left\">2019.0</th>\n",
       "      <th>...</th>\n",
       "      <th colspan=\"9\" halign=\"left\">2022.0</th>\n",
       "      <th>2023.0</th>\n",
       "    </tr>\n",
       "    <tr>\n",
       "      <th>Mes_hecho</th>\n",
       "      <th>Abril</th>\n",
       "      <th>Agosto</th>\n",
       "      <th>Diciembre</th>\n",
       "      <th>Enero</th>\n",
       "      <th>Febrero</th>\n",
       "      <th>Julio</th>\n",
       "      <th>Junio</th>\n",
       "      <th>Marzo</th>\n",
       "      <th>Mayo</th>\n",
       "      <th>Noviembre</th>\n",
       "      <th>...</th>\n",
       "      <th>Enero</th>\n",
       "      <th>Febrero</th>\n",
       "      <th>Julio</th>\n",
       "      <th>Junio</th>\n",
       "      <th>Marzo</th>\n",
       "      <th>Mayo</th>\n",
       "      <th>Noviembre</th>\n",
       "      <th>Octubre</th>\n",
       "      <th>Septiembre</th>\n",
       "      <th>Enero</th>\n",
       "    </tr>\n",
       "  </thead>\n",
       "  <tbody>\n",
       "    <tr>\n",
       "      <th>Delito</th>\n",
       "      <td>22386</td>\n",
       "      <td>23052</td>\n",
       "      <td>18106</td>\n",
       "      <td>22591</td>\n",
       "      <td>21820</td>\n",
       "      <td>22138</td>\n",
       "      <td>22329</td>\n",
       "      <td>23878</td>\n",
       "      <td>24022</td>\n",
       "      <td>19369</td>\n",
       "      <td>...</td>\n",
       "      <td>18060</td>\n",
       "      <td>18593</td>\n",
       "      <td>20114</td>\n",
       "      <td>20286</td>\n",
       "      <td>21452</td>\n",
       "      <td>21987</td>\n",
       "      <td>19249</td>\n",
       "      <td>20772</td>\n",
       "      <td>19861</td>\n",
       "      <td>14960</td>\n",
       "    </tr>\n",
       "  </tbody>\n",
       "</table>\n",
       "<p>1 rows × 49 columns</p>\n",
       "</div>"
      ],
      "text/plain": [
       "Año_hecho 2019.0                                                              \\\n",
       "Mes_hecho  Abril Agosto Diciembre  Enero Febrero  Julio  Junio  Marzo   Mayo   \n",
       "Delito     22386  23052     18106  22591   21820  22138  22329  23878  24022   \n",
       "\n",
       "Año_hecho            ... 2022.0                                                \\\n",
       "Mes_hecho Noviembre  ...  Enero Febrero  Julio  Junio  Marzo   Mayo Noviembre   \n",
       "Delito        19369  ...  18060   18593  20114  20286  21452  21987     19249   \n",
       "\n",
       "Año_hecho                    2023.0  \n",
       "Mes_hecho Octubre Septiembre  Enero  \n",
       "Delito      20772      19861  14960  \n",
       "\n",
       "[1 rows x 49 columns]"
      ]
     },
     "execution_count": 29,
     "metadata": {},
     "output_type": "execute_result"
    }
   ],
   "source": [
    "pd.pivot_table(df[df['Año_hecho'].isin(range(2019, 2024))], values='Delito', columns=['Año_hecho', 'Mes_hecho'], aggfunc='count', sort=True)"
   ]
  }
 ],
 "metadata": {
  "kernelspec": {
   "display_name": "intro_python",
   "language": "python",
   "name": "python3"
  },
  "language_info": {
   "codemirror_mode": {
    "name": "ipython",
    "version": 3
   },
   "file_extension": ".py",
   "mimetype": "text/x-python",
   "name": "python",
   "nbconvert_exporter": "python",
   "pygments_lexer": "ipython3",
   "version": "3.11.2"
  },
  "orig_nbformat": 4
 },
 "nbformat": 4,
 "nbformat_minor": 2
}
