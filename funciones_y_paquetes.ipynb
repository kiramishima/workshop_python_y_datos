{
 "cells": [
  {
   "cell_type": "code",
   "execution_count": null,
   "metadata": {},
   "outputs": [],
   "source": []
  }
 ],
 "metadata": {
  "kernelspec": {
   "display_name": "tesseractor",
   "language": "python",
   "name": "python3"
  },
  "language_info": {
   "name": "python",
   "version": "3.8.5"
  },
  "orig_nbformat": 4,
  "vscode": {
   "interpreter": {
    "hash": "ca8a0c79e2bce89b0b880791fc7a875dc8d2b0cee099b347bc4ac76b0675083c"
   }
  }
 },
 "nbformat": 4,
 "nbformat_minor": 2
}
