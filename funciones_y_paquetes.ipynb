{
 "cells": [
  {
   "attachments": {},
   "cell_type": "markdown",
   "metadata": {},
   "source": [
    "# Funciones\n",
    "\n",
    "<center>\n",
    "    <img src=\"https://upload.wikimedia.org/wikipedia/commons/thumb/3/3b/Function_machine2.svg/440px-Function_machine2.svg.png\" width=200 />\n",
    "</center>\n",
    "\n",
    "Sabemos que en matematicas es la relación que hay entre una magnitud y otra, donde tenemos una variable independiente y una dependiente. Ejemplo\n",
    "\n",
    "$$f(x) = x^2$$\n",
    "\n",
    "\n",
    "`x` variable independiente y el resultado sera la dependiente.\n",
    "\n",
    "En programación una función es un bloque de código que realiza alguna operación.\n"
   ]
  },
  {
   "attachments": {},
   "cell_type": "markdown",
   "metadata": {},
   "source": [
    "## Python y funciones\n",
    "\n",
    "`len` , `print`, `input` , etc.\n",
    "\n",
    "**Creando una función suma**\n",
    "\n",
    "```python\n",
    "def suma(x, y):\n",
    "    return x+y\n",
    "```\n",
    "\n",
    "Sintaxis:\n",
    "\n",
    "<img src=\"images/estructura_funci%C3%B3n.png\" width=550 />\n",
    "\n",
    "```python\n",
    "def nombre_funcion(parametros):\n",
    "    # Contenido de la funcion\n",
    "```\n",
    "\n",
    "**Usando nuestra función**\n",
    "\n",
    "```python\n",
    "nombre_funcion(argumentos)\n",
    "\n",
    "# Ejemplo\n",
    "suma(1,2) #3\n",
    "x = suma(1,3)\n",
    "print(x) # 4\n",
    "```"
   ]
  },
  {
   "attachments": {},
   "cell_type": "markdown",
   "metadata": {},
   "source": [
    "```python\n",
    "def suma(x, y):\n",
    "    return x + y \n",
    "\n",
    "print(suma(10, 10)) # 20\n",
    "```"
   ]
  },
  {
   "cell_type": "code",
   "execution_count": 2,
   "metadata": {},
   "outputs": [
    {
     "name": "stdout",
     "output_type": "stream",
     "text": [
      "20\n"
     ]
    }
   ],
   "source": [
    "def suma(x, y):\n",
    "    return x + y \n",
    "\n",
    "print(suma(10, 10))"
   ]
  },
  {
   "attachments": {},
   "cell_type": "markdown",
   "metadata": {},
   "source": [
    "### Funciones con valores default\n",
    "\n",
    "```python\n",
    "def suma(x, y = 10):\n",
    "    return x + y \n",
    "\n",
    "print(suma(10, 10)) # 20\n",
    "```"
   ]
  },
  {
   "cell_type": "code",
   "execution_count": 4,
   "metadata": {},
   "outputs": [
    {
     "name": "stdout",
     "output_type": "stream",
     "text": [
      "15\n"
     ]
    }
   ],
   "source": [
    "def suma(x, y = 10):\n",
    "    return x + y \n",
    "\n",
    "print(suma(5)) # 25"
   ]
  },
  {
   "attachments": {},
   "cell_type": "markdown",
   "metadata": {},
   "source": [
    "### Pasando argumentos a una funcion en base al nombre de sus parametros\n",
    "\n",
    "\n",
    "```python\n",
    "def resta(x = 0, y = 0):\n",
    "    return x - y\n",
    "\n",
    "            # x = 10 , y = 8\n",
    "print(resta(10, 8)) # 2\n",
    "\n",
    "# pasando los argumentos en base al nombre de los parametros de una función\n",
    "print(resta(x=10, y=10)) # 0\n",
    "print(resta(y=10)) # -10\n",
    "print(resta(x=10)) # 10\n",
    "```"
   ]
  },
  {
   "cell_type": "code",
   "execution_count": 5,
   "metadata": {},
   "outputs": [
    {
     "name": "stdout",
     "output_type": "stream",
     "text": [
      "12\n",
      "7\n",
      "20\n"
     ]
    }
   ],
   "source": [
    "def suma(x = 2, y = 10):\n",
    "    return x + y \n",
    "\n",
    "print(suma()) # 12\n",
    "print(suma(y=5)) # 7\n",
    "print(suma(x=5, y=15)) # 20"
   ]
  },
  {
   "attachments": {},
   "cell_type": "markdown",
   "metadata": {},
   "source": [
    "### Anotaciones en funciones\n",
    "\n",
    "Esta funcionalidad nos permite añadir metadatos a las funciones, indicando los tipos esperados tanto de entrada como de salida.\n",
    "\n",
    "```python\n",
    "def multiplica_por_3(numero: int) -> int:\n",
    "    return numero*3\n",
    "\n",
    "multiplica_por_3(6) # 18\n",
    "```"
   ]
  },
  {
   "cell_type": "code",
   "execution_count": 6,
   "metadata": {},
   "outputs": [
    {
     "data": {
      "text/plain": [
       "18"
      ]
     },
     "execution_count": 6,
     "metadata": {},
     "output_type": "execute_result"
    }
   ],
   "source": [
    "def multiplica_por_3(numero: int) -> int:\n",
    "    return numero*3\n",
    "\n",
    "multiplica_por_3(6)"
   ]
  },
  {
   "cell_type": "code",
   "execution_count": 7,
   "metadata": {},
   "outputs": [
    {
     "data": {
      "text/plain": [
       "'CadenaCadenaCadena'"
      ]
     },
     "execution_count": 7,
     "metadata": {},
     "output_type": "execute_result"
    }
   ],
   "source": [
    "multiplica_por_3(\"Cadena\")"
   ]
  },
  {
   "attachments": {},
   "cell_type": "markdown",
   "metadata": {},
   "source": [
    "### Documentacion de funciones\n",
    "\n",
    "Nos sirve para dar una descripcion a nuestras funciones y sean faciles de utilizar por otras personas. Cuando nos posicionamos sobre una función, python buscara la descripción de la función y la mostrara segun el editor de codigo que usemos.\n",
    "\n",
    "```python\n",
    "def suma2(a, b):\n",
    "    \"\"\"\n",
    "    Descripción de la función. Como debe ser usada,\n",
    "    que parámetros acepta y que devuelve\n",
    "\n",
    "    Keyword arguments:\n",
    "    a -- Número real\n",
    "    b -- Número real\n",
    "    \"\"\"\n",
    "    return a+b\n",
    "```\n",
    "\n",
    "El contenido va entre triple comillas dobles \"\"\", tambien conocido como `docstring`\n",
    "Con la funcion `help()` podemos obtener información de la funcion\n",
    "\n",
    "```python\n",
    "help(suma2)\n",
    "```\n",
    "\n",
    "Otra forma de hacerlo es usar la propiedad `__doc__`\n",
    "\n",
    "```python\n",
    "print(suma2.__doc__)\n",
    "```\n",
    "\n",
    "**Para saber más:** Las descripciones de las funciones suelen ser un poco mas detalladas de lo que hemos mostrado. En [la PEP257](https://www.python.org/dev/peps/pep-0257/) se define en detalle como debería ser."
   ]
  },
  {
   "cell_type": "code",
   "execution_count": 8,
   "metadata": {},
   "outputs": [],
   "source": [
    "def suma2(a=0.0, b=0.0):\n",
    "    \"\"\"\n",
    "    Descripción de la función. Como debe ser usada,\n",
    "    que parámetros acepta y que devuelve\n",
    "\n",
    "    Keyword arguments:\n",
    "    a -- Número real\n",
    "    b -- Número real\n",
    "    \"\"\"\n",
    "    return a+b"
   ]
  },
  {
   "cell_type": "code",
   "execution_count": 9,
   "metadata": {},
   "outputs": [
    {
     "name": "stdout",
     "output_type": "stream",
     "text": [
      "Help on function suma2 in module __main__:\n",
      "\n",
      "suma2(a=0.0, b=0.0)\n",
      "    Descripción de la función. Como debe ser usada,\n",
      "    que parámetros acepta y que devuelve\n",
      "    \n",
      "    Keyword arguments:\n",
      "    a -- Número real\n",
      "    b -- Número real\n",
      "\n"
     ]
    }
   ],
   "source": [
    "help(suma2)"
   ]
  },
  {
   "cell_type": "code",
   "execution_count": 10,
   "metadata": {},
   "outputs": [
    {
     "name": "stdout",
     "output_type": "stream",
     "text": [
      "\n",
      "    Descripción de la función. Como debe ser usada,\n",
      "    que parámetros acepta y que devuelve\n",
      "\n",
      "    Keyword arguments:\n",
      "    a -- Número real\n",
      "    b -- Número real\n",
      "    \n"
     ]
    }
   ],
   "source": [
    "print(suma2.__doc__)"
   ]
  },
  {
   "attachments": {},
   "cell_type": "markdown",
   "metadata": {},
   "source": [
    "### Uso del * en las funciones\n",
    "\n",
    "* indicara que todas las entradas o argumentos de la funcion vendran en una tupla, generalmente cuando usamos `*` la variable es llamada `args`\n",
    "\n",
    "```python\n",
    "def suma(*args):\n",
    "    total = 0\n",
    "    for x in args:\n",
    "        total += x\n",
    "    return total \n",
    "\n",
    "print(suma(10, 10, 25, 5)) # 50\n",
    "print(suma([1,2,3,4,5])) # 15\n",
    "```"
   ]
  },
  {
   "attachments": {},
   "cell_type": "markdown",
   "metadata": {},
   "source": [
    "Tambien podemos usar `*` para convertir una lista en argumentos de una función\n",
    "\n",
    "```python\n",
    "p = [1,2,3,4,5]\n",
    "print(suma(*p))\n",
    "print(suma(1,2,3,4,5))\n",
    "```"
   ]
  },
  {
   "attachments": {},
   "cell_type": "markdown",
   "metadata": {},
   "source": [
    "### Uso de **\n",
    "\n",
    "Cuando usabamos `*` identificaba que venia una tupla de valores, usar el operador `**` como parametro de una función, indicara que estamos pasando un diccionario. Generalmente para este parametro usamos por convención el nombre de variable `kwargs`.\n",
    "\n",
    "```python\n",
    "def birthday(**kwargs):\n",
    "   s = \"Feliz cumpleaños, %s\" % kwargs['name']\n",
    "   if kwargs['age']:\n",
    "       s += \", tu tienes %d años\" % kwargs['age']\n",
    "   return s + \"!\"\n",
    "\n",
    "\n",
    "harry = {\"name\" : \"Harry\", \"age\" : 12}\n",
    "birthday(**harry) # 'Feliz cumpleaños, Harry, tu tienes 12 años!'\n",
    "```"
   ]
  },
  {
   "cell_type": "code",
   "execution_count": 11,
   "metadata": {},
   "outputs": [
    {
     "data": {
      "text/plain": [
       "'Feliz cumpleaños, panchito, tu tienes 23 años!'"
      ]
     },
     "execution_count": 11,
     "metadata": {},
     "output_type": "execute_result"
    }
   ],
   "source": [
    "def birthday(**kwargs):\n",
    "   s = \"Feliz cumpleaños, %s\" % kwargs['name']\n",
    "   if kwargs['age']:\n",
    "       s += \", tu tienes %d años\" % kwargs['age']\n",
    "   return s + \"!\"\n",
    "\n",
    "\n",
    "harry = {\"name\" : \"Harry\", \"age\" : 12}\n",
    "birthday(**harry)\n",
    "birthday(name=\"panchito\", age=23)"
   ]
  },
  {
   "attachments": {},
   "cell_type": "markdown",
   "metadata": {},
   "source": [
    "### Composición de funciones\n",
    "\n",
    "<center>\n",
    "    <img src=\"https://encrypted-tbn0.gstatic.com/images?q=tbn:ANd9GcSvfVCMoqL5yfZoJtgOdLm_0s183NA8Uq-8cWhHBw1_PyxIsrH1C5x6TRaX7clqF7X-HA&usqp=CAU\">\n",
    "</center>\n",
    "\n",
    "$ (f \\circ g)(x)$\n",
    "\n",
    "\n",
    "```python\n",
    "def suma(*args):\n",
    "    total = 0\n",
    "    for x in args:\n",
    "        total += x\n",
    "    return total \n",
    "\n",
    "def al_cuadrado(n):\n",
    "    return n**2\n",
    "\n",
    "al_cuadrado(2) # 4\n",
    "```"
   ]
  },
  {
   "attachments": {},
   "cell_type": "markdown",
   "metadata": {},
   "source": [
    "```python\n",
    "x = suma(1,2,3,4) # 10\n",
    "al_cuadrado(x) # 100\n",
    "```"
   ]
  },
  {
   "cell_type": "code",
   "execution_count": 14,
   "metadata": {},
   "outputs": [
    {
     "data": {
      "text/plain": [
       "100"
      ]
     },
     "execution_count": 14,
     "metadata": {},
     "output_type": "execute_result"
    }
   ],
   "source": [
    "def suma(*args):\n",
    "    total = 0\n",
    "    for x in args:\n",
    "        total += x\n",
    "    return total \n",
    "\n",
    "def al_cuadrado(n):\n",
    "    return n**2\n",
    "\n",
    "x = suma(1,2,3,4) # 10\n",
    "al_cuadrado(x) # 100"
   ]
  },
  {
   "attachments": {},
   "cell_type": "markdown",
   "metadata": {},
   "source": [
    "### Componiendo funciones en Python\n",
    "\n",
    "```python\n",
    "def sumar_y_al_cuadrado(*args):\n",
    "    total = suma(args)\n",
    "    def al_cuadrado():\n",
    "        return total**2\n",
    "    return al_cuadrado \n",
    "```"
   ]
  },
  {
   "cell_type": "code",
   "execution_count": 15,
   "metadata": {},
   "outputs": [
    {
     "data": {
      "text/plain": [
       "100"
      ]
     },
     "execution_count": 15,
     "metadata": {},
     "output_type": "execute_result"
    }
   ],
   "source": [
    "def sumar_y_al_cuadrado(*args):\n",
    "    total = suma(*args)\n",
    "    def al_cuadrado():\n",
    "        return total**2\n",
    "    return al_cuadrado()\n",
    "\n",
    "sumar_y_al_cuadrado(1,2,3,4)"
   ]
  },
  {
   "attachments": {},
   "cell_type": "markdown",
   "metadata": {},
   "source": [
    "### Funciones anonimas o Lambdas\n",
    "\n",
    "Su nombre viene de la letra griega λ , el cual es el simbolo para la definicion de funciones en el computo cientifico, precisamente en programación funcional.\n",
    "\n",
    "```python\n",
    "\n",
    "lambda parametro: contenido\n",
    "```\n",
    "\n",
    "\n",
    "```python\n",
    "\n",
    "(lambda x: x**2)(7) #49\n",
    "```\n",
    "\n",
    "```python\n",
    "\n",
    "(lambda x,y: x+y)(4, 6) #10\n",
    "```\n",
    "\n",
    "```python\n",
    "\n",
    "suma = lambda x,y: x+y\n",
    "suma(4,6) #10\n",
    "```"
   ]
  },
  {
   "cell_type": "code",
   "execution_count": 16,
   "metadata": {},
   "outputs": [
    {
     "data": {
      "text/plain": [
       "49"
      ]
     },
     "execution_count": 16,
     "metadata": {},
     "output_type": "execute_result"
    }
   ],
   "source": [
    "(lambda x: x**2)(7)"
   ]
  },
  {
   "cell_type": "code",
   "execution_count": 17,
   "metadata": {},
   "outputs": [
    {
     "data": {
      "text/plain": [
       "10"
      ]
     },
     "execution_count": 17,
     "metadata": {},
     "output_type": "execute_result"
    }
   ],
   "source": [
    "(lambda x,y: x+y)(4, 6)"
   ]
  },
  {
   "cell_type": "code",
   "execution_count": 19,
   "metadata": {},
   "outputs": [
    {
     "name": "stdout",
     "output_type": "stream",
     "text": [
      "10\n",
      "10\n"
     ]
    }
   ],
   "source": [
    "suma = lambda x,y: x+y\n",
    "print(suma(4,6)) #10\n",
    "print(suma(5,5))"
   ]
  },
  {
   "attachments": {},
   "cell_type": "markdown",
   "metadata": {},
   "source": [
    "### Composición de funciones con lambdas"
   ]
  },
  {
   "cell_type": "code",
   "execution_count": null,
   "metadata": {},
   "outputs": [],
   "source": [
    "def make_power_function(p):\n",
    "   return lambda x: x ** p\n",
    "\n",
    "make_power_function(2)(3) # 9\n"
   ]
  },
  {
   "attachments": {},
   "cell_type": "markdown",
   "metadata": {},
   "source": [
    "# Paquetes en Python\n",
    "\n",
    "En python es comun trabajar con paquetes externos, así podemos importar librerias con funcionalidades especificas sin necesidad de inventar la rueda. Para ello usaremos la palabra clave `import` seguido del nombre del paquete. Si desemos usar ciertas funciones de un paquete usaremos la combinación `from` seguido del nombre del paquete e `import` seguido de las funciones del paquete que solo queremos usar. Si queremos darle un alias a un paquete o funcion usamos la palabra reservada `as` seguido del alias.\n",
    "\n",
    "Ejemplo:\n",
    "\n",
    "```python\n",
    "import pandas as pd\n",
    "from matplotlib.pyplot import pie\n",
    "import numpy as np\n",
    "```"
   ]
  },
  {
   "cell_type": "code",
   "execution_count": 20,
   "metadata": {},
   "outputs": [],
   "source": [
    "import pandas as pd\n",
    "from matplotlib.pyplot import pie\n",
    "import numpy as np"
   ]
  },
  {
   "attachments": {},
   "cell_type": "markdown",
   "metadata": {},
   "source": [
    "### Instalando paquetes externos en Python\n",
    "\n",
    "Dependiendo de que estemos usado: anaconda o python directo, podemos usar el comando `pip` seguido del comando `install` y finalmente el nombre de nuestro paquete. Por ejemplo en el caso de pandas, numpy & matplotlib, sería algo:\n",
    "\n",
    "```bash\n",
    "pip install pandas numpy matplotlib\n",
    "```\n",
    "\n",
    "Como estamos usando Anaconda, pandas, numpy & matplotlib ya vienen incluidos junto con otros paquetes para el analisis de datos. En Colab y Replit ya estan instalados los paquetes solo hay que importarlos.\n",
    "\n",
    "\n",
    "```bash\n",
    "conda install pandas numpy matplotlib\n",
    "```"
   ]
  }
 ],
 "metadata": {
  "kernelspec": {
   "display_name": "tesseractor",
   "language": "python",
   "name": "python3"
  },
  "language_info": {
   "codemirror_mode": {
    "name": "ipython",
    "version": 3
   },
   "file_extension": ".py",
   "mimetype": "text/x-python",
   "name": "python",
   "nbconvert_exporter": "python",
   "pygments_lexer": "ipython3",
   "version": "3.11.0"
  },
  "orig_nbformat": 4,
  "vscode": {
   "interpreter": {
    "hash": "ca8a0c79e2bce89b0b880791fc7a875dc8d2b0cee099b347bc4ac76b0675083c"
   }
  }
 },
 "nbformat": 4,
 "nbformat_minor": 2
}
