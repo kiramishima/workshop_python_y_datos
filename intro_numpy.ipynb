{
 "cells": [
  {
   "attachments": {},
   "cell_type": "markdown",
   "metadata": {},
   "source": [
    "# Introducción NumPy\n",
    "\n"
   ]
  },
  {
   "attachments": {},
   "cell_type": "markdown",
   "metadata": {},
   "source": [
    "### Recapitulemos\n",
    "\n",
    "Anteriormente aprendimos sobre las listas, tuplas y sets (conjuntos). Una lista puede contener diferentes tipos de datos al mismo tiempo. Podiamos agregar, eliminar y/o actualizar elementos. Sin embargo cuando procesemos una gran cantidad de datos, sera necesario en algunas ocasiones realizar algunas operaciones sobre estas colecciones, y hacer el procesamiento de las listas, y estas operaciones deben ser rapidas, por lo que nos veremos limitados."
   ]
  },
  {
   "attachments": {},
   "cell_type": "markdown",
   "metadata": {},
   "source": [
    "## Indice de Masa Corporal (bmi)\n",
    "\n",
    "![](https://newbodyspecialists.com.au/wp-content/uploads/2016/09/BMI.png)"
   ]
  },
  {
   "cell_type": "code",
   "execution_count": 2,
   "metadata": {},
   "outputs": [
    {
     "name": "stdout",
     "output_type": "stream",
     "text": [
      "38.69822485\n",
      "21.01048753\n",
      "64.54545455\n",
      "25.85177951\n",
      "24.05377963\n"
     ]
    }
   ],
   "source": [
    "heights = [1.3, 1.68, 1.1, 1.92, 1.69]\n",
    "weights = [65.4, 59.3, 78.1, 95.3, 68.7]\n",
    "\n",
    "def bmi(height, weight):\n",
    "    return round(weight / height ** 2, 8) # pow(height, 2)\n",
    "\n",
    "for height, weight in zip(heights, weights):\n",
    "    print(bmi(height, weight))"
   ]
  },
  {
   "attachments": {},
   "cell_type": "markdown",
   "metadata": {},
   "source": [
    "## NumPy\n",
    "\n",
    "Numeric Python o NumPy es un es un paquete de Python que, entre otros, ofrece una alternativa a la lista normal de Python: la matriz NumPy. La matriz NumPy es bastante similar a la lista, pero tiene una característica adicional: puede realizar cálculos en matrices completas. Es muy fácil y súper rápido también. El paquete NumPy ya viene en la instalación de Anaconda, también en Google Colab y Replit ya se encuentra disponible. En caso de que no se encuentre instalado usaremos el siguiente comando:\n",
    "\n",
    "> pip install numpy\n",
    "\n",
    "> conda install numpy"
   ]
  },
  {
   "attachments": {},
   "cell_type": "markdown",
   "metadata": {},
   "source": [
    "### Como usar las matrices de NumPy\n",
    "\n",
    "Para usarlo debemos importar el paquete numpy. Por norma/estandar usaremos numpy bajo el alias **np**. Para usar la matriz de numpy debemos usar el metodo `array`, y pasarle como argumento una lista o una tupla. Hay que recalcar que las matrices seran de un tipo de dato, si tenemos más de un tipo de dato, los convertira a cadena de texto.\n",
    "\n",
    "\n",
    "```python\n",
    "import numpy as np\n",
    "\n",
    "v = np.array([1.3, 1.68])\n",
    "u = np.array([65.4, 59.3]) \n",
    "```"
   ]
  },
  {
   "cell_type": "code",
   "execution_count": 3,
   "metadata": {},
   "outputs": [
    {
     "name": "stdout",
     "output_type": "stream",
     "text": [
      "['1.3' '1.68' '1.7' 'True']\n",
      "[ 65.4  59.3 100. ]\n",
      "<class 'numpy.ndarray'>\n"
     ]
    }
   ],
   "source": [
    "import numpy as np\n",
    "\n",
    "v = np.array([1.3, 1.68, '1.7', True])\n",
    "u = np.array([65.4, 59.3, 100]) \n",
    "\n",
    "print(v)\n",
    "print(u)\n",
    "print(type(v)) #ndarray -> N Dimensional Array"
   ]
  },
  {
   "attachments": {},
   "cell_type": "markdown",
   "metadata": {},
   "source": [
    "### Regresando al calculo del BMI\n",
    "\n",
    "```python\n",
    "heights = [1.3, 1.68, 1.1, 1.92, 1.69]\n",
    "weights = [65.4, 59.3, 78.1, 95.3, 68.7]\n",
    "\n",
    "def bmi(height, weight):\n",
    "    return round(height / weight ** 2, 8)\n",
    "\n",
    "for height, weight in zip(heights, weights):\n",
    "    print(bmi(height, weight))\n",
    "```"
   ]
  },
  {
   "cell_type": "code",
   "execution_count": 4,
   "metadata": {},
   "outputs": [
    {
     "data": {
      "text/plain": [
       "array([38.69822485, 21.01048753, 64.54545455, 25.85177951, 24.05377963])"
      ]
     },
     "execution_count": 4,
     "metadata": {},
     "output_type": "execute_result"
    }
   ],
   "source": [
    "import numpy as np\n",
    "\n",
    "np_heights = np.array([1.3, 1.68, 1.1, 1.92, 1.69])\n",
    "np_weights = np.array([65.4, 59.3, 78.1, 95.3, 68.7])\n",
    "\n",
    "# Codigo usando numpy\n",
    "bmi = np_weights / np_heights ** 2\n",
    "bmi"
   ]
  },
  {
   "cell_type": "code",
   "execution_count": 5,
   "metadata": {},
   "outputs": [
    {
     "data": {
      "text/plain": [
       "[1, 2, 3, 2]"
      ]
     },
     "execution_count": 5,
     "metadata": {},
     "output_type": "execute_result"
    }
   ],
   "source": [
    "[1, 2] + [3, 2] # [4, 4]"
   ]
  },
  {
   "attachments": {},
   "cell_type": "markdown",
   "metadata": {},
   "source": [
    "### Obteniendo valores de una matriz NumPy\n",
    "\n",
    "Al igual que las listas, podemos especificar el indice del elemento que, deseamos obtener, por ejemplo:\n",
    "\n",
    "```python\n",
    "bmi[1] # 21.010487528344672\n",
    "```"
   ]
  },
  {
   "cell_type": "code",
   "execution_count": 6,
   "metadata": {},
   "outputs": [
    {
     "data": {
      "text/plain": [
       "21.010487528344672"
      ]
     },
     "execution_count": 6,
     "metadata": {},
     "output_type": "execute_result"
    }
   ],
   "source": [
    "bmi[1] # 21.010487528344672\n"
   ]
  },
  {
   "attachments": {},
   "cell_type": "markdown",
   "metadata": {},
   "source": [
    "### Filtrando\n",
    "\n",
    "NumPy nos permite realizar operaciones de comparación y con esto obtendremos una matriz booleana, la cual nos servira para identificar que elementos de la matriz, no cumplen con la condición. Posteriormente podemos usar esa matriz para obtener los valores que si cumplen.\n",
    "\n",
    "```python\n",
    "np_heights > 1.2\n",
    "# array([ True,  True, False,  True,  True])\n",
    "```"
   ]
  },
  {
   "cell_type": "code",
   "execution_count": 7,
   "metadata": {},
   "outputs": [
    {
     "data": {
      "text/plain": [
       "array([1.3 , 1.68, 1.1 , 1.92, 1.69])"
      ]
     },
     "execution_count": 7,
     "metadata": {},
     "output_type": "execute_result"
    }
   ],
   "source": [
    "np_heights"
   ]
  },
  {
   "cell_type": "code",
   "execution_count": 8,
   "metadata": {},
   "outputs": [
    {
     "data": {
      "text/plain": [
       "array([ True,  True, False,  True,  True])"
      ]
     },
     "execution_count": 8,
     "metadata": {},
     "output_type": "execute_result"
    }
   ],
   "source": [
    "np_heights > 1.2\n"
   ]
  },
  {
   "cell_type": "code",
   "execution_count": 9,
   "metadata": {},
   "outputs": [
    {
     "data": {
      "text/plain": [
       "array([1.3 , 1.68, 1.92, 1.69])"
      ]
     },
     "execution_count": 9,
     "metadata": {},
     "output_type": "execute_result"
    }
   ],
   "source": [
    "np_heights[np_heights > 1.2]"
   ]
  },
  {
   "cell_type": "code",
   "execution_count": 10,
   "metadata": {},
   "outputs": [
    {
     "data": {
      "text/plain": [
       "array([1.1])"
      ]
     },
     "execution_count": 10,
     "metadata": {},
     "output_type": "execute_result"
    }
   ],
   "source": [
    "np_heights[np_heights < 1.2]"
   ]
  },
  {
   "attachments": {},
   "cell_type": "markdown",
   "metadata": {},
   "source": [
    "### NDArray\n",
    "\n",
    "NDArray viene de N Dimensional Array, es decir podemos crear matrices de n filas y m columnas. Por ejemplo:\n",
    "\n",
    "```python\n",
    "data = np.array([[1.3, 1.68, 1.1, 1.92, 1.69],\n",
    "                 [65.4, 59.3, 78.1, 95.3, 68.7]])\n",
    "\n",
    "print(data.shape) # (2, 5) -> 2 filas, 5 columnas\n",
    "```"
   ]
  },
  {
   "cell_type": "code",
   "execution_count": 11,
   "metadata": {},
   "outputs": [
    {
     "data": {
      "text/plain": [
       "(2, 5)"
      ]
     },
     "execution_count": 11,
     "metadata": {},
     "output_type": "execute_result"
    }
   ],
   "source": [
    "\n",
    "data = np.array([[1.3, 1.68, 1.1, 1.92, 1.69],\n",
    "                 [65.4, 59.3, 78.1, 95.3, 68.7]])\n",
    "\n",
    "data.shape"
   ]
  },
  {
   "cell_type": "code",
   "execution_count": 12,
   "metadata": {},
   "outputs": [
    {
     "data": {
      "text/plain": [
       "array([1.3 , 1.68, 1.1 , 1.92, 1.69])"
      ]
     },
     "execution_count": 12,
     "metadata": {},
     "output_type": "execute_result"
    }
   ],
   "source": [
    "data[0]"
   ]
  },
  {
   "cell_type": "code",
   "execution_count": 13,
   "metadata": {},
   "outputs": [
    {
     "data": {
      "text/plain": [
       "1.3"
      ]
     },
     "execution_count": 13,
     "metadata": {},
     "output_type": "execute_result"
    }
   ],
   "source": [
    "data[0][0]"
   ]
  },
  {
   "cell_type": "code",
   "execution_count": 14,
   "metadata": {},
   "outputs": [
    {
     "data": {
      "text/plain": [
       "1.1"
      ]
     },
     "execution_count": 14,
     "metadata": {},
     "output_type": "execute_result"
    }
   ],
   "source": [
    "data[0,2]"
   ]
  },
  {
   "cell_type": "code",
   "execution_count": 15,
   "metadata": {},
   "outputs": [
    {
     "data": {
      "text/plain": [
       "78.1"
      ]
     },
     "execution_count": 15,
     "metadata": {},
     "output_type": "execute_result"
    }
   ],
   "source": [
    "data[1,2]"
   ]
  },
  {
   "cell_type": "code",
   "execution_count": 16,
   "metadata": {},
   "outputs": [
    {
     "data": {
      "text/plain": [
       "array([[ 1.68,  1.1 ],\n",
       "       [59.3 , 78.1 ]])"
      ]
     },
     "execution_count": 16,
     "metadata": {},
     "output_type": "execute_result"
    }
   ],
   "source": [
    "data[:,1:3]"
   ]
  },
  {
   "attachments": {},
   "cell_type": "markdown",
   "metadata": {},
   "source": [
    "### Estadisticas basícas con NumPy\n",
    "\n",
    "NumPy tiene un buen de funciones que nos sirven para trabajar con los datos, algo en lo que brilla NumPy es en sus funciones para Estadistica, las cuales pueden consultar en [https://numpy.org/doc/stable/reference/routines.statistics.html](https://numpy.org/doc/stable/reference/routines.statistics.html). Tendremos funciones para calcular los valores de tendencia central, percentiles, quartiles, covarianza, etc. Así que ya no tenemos que reinventar la rueda y definir esas funciones, ya que el mismo NumPy las trae consigo.\n"
   ]
  },
  {
   "attachments": {},
   "cell_type": "markdown",
   "metadata": {},
   "source": [
    "\n",
    "```python\n",
    "\n",
    "estaturas = np.array([1.53, 1.63, 1.69, 1.68, 1.66, 1.51, 1.6, 1.63, 1.65, 1.8, 1.65, 1.70, 1.70])\n",
    "\n",
    "```"
   ]
  },
  {
   "cell_type": "code",
   "execution_count": 18,
   "metadata": {},
   "outputs": [
    {
     "data": {
      "text/plain": [
       "(13,)"
      ]
     },
     "execution_count": 18,
     "metadata": {},
     "output_type": "execute_result"
    }
   ],
   "source": [
    "\n",
    "estaturas = np.array([1.53, 1.63, 1.69, 1.68, 1.66, 1.51, 1.6, 1.63, 1.65, 1.8, 1.65, 1.70, 1.70])"
   ]
  },
  {
   "attachments": {},
   "cell_type": "markdown",
   "metadata": {},
   "source": [
    "### Media\n",
    "\n",
    "$$ X = \\sum_{i=1}^{N} \\dfrac{X_{i}}{N}$$"
   ]
  },
  {
   "cell_type": "code",
   "execution_count": 19,
   "metadata": {},
   "outputs": [
    {
     "name": "stdout",
     "output_type": "stream",
     "text": [
      "1.6484615384615382\n",
      "1.65\n"
     ]
    }
   ],
   "source": [
    "print(np.mean(estaturas))\n",
    "print(round(np.mean(estaturas), 2))"
   ]
  },
  {
   "attachments": {},
   "cell_type": "markdown",
   "metadata": {},
   "source": [
    "### Desviación Estándar\n",
    "\n",
    "![image.png](data:image/png;base64,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)"
   ]
  },
  {
   "cell_type": "code",
   "execution_count": 20,
   "metadata": {},
   "outputs": [
    {
     "data": {
      "text/plain": [
       "0.072"
      ]
     },
     "execution_count": 20,
     "metadata": {},
     "output_type": "execute_result"
    }
   ],
   "source": [
    "std = np.std(estaturas)\n",
    "round(std, 3)"
   ]
  },
  {
   "attachments": {},
   "cell_type": "markdown",
   "metadata": {},
   "source": [
    "### Ejemplo campana \n"
   ]
  },
  {
   "cell_type": "code",
   "execution_count": 21,
   "metadata": {},
   "outputs": [
    {
     "data": {
      "image/png": "[encoded data removed]",
      "text/plain": [
       "<Figure size 900x600 with 1 Axes>"
      ]
     },
     "metadata": {},
     "output_type": "display_data"
    }
   ],
   "source": [
    "import numpy as np\n",
    "import matplotlib.pyplot as plt\n",
    "from scipy.stats import norm\n",
    "\n",
    "# Creamos un rango de valores de x de -4 a 4 en incrementos de 0.001\n",
    "x = np.arange(-4, 4, 0.001)\n",
    "\n",
    "# Creamos un rango de valores y que correspondan a un PDF normal con media = 0 y sd = 1 \n",
    "y = norm.pdf(x, 0, 1)\n",
    "\n",
    "# Definir nuestra grafica\n",
    "fig, ax = plt.subplots(figsize = (9,6))\n",
    "ax.plot(x, y)\n",
    "\n",
    "# Elegimos el estilo de trazado y muestramos la curva de campana \n",
    "plt.style.use('fivethirtyeight')\n",
    "plt.show()"
   ]
  },
  {
   "attachments": {},
   "cell_type": "markdown",
   "metadata": {},
   "source": [
    "### NumPy en el algebra lineal\n",
    "\n",
    "$$x-y=0$$\n",
    "$$x+2y=8$$"
   ]
  },
  {
   "cell_type": "code",
   "execution_count": 22,
   "metadata": {},
   "outputs": [
    {
     "data": {
      "text/plain": [
       "array([2.66666667, 2.66666667])"
      ]
     },
     "execution_count": 22,
     "metadata": {},
     "output_type": "execute_result"
    }
   ],
   "source": [
    "import numpy as np\n",
    "\n",
    "matrix = np.array([(1, -1), (1, 2)])\n",
    "output = np.array((0, 8))\n",
    "\n",
    "\n",
    "np.linalg.solve(matrix, output)"
   ]
  }
 ],
 "metadata": {
  "kernelspec": {
   "display_name": "intro_python",
   "language": "python",
   "name": "python3"
  },
  "language_info": {
   "codemirror_mode": {
    "name": "ipython",
    "version": 3
   },
   "file_extension": ".py",
   "mimetype": "text/x-python",
   "name": "python",
   "nbconvert_exporter": "python",
   "pygments_lexer": "ipython3",
   "version": "3.11.2"
  },
  "orig_nbformat": 4
 },
 "nbformat": 4,
 "nbformat_minor": 2
}
