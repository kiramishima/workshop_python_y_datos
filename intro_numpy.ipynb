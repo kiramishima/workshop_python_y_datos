{
 "cells": [
  {
   "attachments": {},
   "cell_type": "markdown",
   "metadata": {},
   "source": [
    "# NumPy\n",
    "\n",
    "Es un paquete de python, que ofrece una alternativa a las listas de python: las matrices o Array NumPy. Permite realizar calculos sobre arreglos enteros. Se instala de la siguiente manera `pip install numpy` o `pip3 install numpy`. Si trabajamos con Anaconda, ya viene incluido por default. En Google Colab igual ya esta incluido. Para usarlo lo hacemos de la siguiente manera:\n",
    "\n",
    "```python\n",
    "import numpy as np\n",
    "```"
   ]
  },
  {
   "cell_type": "code",
   "execution_count": 1,
   "metadata": {},
   "outputs": [],
   "source": [
    "import numpy as np\n",
    "\n",
    "heights = [1.3, 1.68, 1.1, 1.92, 1.69]\n",
    "weights = [65.4, 59.3, 78.1, 95.3, 68.7]\n",
    "# Creado Numpy Array\n",
    "np_heights = np.array(heights)\n",
    "np_weights = np.array(weights)"
   ]
  },
  {
   "attachments": {},
   "cell_type": "markdown",
   "metadata": {},
   "source": [
    "## Calculando el Indice de Masa Corporal (bmi)\n",
    "\n",
    "![](https://newbodyspecialists.com.au/wp-content/uploads/2016/09/BMI.png)"
   ]
  },
  {
   "cell_type": "code",
   "execution_count": 6,
   "metadata": {},
   "outputs": [
    {
     "name": "stdout",
     "output_type": "stream",
     "text": [
      "0.00030394\n",
      "0.00047775\n",
      "0.00018034\n",
      "0.00021141\n",
      "0.00035807\n"
     ]
    }
   ],
   "source": [
    "# Codigo sin usar numpy\n",
    "def bmi(height, weight):\n",
    "    return round(height / weight ** 2, 8)\n",
    "\n",
    "for idx, height in enumerate(heights):\n",
    "    print(bmi(height, weights[idx]))"
   ]
  },
  {
   "cell_type": "code",
   "execution_count": 4,
   "metadata": {},
   "outputs": [
    {
     "data": {
      "text/plain": [
       "array([0.00030394, 0.00047775, 0.00018034, 0.00021141, 0.00035807])"
      ]
     },
     "execution_count": 4,
     "metadata": {},
     "output_type": "execute_result"
    }
   ],
   "source": [
    "# Codigo usando numpy\n",
    "bmi = np_heights / np_weights ** 2\n",
    "bmi"
   ]
  }
 ],
 "metadata": {
  "kernelspec": {
   "display_name": "base",
   "language": "python",
   "name": "python3"
  },
  "language_info": {
   "codemirror_mode": {
    "name": "ipython",
    "version": 3
   },
   "file_extension": ".py",
   "mimetype": "text/x-python",
   "name": "python",
   "nbconvert_exporter": "python",
   "pygments_lexer": "ipython3",
   "version": "3.7.16"
  },
  "orig_nbformat": 4,
  "vscode": {
   "interpreter": {
    "hash": "e42634819b8c191a5d07eaf23810ff32516dd8d3875f28ec3e488928fbd3c187"
   }
  }
 },
 "nbformat": 4,
 "nbformat_minor": 2
}
