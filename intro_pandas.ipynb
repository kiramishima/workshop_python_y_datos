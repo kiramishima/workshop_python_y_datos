{
 "cells": [
  {
   "attachments": {},
   "cell_type": "markdown",
   "metadata": {},
   "source": [
    "# Introducción a Pandas\n",
    "\n",
    "Pandas es un módulo para trabajar con datos tabulares, o datos que tienen filas y columnas.\n",
    "Algunos de estos son: hojas de calculo, tablas de bases de datos, archivos csv, etc. Tiene caracteristicas de NumPy u Matplotlib\n",
    "\n",
    "Pandas ofrece:\n",
    "- Cargar datos tabulares de diferentes fuentes.\n",
    "- Buscar/Filtrar sobre filas o columnas en particular.\n",
    "- Hacer calculos estadisticos.\n",
    "- Combinar datos de diferentes fuentes de datos.\n",
    "\n",
    "![alt](images/dato_tabular_rectangular.png)\n",
    "\n",
    "Estructuras de Panda:\n",
    "\n",
    "- **DataFrame** : Permitír representar los datos tabulares. Es una serie de Series de pandas indexados por un valor.\n",
    "- **Series** : Es un ndarray de 1 dimensión con una etiqueta"
   ]
  },
  {
   "attachments": {},
   "cell_type": "markdown",
   "metadata": {},
   "source": [
    "> R también tiene DataFrames, mientras que SQL tiene tablas en sus BD"
   ]
  },
  {
   "attachments": {},
   "cell_type": "markdown",
   "metadata": {},
   "source": [
    "## Cargando Pandas\n",
    "\n",
    "\n",
    "```python\n",
    "\n",
    "import pandas as pd\n",
    "```"
   ]
  },
  {
   "cell_type": "code",
   "execution_count": null,
   "metadata": {},
   "outputs": [],
   "source": [
    "import pandas as pd"
   ]
  },
  {
   "attachments": {},
   "cell_type": "markdown",
   "metadata": {},
   "source": [
    "### Creando el primer DataFrame\n",
    "\n",
    "$$f(x) = x^2 $$\n",
    "```python\n",
    "x = [0, 1, 2, 3, 4, 5, 6, 7, 8, 9, 10]\n",
    "datos = [[v, v**2] for v in x]\n",
    "\n",
    "df = pd.DataFrame(datos)\n",
    "```\n",
    "\n",
    "```python\n",
    "x = [0, 1, 2, 3, 4, 5, 6, 7, 8, 9, 10]\n",
    "y = [v**2 for v in x]\n",
    "\n",
    "df = pd.DataFrame({\n",
    "    'x': x,\n",
    "    'y': y\n",
    "})\n",
    "```"
   ]
  },
  {
   "cell_type": "code",
   "execution_count": null,
   "metadata": {},
   "outputs": [],
   "source": [
    "x = [0, 1, 2, 3, 4, 5, 6, 7, 8, 9, 10]\n",
    "datos = [[v, v**2] for v in x]\n",
    "\n",
    "indices = [\"f({})\".format(v) for v in x]\n",
    "\n",
    "df_ejemplo = pd.DataFrame(datos, index=indices)\n",
    "\n",
    "\n",
    "df_ejemplo"
   ]
  },
  {
   "cell_type": "code",
   "execution_count": null,
   "metadata": {},
   "outputs": [],
   "source": [
    "y = [v**2 for v in x]\n",
    "\n",
    "df_ejemplo2 = pd.DataFrame({\n",
    "    'x': x,\n",
    "    'y': y\n",
    "}, index=indices)\n",
    "\n",
    "df_ejemplo2"
   ]
  },
  {
   "attachments": {},
   "cell_type": "markdown",
   "metadata": {},
   "source": [
    "## Cargando un archivo CSV a un DataFrame\n",
    "\n",
    "```python\n",
    "\n",
    "df = pd.read_csv('archivo.csv')\n",
    "```"
   ]
  },
  {
   "cell_type": "code",
   "execution_count": null,
   "metadata": {},
   "outputs": [],
   "source": [
    "df_temperatures = pd.read_csv('DATASETS/temperatures.csv')\n",
    "df_ventas = pd.read_pickle('DATASETS/walmart_sales.pkl.bz2')\n",
    "type(df_temperatures)"
   ]
  },
  {
   "attachments": {},
   "cell_type": "markdown",
   "metadata": {},
   "source": [
    "## Inspeccionando un DataFrame\n",
    "\n",
    "```python\n",
    "\n",
    "\n",
    "print(df)\n",
    "```"
   ]
  },
  {
   "cell_type": "code",
   "execution_count": null,
   "metadata": {},
   "outputs": [],
   "source": [
    "df_temperatures"
   ]
  },
  {
   "cell_type": "code",
   "execution_count": null,
   "metadata": {},
   "outputs": [],
   "source": [
    "print(df_ventas)"
   ]
  },
  {
   "attachments": {},
   "cell_type": "markdown",
   "metadata": {},
   "source": [
    "#### Uso de Head & Tail\n",
    "\n",
    "- **head()** : Regresara por default las primeras 5 filas del DataFrame, también podemos indicar el número de filas que deseamos mostrar, pasando como argumento el número.\n",
    "- **tail()** : Regresara por default las ultimas 5 filas del DataFrame, también podemos indicar el número de filas que deseamos mostrar, pasando como argumento el número.\n"
   ]
  },
  {
   "cell_type": "code",
   "execution_count": null,
   "metadata": {},
   "outputs": [],
   "source": [
    "df_ventas.head()"
   ]
  },
  {
   "cell_type": "code",
   "execution_count": null,
   "metadata": {},
   "outputs": [],
   "source": [
    "df_ventas.head(10)"
   ]
  },
  {
   "cell_type": "code",
   "execution_count": null,
   "metadata": {},
   "outputs": [],
   "source": [
    "df_ventas.tail()"
   ]
  },
  {
   "cell_type": "code",
   "execution_count": null,
   "metadata": {},
   "outputs": [],
   "source": [
    "df_ventas.tail(7)"
   ]
  },
  {
   "attachments": {},
   "cell_type": "markdown",
   "metadata": {},
   "source": [
    "#### Obteniendo más información del DataFrame\n",
    "\n",
    "- **info()**: Regresara información de las columnas, el número de filas y los tipos de datos de cada columna. Tambien el total de datos que contiene el DataFrame, esto nos sirve para identificar si faltan valores en alguna de las variables/columnas.\n",
    "- **shape**: Regresara el número de filas y columnas de nuestro DataFrame. (n, m), donde n son las filas y m el número de columnas.\n",
    "- **describe()**: Calcula algunas estadisticas de resumen para las columnas númericas, como la media, la mediana, desviación estandar, etc.\n",
    "- **values**: Regresa el DF como una matrix bidimensional de NumPy que contendra solo los valores.\n",
    "- **index**: Contiene números de fila o nombres de fila\n",
    "- **dtypes**: Retorna el listado de columnas y el tipo que tienen\n",
    "- **columns**: Retorna una lista con los nombres de columnas del DataFrame."
   ]
  },
  {
   "cell_type": "code",
   "execution_count": null,
   "metadata": {},
   "outputs": [],
   "source": [
    "df_ventas.info()"
   ]
  },
  {
   "cell_type": "code",
   "execution_count": null,
   "metadata": {},
   "outputs": [],
   "source": [
    "df_ventas.shape"
   ]
  },
  {
   "cell_type": "code",
   "execution_count": null,
   "metadata": {},
   "outputs": [],
   "source": [
    "df_ventas.dtypes"
   ]
  },
  {
   "cell_type": "code",
   "execution_count": null,
   "metadata": {},
   "outputs": [],
   "source": [
    "df_ventas.columns"
   ]
  },
  {
   "cell_type": "code",
   "execution_count": null,
   "metadata": {},
   "outputs": [],
   "source": [
    "df_ventas.index"
   ]
  },
  {
   "attachments": {},
   "cell_type": "markdown",
   "metadata": {},
   "source": [
    "## Seleccionando Columnas del DF\n",
    "\n",
    "Pandas nos permite obtener valores de una columna en especifico. Imaginemos que necesitamos realizar la suma de una columna\n",
    "\n",
    "Para seleccionar una columna tenemos 2 maneras de hacerlo. La primera consiste en poner entre corchetes (`[]`) el nombre de nuestra columna entre comillas. Por ejemplo\n",
    "\n",
    "```python\n",
    "ventas_semanales = df[\"weekly_sales\"]\n",
    "```\n",
    "\n",
    "También podemos usar la notación de puntos, es decir, despues de nuestra variable ponemos punto y el nombre de nuestra columna. Por ejemplo\n",
    "\n",
    "```python\n",
    "ventas_semanales = df.weekly_sales\n",
    "```\n",
    "\n",
    "Hay que añadir que la notación punto sirve cuando el nombre de la columna **no contiene espacios** ni **caracteres especiales**. Por ejemplo\n",
    "\n",
    "```python\n",
    "df_reportes[\"¿Es Nuevo?\"] # Correcto\n",
    "\n",
    "\n",
    "df_reportes.¿Es Nuevo?    # Incorrecto\n",
    "```\n",
    "\n",
    "El resultado de seleccionar la columna se le conoce como **Serie**, que es otra estructura de datos de pandas.\n",
    "\n",
    "```python\n",
    "type(ventas_semanales) # pandas.core.series.Series\n",
    "```"
   ]
  },
  {
   "cell_type": "code",
   "execution_count": null,
   "metadata": {},
   "outputs": [],
   "source": [
    "ventas_semanales = df_ventas[\"weekly_sales\"]\n",
    "type(ventas_semanales)"
   ]
  },
  {
   "attachments": {},
   "cell_type": "markdown",
   "metadata": {},
   "source": [
    "### Seleccionando multiple columnas\n",
    "\n",
    "Para seleccionar varias columnas, debemos pasar una lista de las columnas a seleccionar, y esto lo colocaremos dentro de los corchetes ([]). De esta manera crearemos un subconjunto del DataFrame\n",
    "\n",
    "```python\n",
    "\n",
    "sub_df = df[['department', 'weekly_sales']]\n",
    "subdf\n",
    "```"
   ]
  },
  {
   "cell_type": "code",
   "execution_count": null,
   "metadata": {},
   "outputs": [],
   "source": [
    "sub_df = df_ventas[['department', 'weekly_sales']]\n",
    "sub_df"
   ]
  },
  {
   "cell_type": "code",
   "execution_count": null,
   "metadata": {},
   "outputs": [],
   "source": [
    "type(sub_df)"
   ]
  },
  {
   "attachments": {},
   "cell_type": "markdown",
   "metadata": {},
   "source": [
    "### Seleccionado con loc & iloc\n",
    "\n",
    "**loc** nos va a servir para seleccionar en base al nombre del indice del DataFrame. También permite seleccionar en base al nombre de la columna o columnas.\n",
    "\n",
    "```python\n",
    "df.loc[:, 'col':'col_n']\n",
    "```\n",
    "\n",
    "**iloc** selecciona en base al número de fila o columna\n",
    "\n",
    "```python\n",
    "df.iloc[:, 0:3]\n",
    "```"
   ]
  },
  {
   "cell_type": "code",
   "execution_count": null,
   "metadata": {},
   "outputs": [],
   "source": [
    "print(df_ventas.columns)\n",
    "print(df_ventas.index)\n",
    "\n",
    "df_ventas.loc[0:6, 'store':'is_holiday']"
   ]
  },
  {
   "cell_type": "code",
   "execution_count": null,
   "metadata": {},
   "outputs": [],
   "source": [
    "df_ventas.iloc[0:6, 0:6]"
   ]
  },
  {
   "attachments": {},
   "cell_type": "markdown",
   "metadata": {},
   "source": [
    "## Filtrando datos\n",
    "\n",
    "Para realizar un filtrado, debemos recordar las operaciones logicas y los operadores de comparación. También recordar la matriz booleana que vimos en NumPy. Filtrar datos puede aplicarse a todo el DataFrame y a una o más columnas. Por ejemplo\n",
    "\n",
    "```python\n",
    "filtro = df.columna_n > 12\n",
    "df[filtro]\n",
    "\n",
    "filtro1 = df.columna_n > 12\n",
    "filtro2 = df.columna_n2 == 'X'\n",
    "df[filtro1 & filtro2]\n",
    "df[filtro1 | filtro2]\n",
    "df[(df.columna_n > 12) & (df.columna_n == 'X')]\n",
    "\n",
    "filtro3 = df.columna_n.isin(['valor_1', 'valor_2'])\n",
    "df[filtro3]\n",
    "```"
   ]
  },
  {
   "cell_type": "code",
   "execution_count": null,
   "metadata": {},
   "outputs": [],
   "source": [
    "print(df_temperatures.city.unique())\n",
    "\n",
    "df_temperatures.city == 'Tokyo'"
   ]
  },
  {
   "cell_type": "code",
   "execution_count": null,
   "metadata": {},
   "outputs": [],
   "source": [
    "filtro_tokyo = df_temperatures.city == 'Tokyo'\n",
    "df_temperatures[filtro_tokyo]"
   ]
  },
  {
   "cell_type": "code",
   "execution_count": null,
   "metadata": {},
   "outputs": [],
   "source": [
    "filtro_mx = df_temperatures.country == 'Mexico'\n",
    "df_temperatures[filtro_tokyo | filtro_mx]"
   ]
  },
  {
   "cell_type": "code",
   "execution_count": null,
   "metadata": {},
   "outputs": [],
   "source": [
    "sub_df_temp = df_temperatures[(df_temperatures.country == 'Mexico') | (df_temperatures.country == 'China')]\n",
    "\n",
    "sub_df_temp"
   ]
  },
  {
   "attachments": {},
   "cell_type": "markdown",
   "metadata": {},
   "source": [
    "## Ordenando\n",
    "\n",
    "Para ordenar los datos de un DataFrame, podemos usar el metodo **sort_values()**, el cuál recibe la variable o columna por la cuál deseamos ordenar. También recibe como parametro el tipo de ordenamiento, esto se hace pasando como argumento la llave `ascending` que recíbe como valor `True` o `False`. Por default viene configurado de manera ascendente.\n",
    "\n",
    "```python\n",
    "df.sort_values('columna_n')\n",
    "df.sort_values('columna_n', ascending=False)\n",
    "```\n",
    "\n",
    "Si deseamos ordenar por más de una columna/variable, debemos pasar una lista con los valores de las columnas a ordenar, esto también aplicara al tipo de ordenamiento, que ahora recíbira una lista de valores booleanos en base a la posición de nuestras columnas.\n",
    "\n",
    "```python\n",
    "df.sort_values(['columna_1', 'columna_2'])\n",
    "df.sort_values(['columna_1', 'columna_2'], ascending=[True, False])\n",
    "```"
   ]
  },
  {
   "cell_type": "code",
   "execution_count": null,
   "metadata": {},
   "outputs": [],
   "source": [
    "df_ventas.sort_values('store')"
   ]
  },
  {
   "cell_type": "code",
   "execution_count": null,
   "metadata": {},
   "outputs": [],
   "source": [
    "df_ventas.sort_values(['store', 'department'], ascending=[True, False])"
   ]
  },
  {
   "cell_type": "code",
   "execution_count": null,
   "metadata": {},
   "outputs": [],
   "source": [
    "df_ventas.sort_values(['store', 'department'], ascending=[False, True])"
   ]
  },
  {
   "attachments": {},
   "cell_type": "markdown",
   "metadata": {},
   "source": [
    "## Indices\n",
    "\n",
    "Cuando cargamos un DataFrame, pandas de manera automatica creara un indice, sin embargo, en algunas ocasiones sera necesario cambiarlo, por ejemplo en las series de tiempo. Para cambiar un indice, usaremos el método `set_index`, para regresar nuestros indices a la normalidad, usaremos `reset_index`. Para ordenar nuestros indices, usaremos el método `sort_index`"
   ]
  },
  {
   "cell_type": "code",
   "execution_count": null,
   "metadata": {},
   "outputs": [],
   "source": [
    "df_temperatures"
   ]
  },
  {
   "cell_type": "code",
   "execution_count": null,
   "metadata": {},
   "outputs": [],
   "source": [
    "df_ind = df_temperatures.set_index('city') # Cambiamos el indice en base a los valores de la columna\n",
    "df_ind"
   ]
  },
  {
   "attachments": {},
   "cell_type": "markdown",
   "metadata": {},
   "source": [
    "### loc & iloc\n",
    "\n",
    "**loc** nos va a servir para seleccionar en base al nombre del indice del DataFrame. También permite seleccionar en base al nombre de la columna o columnas.\n",
    "\n",
    "**iloc** selecciona en base al número de fila o columna"
   ]
  },
  {
   "attachments": {},
   "cell_type": "markdown",
   "metadata": {},
   "source": [
    "#### Ejemplo loc"
   ]
  },
  {
   "cell_type": "code",
   "execution_count": null,
   "metadata": {},
   "outputs": [],
   "source": [
    "df_temperatures[df_temperatures.city.isin(['Tokyo', 'Xian'])]"
   ]
  },
  {
   "cell_type": "code",
   "execution_count": null,
   "metadata": {},
   "outputs": [],
   "source": [
    "df_ind.loc[['Tokyo', 'Xian']]"
   ]
  },
  {
   "attachments": {},
   "cell_type": "markdown",
   "metadata": {},
   "source": [
    "#### Multiples indices (indices multinivel o jerarquicos) y Ejemplo"
   ]
  },
  {
   "cell_type": "code",
   "execution_count": null,
   "metadata": {},
   "outputs": [],
   "source": [
    "df_ind2 = df_temperatures.set_index(['country', 'city'])\n",
    "df_ind2"
   ]
  },
  {
   "cell_type": "code",
   "execution_count": null,
   "metadata": {},
   "outputs": [],
   "source": [
    "df_ind2.loc[['Mexico', 'India']]"
   ]
  },
  {
   "cell_type": "code",
   "execution_count": null,
   "metadata": {},
   "outputs": [],
   "source": [
    "df_temperatures[df_temperatures['country'] == 'Japan'].city.unique()"
   ]
  },
  {
   "cell_type": "code",
   "execution_count": null,
   "metadata": {},
   "outputs": [],
   "source": [
    "df_temperatures[df_temperatures['country'] == 'India'].city.unique()"
   ]
  },
  {
   "cell_type": "code",
   "execution_count": null,
   "metadata": {},
   "outputs": [],
   "source": [
    "df_ind2.loc[[('India', 'Bombay'), ('Japan', 'Nagoya')]]"
   ]
  },
  {
   "attachments": {},
   "cell_type": "markdown",
   "metadata": {},
   "source": [
    "## Creando nuevas columnas\n",
    "\n",
    "Muchas veces habra que crear nuevas columnas derivadas de columnas existentes. Por ejemplo\n",
    "\n",
    "```python\n",
    "df['col_nueva'] = df.col_1 * 3\n",
    "\n",
    "df\n",
    "```"
   ]
  },
  {
   "cell_type": "code",
   "execution_count": null,
   "metadata": {},
   "outputs": [],
   "source": [
    "data = {'x': range(1, 6), 'x^2': [x**2 for x in range(1, 6)]}\n",
    "dt_custom = pd.DataFrame(data)\n",
    "dt_custom"
   ]
  },
  {
   "cell_type": "code",
   "execution_count": null,
   "metadata": {},
   "outputs": [],
   "source": [
    "dt_custom['x^3'] = dt_custom.x**3 # pow(dt_custom, 3)\n",
    "dt_custom "
   ]
  },
  {
   "attachments": {},
   "cell_type": "markdown",
   "metadata": {},
   "source": [
    "## Aplicando funciones de agregación\n",
    "\n",
    "Cuando queremos aplicar una función o agregación que no se encuentre incluida, podemos usar el método **agg()**, por ejemplo para calcular el percentila 30, podemos crear una función llamada pct30 que tiene como parametro la columna y luego aplica el calculo.\n",
    "\n",
    "```python\n",
    "def pct30(column):\n",
    "    return column.quantile(0.3)\n",
    "```\n",
    "\n",
    "Ahora podemos seleccionar una columna o crear un subconjunto, y usar el metodo `agg`, y pasarle el nombre de nuestra función. Por ejemplo\n",
    "\n",
    "```python\n",
    "df.columna_n.agg(pct30)\n",
    "\n",
    "df[['col1', 'col2']].agg(pct30)\n",
    "```\n",
    "\n",
    "También podemos aplicar más de una agregación, y esto lo hacemos pasando una lista con el nombre de las funciones a aplicar. Por ejemplo\n",
    "\n",
    "```python\n",
    "def pct40(column):\n",
    "    return column.quantile(0.4)\n",
    "\n",
    "df.columna_n.agg([pct30, pct40])\n",
    "\n",
    "df[['col1', 'col2']].agg([pct30, pct40])\n",
    "```"
   ]
  },
  {
   "cell_type": "code",
   "execution_count": null,
   "metadata": {},
   "outputs": [],
   "source": [
    "# Media, Suma, Desv Estandar\n",
    "round(df_ventas.weekly_sales.mean(), 2)"
   ]
  },
  {
   "cell_type": "code",
   "execution_count": null,
   "metadata": {},
   "outputs": [],
   "source": [
    "# Aplicando Inter Cuartile\n",
    "def iqr(column):\n",
    "    return column.quantile(0.75) - column.quantile(0.25)\n",
    "\n",
    "# Aplicando la agregación\n",
    "df_ventas.temperature_c.agg(iqr)"
   ]
  },
  {
   "cell_type": "code",
   "execution_count": null,
   "metadata": {},
   "outputs": [],
   "source": [
    "import numpy as np\n",
    "\n",
    "df_ventas[['temperature_c', 'fuel_price_usd_per_l', 'unemployment']].agg([iqr, np.median])"
   ]
  },
  {
   "attachments": {},
   "cell_type": "markdown",
   "metadata": {},
   "source": [
    "## Contando valores\n",
    "\n",
    "Para contar los valores de una columna, podemos usar el método `value_counts()`\n",
    "- df.col.value_counts()\n",
    "- df.col.value_counts(sort=True) # Ordena\n",
    "- df.col.value_counts(normalize=True) # Recuenta los datos en base a su proporción\n",
    "- df.drop_duplicates(subset='col')"
   ]
  },
  {
   "cell_type": "code",
   "execution_count": null,
   "metadata": {},
   "outputs": [],
   "source": [
    "df_temperatures.country.value_counts()"
   ]
  },
  {
   "cell_type": "code",
   "execution_count": null,
   "metadata": {},
   "outputs": [],
   "source": [
    "df_temperatures.country.value_counts(normalize=True)"
   ]
  },
  {
   "attachments": {},
   "cell_type": "markdown",
   "metadata": {},
   "source": [
    "## Agrupando"
   ]
  },
  {
   "attachments": {},
   "cell_type": "markdown",
   "metadata": {},
   "source": [
    "```python\n",
    "df.groupby('columna_n')\n",
    "\n",
    "df.groupby(['columna_1',..., 'columna_n'])\n",
    "```"
   ]
  },
  {
   "cell_type": "code",
   "execution_count": null,
   "metadata": {},
   "outputs": [],
   "source": [
    "df_temperatures.groupby('country').city.count()"
   ]
  },
  {
   "attachments": {},
   "cell_type": "markdown",
   "metadata": {},
   "source": [
    "## Tablas dínamicas ( Pivot Tables )\n",
    "\n",
    "Las tablas dinamicas son otra forma de calcular estadisticas de resumen agrupadas. Si alguna vez han usado hojas de calculo, seguramente estan familiarizados con las tablas dinamicas. Para crar una tabla dinamica, usaremos el método **pivot_table**, el cúal recibe como parametros `values` e `index`. `values` es la columna que deseamos resumir, mientras que `index` es la columna por la que deseamos agrupar. Por default `pivot_table` toma la media de cada grupo, por lo que si queremos una estadistica diferente, debemos pasarle el argumento `aggfunc`, que recibe el nombre de nuestra función, al igual que `agg`, podemos pasarle una lista de funciones que deseamos aplicar."
   ]
  },
  {
   "attachments": {},
   "cell_type": "markdown",
   "metadata": {},
   "source": [
    "#### Pivot Tables de 2 columnas\n",
    "\n",
    "Cuando agrupabamos, lo haciamos pasando una lista de columnas. Con Pivot Table, lo hacemos pasando el argumento `columns` y pasandole el nombre de la columna.\n",
    "\n",
    "```python\n",
    "pd.pivot_table(df, values=\"columna\", index=\"columna_a_agrupar\", columns=\"otra_columna_a_agrupar\")\n",
    "df.pivot_table(values=\"columna\", index=\"columna_a_agrupar\")\n",
    "\n",
    "```"
   ]
  },
  {
   "cell_type": "code",
   "execution_count": 82,
   "metadata": {},
   "outputs": [
    {
     "data": {
      "text/html": [
       "<div>\n",
       "<style scoped>\n",
       "    .dataframe tbody tr th:only-of-type {\n",
       "        vertical-align: middle;\n",
       "    }\n",
       "\n",
       "    .dataframe tbody tr th {\n",
       "        vertical-align: top;\n",
       "    }\n",
       "\n",
       "    .dataframe thead th {\n",
       "        text-align: right;\n",
       "    }\n",
       "</style>\n",
       "<table border=\"1\" class=\"dataframe\">\n",
       "  <thead>\n",
       "    <tr style=\"text-align: right;\">\n",
       "      <th></th>\n",
       "      <th>weekly_sales</th>\n",
       "    </tr>\n",
       "    <tr>\n",
       "      <th>type</th>\n",
       "      <th></th>\n",
       "    </tr>\n",
       "  </thead>\n",
       "  <tbody>\n",
       "    <tr>\n",
       "      <th>A</th>\n",
       "      <td>20099.568043</td>\n",
       "    </tr>\n",
       "    <tr>\n",
       "      <th>B</th>\n",
       "      <td>12335.331875</td>\n",
       "    </tr>\n",
       "    <tr>\n",
       "      <th>C</th>\n",
       "      <td>9519.532538</td>\n",
       "    </tr>\n",
       "  </tbody>\n",
       "</table>\n",
       "</div>"
      ],
      "text/plain": [
       "      weekly_sales\n",
       "type              \n",
       "A     20099.568043\n",
       "B     12335.331875\n",
       "C      9519.532538"
      ]
     },
     "execution_count": 82,
     "metadata": {},
     "output_type": "execute_result"
    }
   ],
   "source": [
    "pd.pivot_table(df_ventas, values='weekly_sales', index='type')"
   ]
  },
  {
   "cell_type": "code",
   "execution_count": 83,
   "metadata": {},
   "outputs": [
    {
     "data": {
      "text/html": [
       "<div>\n",
       "<style scoped>\n",
       "    .dataframe tbody tr th:only-of-type {\n",
       "        vertical-align: middle;\n",
       "    }\n",
       "\n",
       "    .dataframe tbody tr th {\n",
       "        vertical-align: top;\n",
       "    }\n",
       "\n",
       "    .dataframe thead th {\n",
       "        text-align: right;\n",
       "    }\n",
       "</style>\n",
       "<table border=\"1\" class=\"dataframe\">\n",
       "  <thead>\n",
       "    <tr style=\"text-align: right;\">\n",
       "      <th></th>\n",
       "      <th>weekly_sales</th>\n",
       "    </tr>\n",
       "    <tr>\n",
       "      <th>type</th>\n",
       "      <th></th>\n",
       "    </tr>\n",
       "  </thead>\n",
       "  <tbody>\n",
       "    <tr>\n",
       "      <th>A</th>\n",
       "      <td>20099.568043</td>\n",
       "    </tr>\n",
       "    <tr>\n",
       "      <th>B</th>\n",
       "      <td>12335.331875</td>\n",
       "    </tr>\n",
       "    <tr>\n",
       "      <th>C</th>\n",
       "      <td>9519.532538</td>\n",
       "    </tr>\n",
       "  </tbody>\n",
       "</table>\n",
       "</div>"
      ],
      "text/plain": [
       "      weekly_sales\n",
       "type              \n",
       "A     20099.568043\n",
       "B     12335.331875\n",
       "C      9519.532538"
      ]
     },
     "execution_count": 83,
     "metadata": {},
     "output_type": "execute_result"
    }
   ],
   "source": [
    "df_ventas.pivot_table(values='weekly_sales', index='type')"
   ]
  },
  {
   "cell_type": "code",
   "execution_count": 84,
   "metadata": {},
   "outputs": [
    {
     "data": {
      "text/html": [
       "<div>\n",
       "<style scoped>\n",
       "    .dataframe tbody tr th:only-of-type {\n",
       "        vertical-align: middle;\n",
       "    }\n",
       "\n",
       "    .dataframe tbody tr th {\n",
       "        vertical-align: top;\n",
       "    }\n",
       "\n",
       "    .dataframe thead tr th {\n",
       "        text-align: left;\n",
       "    }\n",
       "\n",
       "    .dataframe thead tr:last-of-type th {\n",
       "        text-align: right;\n",
       "    }\n",
       "</style>\n",
       "<table border=\"1\" class=\"dataframe\">\n",
       "  <thead>\n",
       "    <tr>\n",
       "      <th></th>\n",
       "      <th>mean</th>\n",
       "      <th>median</th>\n",
       "    </tr>\n",
       "    <tr>\n",
       "      <th></th>\n",
       "      <th>weekly_sales</th>\n",
       "      <th>weekly_sales</th>\n",
       "    </tr>\n",
       "    <tr>\n",
       "      <th>type</th>\n",
       "      <th></th>\n",
       "      <th></th>\n",
       "    </tr>\n",
       "  </thead>\n",
       "  <tbody>\n",
       "    <tr>\n",
       "      <th>A</th>\n",
       "      <td>20099.568043</td>\n",
       "      <td>10105.17</td>\n",
       "    </tr>\n",
       "    <tr>\n",
       "      <th>B</th>\n",
       "      <td>12335.331875</td>\n",
       "      <td>6269.02</td>\n",
       "    </tr>\n",
       "    <tr>\n",
       "      <th>C</th>\n",
       "      <td>9519.532538</td>\n",
       "      <td>1149.67</td>\n",
       "    </tr>\n",
       "  </tbody>\n",
       "</table>\n",
       "</div>"
      ],
      "text/plain": [
       "              mean       median\n",
       "      weekly_sales weekly_sales\n",
       "type                           \n",
       "A     20099.568043     10105.17\n",
       "B     12335.331875      6269.02\n",
       "C      9519.532538      1149.67"
      ]
     },
     "execution_count": 84,
     "metadata": {},
     "output_type": "execute_result"
    }
   ],
   "source": [
    "df_ventas.pivot_table(values='weekly_sales', index='type', aggfunc=[np.mean, np.median])"
   ]
  },
  {
   "cell_type": "code",
   "execution_count": 85,
   "metadata": {},
   "outputs": [
    {
     "data": {
      "text/html": [
       "<div>\n",
       "<style scoped>\n",
       "    .dataframe tbody tr th:only-of-type {\n",
       "        vertical-align: middle;\n",
       "    }\n",
       "\n",
       "    .dataframe tbody tr th {\n",
       "        vertical-align: top;\n",
       "    }\n",
       "\n",
       "    .dataframe thead th {\n",
       "        text-align: right;\n",
       "    }\n",
       "</style>\n",
       "<table border=\"1\" class=\"dataframe\">\n",
       "  <thead>\n",
       "    <tr style=\"text-align: right;\">\n",
       "      <th>is_holiday</th>\n",
       "      <th>False</th>\n",
       "      <th>True</th>\n",
       "    </tr>\n",
       "    <tr>\n",
       "      <th>type</th>\n",
       "      <th></th>\n",
       "      <th></th>\n",
       "    </tr>\n",
       "  </thead>\n",
       "  <tbody>\n",
       "    <tr>\n",
       "      <th>A</th>\n",
       "      <td>20008.746759</td>\n",
       "      <td>21297.517824</td>\n",
       "    </tr>\n",
       "    <tr>\n",
       "      <th>B</th>\n",
       "      <td>12248.741339</td>\n",
       "      <td>13478.844240</td>\n",
       "    </tr>\n",
       "    <tr>\n",
       "      <th>C</th>\n",
       "      <td>9518.528116</td>\n",
       "      <td>9532.963131</td>\n",
       "    </tr>\n",
       "  </tbody>\n",
       "</table>\n",
       "</div>"
      ],
      "text/plain": [
       "is_holiday         False         True \n",
       "type                                  \n",
       "A           20008.746759  21297.517824\n",
       "B           12248.741339  13478.844240\n",
       "C            9518.528116   9532.963131"
      ]
     },
     "execution_count": 85,
     "metadata": {},
     "output_type": "execute_result"
    }
   ],
   "source": [
    "df_ventas.pivot_table(values='weekly_sales', index='type', columns=\"is_holiday\")"
   ]
  },
  {
   "attachments": {},
   "cell_type": "markdown",
   "metadata": {},
   "source": [
    "Si observabamos, veremos valores faltantes con `NaN` o `null`, esto es porque no existen esos valores para ese grupo. Para evitar ver `NaN` o `null`, podemos aplicar el parametro `fill_value` e indicarle que llene esos valores faltantes por uno que le definamos, en este caso, queremos que todos los faltantes sean `0`\n",
    "\n",
    "```python\n",
    "pd.pivot_table(..., fill_value=0)\n",
    "df.pivot_table(..., fill_value=0)\n",
    "```\n",
    "\n",
    "Otro parametro que nos puede ser util es `margins` que recibe `True` o `False`, esto hara que la última fila y columna de la tabla dínamica contengan la media de todos los valores, sin incluir los valores que se completaron con `0`. Esto nos permite ver un resumen estadistico para los multiples niveles del conjunto de datos agrupado por las variables"
   ]
  },
  {
   "cell_type": "code",
   "execution_count": 86,
   "metadata": {},
   "outputs": [
    {
     "data": {
      "text/html": [
       "<div>\n",
       "<style scoped>\n",
       "    .dataframe tbody tr th:only-of-type {\n",
       "        vertical-align: middle;\n",
       "    }\n",
       "\n",
       "    .dataframe tbody tr th {\n",
       "        vertical-align: top;\n",
       "    }\n",
       "\n",
       "    .dataframe thead th {\n",
       "        text-align: right;\n",
       "    }\n",
       "</style>\n",
       "<table border=\"1\" class=\"dataframe\">\n",
       "  <thead>\n",
       "    <tr style=\"text-align: right;\">\n",
       "      <th>type</th>\n",
       "      <th>A</th>\n",
       "      <th>B</th>\n",
       "      <th>C</th>\n",
       "      <th>All</th>\n",
       "    </tr>\n",
       "    <tr>\n",
       "      <th>department</th>\n",
       "      <th></th>\n",
       "      <th></th>\n",
       "      <th></th>\n",
       "      <th></th>\n",
       "    </tr>\n",
       "  </thead>\n",
       "  <tbody>\n",
       "    <tr>\n",
       "      <th>1</th>\n",
       "      <td>22956.887886</td>\n",
       "      <td>17990.876158</td>\n",
       "      <td>8951.733462</td>\n",
       "      <td>19213.485088</td>\n",
       "    </tr>\n",
       "    <tr>\n",
       "      <th>2</th>\n",
       "      <td>51994.674873</td>\n",
       "      <td>43051.996919</td>\n",
       "      <td>14424.851713</td>\n",
       "      <td>43607.020113</td>\n",
       "    </tr>\n",
       "    <tr>\n",
       "      <th>3</th>\n",
       "      <td>13881.033137</td>\n",
       "      <td>12965.414311</td>\n",
       "      <td>820.276818</td>\n",
       "      <td>11793.698516</td>\n",
       "    </tr>\n",
       "    <tr>\n",
       "      <th>4</th>\n",
       "      <td>32973.814075</td>\n",
       "      <td>21259.895804</td>\n",
       "      <td>13669.370396</td>\n",
       "      <td>25974.630238</td>\n",
       "    </tr>\n",
       "    <tr>\n",
       "      <th>5</th>\n",
       "      <td>26803.448045</td>\n",
       "      <td>21184.602916</td>\n",
       "      <td>767.600774</td>\n",
       "      <td>21365.583515</td>\n",
       "    </tr>\n",
       "    <tr>\n",
       "      <th>...</th>\n",
       "      <td>...</td>\n",
       "      <td>...</td>\n",
       "      <td>...</td>\n",
       "      <td>...</td>\n",
       "    </tr>\n",
       "    <tr>\n",
       "      <th>96</th>\n",
       "      <td>19900.943552</td>\n",
       "      <td>4752.674874</td>\n",
       "      <td>15766.025431</td>\n",
       "      <td>15217.211505</td>\n",
       "    </tr>\n",
       "    <tr>\n",
       "      <th>97</th>\n",
       "      <td>22093.807101</td>\n",
       "      <td>3543.243304</td>\n",
       "      <td>13419.542809</td>\n",
       "      <td>14437.120839</td>\n",
       "    </tr>\n",
       "    <tr>\n",
       "      <th>98</th>\n",
       "      <td>10979.816195</td>\n",
       "      <td>299.951644</td>\n",
       "      <td>5479.758054</td>\n",
       "      <td>6973.013875</td>\n",
       "    </tr>\n",
       "    <tr>\n",
       "      <th>99</th>\n",
       "      <td>431.443064</td>\n",
       "      <td>25.716667</td>\n",
       "      <td>8.330952</td>\n",
       "      <td>415.487065</td>\n",
       "    </tr>\n",
       "    <tr>\n",
       "      <th>All</th>\n",
       "      <td>20099.568043</td>\n",
       "      <td>12335.331875</td>\n",
       "      <td>9519.532538</td>\n",
       "      <td>16094.726811</td>\n",
       "    </tr>\n",
       "  </tbody>\n",
       "</table>\n",
       "<p>82 rows × 4 columns</p>\n",
       "</div>"
      ],
      "text/plain": [
       "type                   A             B             C           All\n",
       "department                                                        \n",
       "1           22956.887886  17990.876158   8951.733462  19213.485088\n",
       "2           51994.674873  43051.996919  14424.851713  43607.020113\n",
       "3           13881.033137  12965.414311    820.276818  11793.698516\n",
       "4           32973.814075  21259.895804  13669.370396  25974.630238\n",
       "5           26803.448045  21184.602916    767.600774  21365.583515\n",
       "...                  ...           ...           ...           ...\n",
       "96          19900.943552   4752.674874  15766.025431  15217.211505\n",
       "97          22093.807101   3543.243304  13419.542809  14437.120839\n",
       "98          10979.816195    299.951644   5479.758054   6973.013875\n",
       "99            431.443064     25.716667      8.330952    415.487065\n",
       "All         20099.568043  12335.331875   9519.532538  16094.726811\n",
       "\n",
       "[82 rows x 4 columns]"
      ]
     },
     "execution_count": 86,
     "metadata": {},
     "output_type": "execute_result"
    }
   ],
   "source": [
    "df_ventas.pivot_table(values='weekly_sales', index='department', columns=\"type\", fill_value=0, margins=True)"
   ]
  },
  {
   "attachments": {},
   "cell_type": "markdown",
   "metadata": {},
   "source": [
    "## Visualizando"
   ]
  },
  {
   "cell_type": "code",
   "execution_count": 89,
   "metadata": {},
   "outputs": [
    {
     "data": {
      "image/png": "[encoded data removed]",
      "text/plain": [
       "<Figure size 640x480 with 1 Axes>"
      ]
     },
     "metadata": {},
     "output_type": "display_data"
    }
   ],
   "source": [
    "import matplotlib.pyplot as plt\n",
    "\n",
    "df_temperatures.country.value_counts(normalize=True).head(5).plot(kind=\"pie\")\n",
    "plt.show()"
   ]
  },
  {
   "attachments": {},
   "cell_type": "markdown",
   "metadata": {},
   "source": [
    "## Guardando un DataFrame a un archivo CSV\n",
    "\n",
    "```python\n",
    "df.to_csv('nombre_archivo.csv')\n",
    "```"
   ]
  },
  {
   "cell_type": "code",
   "execution_count": 90,
   "metadata": {},
   "outputs": [],
   "source": [
    "df_ejemplo2.to_csv(\"DATASETS/fx.csv\")"
   ]
  }
 ],
 "metadata": {
  "kernelspec": {
   "display_name": "intro_python",
   "language": "python",
   "name": "python3"
  },
  "language_info": {
   "codemirror_mode": {
    "name": "ipython",
    "version": 3
   },
   "file_extension": ".py",
   "mimetype": "text/x-python",
   "name": "python",
   "nbconvert_exporter": "python",
   "pygments_lexer": "ipython3",
   "version": "3.11.2"
  },
  "orig_nbformat": 4
 },
 "nbformat": 4,
 "nbformat_minor": 2
}
