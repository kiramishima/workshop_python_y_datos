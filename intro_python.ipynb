{
 "cells": [
  {
   "attachments": {},
   "cell_type": "markdown",
   "metadata": {},
   "source": [
    "# Introducción a Python\n",
    "\n",
    "Python fue creado por Guido van Rossum, un programador holandés a finales de los 80 y principio de los 90 cuando se encontraba trabajando en el sistema operativo Amoeba. Python es uno de los lenguajes de programación dinámicos más populares que existen entre los que se encuentran Java, Javascript, Go y C#. Aunque es considerado a menudo como un lenguaje \"scripting\", es realmente un lenguaje de propósito general."
   ]
  },
  {
   "attachments": {},
   "cell_type": "markdown",
   "metadata": {},
   "source": [
    "### Declarando variables en Python\n",
    "\n",
    "Simplemente debemos darle un nombre y usar el simbolo de `=` para asignarle un valor. Sin embargo hay que seguir ciertas reglas a la hora de darle nombre a nuestras variables y son estas:\n",
    "\n",
    "* Debe iniciar con una letra o un guion bajo (`_`)\n",
    "* El nombre no puede iniciar con un numero.\n",
    "* El nombre puede contener caracteres alfanumericos (A-z, 0-9) y/o guion bajo (`_`)\n",
    "* Las variables son sensitivas, ejemplo `name` no es igual a `NAME`.\n",
    "* Las palabras reservadas no pueden ser usadas como nombres de variables."
   ]
  },
  {
   "cell_type": "code",
   "execution_count": 1,
   "metadata": {},
   "outputs": [],
   "source": [
    "# Declarando enteros, texto (string), valores con decimales y booleanos (verdadero/falso)\n",
    "age = 30\n",
    "salary = 45500.56\n",
    "name = 'Luffy'\n",
    "last_name = \"Kurosawa\"\n",
    "_username = \"lkurosawa\"\n",
    "# 9variable = 99 # Esta dara error ya que no puede iniciar con un numero el nombre de la variable."
   ]
  },
  {
   "attachments": {},
   "cell_type": "markdown",
   "metadata": {},
   "source": [
    "#### Tipo de datos en Python\n",
    "\n",
    "![](https://miro.medium.com/max/1400/1*QfI8H_8HplGa1v9IrrWjBA.png)"
   ]
  },
  {
   "attachments": {},
   "cell_type": "markdown",
   "metadata": {},
   "source": [
    "#### Ver el contenido de una variable\n",
    "\n",
    "Para ver el contenido de una variable usaremos la función **`print()`** , la cual recibe como argumento, una o varias variables. Por ejemplo:\n",
    "\n",
    "```python\n",
    "x = 3.1416\n",
    "print(x) # Imprimira en consola 3.1416\n",
    "\n",
    "\n",
    "x = (\"PHP\", \"Python\", \"Pearl\")\n",
    "print(x) # Imprimira en consola (\"PHP\", \"Python\", \"Pearl\")\n",
    "```"
   ]
  },
  {
   "cell_type": "code",
   "execution_count": 1,
   "metadata": {},
   "outputs": [
    {
     "name": "stdout",
     "output_type": "stream",
     "text": [
      "('PHP', 'Python', 'Perl')\n",
      "Wakanda Forever\n"
     ]
    }
   ],
   "source": [
    "x = (\"PHP\", \"Python\", \"Perl\")\n",
    "print(x)\n",
    "\n",
    "y = \"Wakanda Forever\"\n",
    "print(y)"
   ]
  },
  {
   "attachments": {},
   "cell_type": "markdown",
   "metadata": {},
   "source": [
    "#### Ver el tipo de dato de una variable\n",
    "\n",
    "Para ver el tipo de dato de una variable, usamos la función `type()`, lo que nos regresara el tipo de dato una variable. Ejemplo\n",
    "\n",
    "```python\n",
    "house = 'slytherin'\n",
    "age = 33\n",
    "is_friend = True\n",
    "type(house) # str\n",
    "type(age) # int\n",
    "type(is_friend) # bool\n",
    "```"
   ]
  },
  {
   "cell_type": "code",
   "execution_count": 3,
   "metadata": {},
   "outputs": [
    {
     "name": "stdout",
     "output_type": "stream",
     "text": [
      "<class 'str'> <class 'int'> <class 'bool'>\n"
     ]
    },
    {
     "data": {
      "text/plain": [
       "int"
      ]
     },
     "execution_count": 3,
     "metadata": {},
     "output_type": "execute_result"
    }
   ],
   "source": [
    "house = 'slytherin'\n",
    "age = 33\n",
    "is_friend = True\n",
    "print(type(house), type(age), type(is_friend))\n",
    "type(age)"
   ]
  },
  {
   "attachments": {},
   "cell_type": "markdown",
   "metadata": {},
   "source": [
    "### Conversión de datos\n",
    "\n",
    "Para convertir un tipo de dato a otro, usaremos las siguientes funciones:\n",
    "\n",
    "* str\n",
    "* float\n",
    "* int\n",
    "* bool\n",
    "* complex\n",
    "* list\n",
    "* tuple\n",
    "* set\n",
    "\n",
    "Ejemplo:\n",
    "\n",
    "```python\n",
    "x = 1.5\n",
    "y = \"2023\"\n",
    "\n",
    "print(str(x), int(x)) # 1.5 1\n",
    "print(int(y), float(x)) # 2023 2023.0\n",
    "```"
   ]
  },
  {
   "cell_type": "code",
   "execution_count": 4,
   "metadata": {},
   "outputs": [
    {
     "name": "stdout",
     "output_type": "stream",
     "text": [
      "1.5 1\n",
      "2024 2023.0\n"
     ]
    }
   ],
   "source": [
    "x = 1.5\n",
    "y = \"2023\"\n",
    "\n",
    "print(str(x), int(x))\n",
    "print(int(y) + 1, float(y)) "
   ]
  }
 ],
 "metadata": {
  "kernelspec": {
   "display_name": "base",
   "language": "python",
   "name": "python3"
  },
  "language_info": {
   "codemirror_mode": {
    "name": "ipython",
    "version": 3
   },
   "file_extension": ".py",
   "mimetype": "text/x-python",
   "name": "python",
   "nbconvert_exporter": "python",
   "pygments_lexer": "ipython3",
   "version": "3.7.16"
  },
  "orig_nbformat": 4,
  "vscode": {
   "interpreter": {
    "hash": "e42634819b8c191a5d07eaf23810ff32516dd8d3875f28ec3e488928fbd3c187"
   }
  }
 },
 "nbformat": 4,
 "nbformat_minor": 2
}
