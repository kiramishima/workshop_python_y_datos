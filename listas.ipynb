{
 "cells": [
  {
   "attachments": {},
   "cell_type": "markdown",
   "metadata": {},
   "source": [
    "# Listas\n",
    "\n",
    "Son un tipo de dato que permite almacenar datos de cualquier tipo. Son **mutables** y dinamicas. Son similares a los arreglos(arrays) en otros lenguajes de programación. Algunas de sus propiedades son:\n",
    "\n",
    "- Son **ordenadas**, mantienen el orden en el que han sido definidas\n",
    "- Pueden ser formadas por tipos **arbitrarios**\n",
    "- Pueden ser **indexadas** con `[i]`.\n",
    "- Se pueden **anidar**, es decir, meter una dentro de la otra.\n",
    "- Son **mutables**, ya que sus elementos pueden ser modificados.\n",
    "- Son **dinámicas**, ya que se pueden añadir o eliminar elementos.\n",
    "\n",
    "![](https://www.scaler.com/topics/media/elements-in-python-list-1024x495.webp)"
   ]
  },
  {
   "attachments": {},
   "cell_type": "markdown",
   "metadata": {},
   "source": [
    "## Definiendo nuestra primer lista en Python"
   ]
  },
  {
   "cell_type": "code",
   "execution_count": 4,
   "metadata": {},
   "outputs": [
    {
     "name": "stdout",
     "output_type": "stream",
     "text": [
      "['leche', 'azucar', 'harina', 'frutas', 'q. philadelphia', 'maizena', 'canela molida', 'galletas maria']\n",
      "[1, 'Leon', 'S.', 'Kennedy', 24, 'Male', True]\n"
     ]
    }
   ],
   "source": [
    "compras = [\"leche\", \"azucar\", \"harina\", \"frutas\", \"q. philadelphia\", \"maizena\", \"canela molida\", \"galletas maria\"]\n",
    "print(compras)\n",
    "\n",
    "fila_db = [1, \"Leon\", \"S.\", \"Kennedy\", 24, \"Male\", True]\n",
    "print(fila_db)"
   ]
  },
  {
   "attachments": {},
   "cell_type": "markdown",
   "metadata": {},
   "source": [
    "### Obteniendo el tamaño de una lista\n",
    "\n",
    "Usaremos la función **len** , la cual recibe como parametro nuestra lista.\n",
    "Ejemplo:\n",
    "\n",
    "```python\n",
    "x = [1,2,3,4,5]\n",
    "print(len(x)) # 5\n",
    "```"
   ]
  },
  {
   "cell_type": "code",
   "execution_count": 5,
   "metadata": {},
   "outputs": [
    {
     "name": "stdout",
     "output_type": "stream",
     "text": [
      "8\n"
     ]
    }
   ],
   "source": [
    "print(len(compras))"
   ]
  },
  {
   "attachments": {},
   "cell_type": "markdown",
   "metadata": {},
   "source": [
    "### Obteniendo un elemento de la lista"
   ]
  },
  {
   "cell_type": "code",
   "execution_count": 6,
   "metadata": {},
   "outputs": [
    {
     "name": "stdout",
     "output_type": "stream",
     "text": [
      "leche\n",
      "galletas maria\n",
      "canela molida\n"
     ]
    }
   ],
   "source": [
    "ingrediente = compras[0] # leche\n",
    "print(ingrediente)\n",
    "\n",
    "print(compras[7]) # galletas maria\n",
    "print(compras[-2]) # canela molida"
   ]
  },
  {
   "attachments": {},
   "cell_type": "markdown",
   "metadata": {},
   "source": [
    "### Seleccionando varios elementos de una lista\n",
    "\n",
    "En Python, podemos seleccionar varios elementos en base a su indice, por ejemplo, si desearamos seleccionar del arreglo de compras, del primer al 4 elemento, tendriamos que usar crear una lista para almacenar esos elementos, luego iterar sobre un ciclo for e internamente usar alguna condición para cuando se alcanza el item 4. Sin duda mucho trabajo, las listas nos ofrecen seleccionar en base a la seleccion de sus indices, como si trabajaramos con intervalos. Su sintaxis es la siguiente:\n",
    "\n",
    "## lista[**indice_inicio**, **indice_fin**]\n",
    "\n",
    "![](https://i.ytimg.com/vi/J6TRMiIreMY/maxresdefault.jpg)"
   ]
  },
  {
   "cell_type": "code",
   "execution_count": null,
   "metadata": {},
   "outputs": [],
   "source": [
    "# Ejemplo\n",
    "print(fila_db) # [1, 'Leon', 'S.', 'Kennedy', 24, 'Male', True]\n",
    "\n",
    "print(fila_db[0: 4]) # [1, 'Leon', 'S.', 'Kennedy']\n",
    "\n",
    "print(fila_db[-2:]) # ['Male', True]\n",
    "\n",
    "print(fila_db[: 4]) # [1, 'Leon', 'S.', 'Kennedy']\n",
    "\n",
    "print(fila_db[3:]) # ['Kennedy', 24, 'Male', True]\n",
    "\n"
   ]
  },
  {
   "attachments": {},
   "cell_type": "markdown",
   "metadata": {},
   "source": [
    "## Manipulando elementos de una lista\n",
    "\n",
    "Las listas al ser mutables, pueden ser modificadas de distintas maneras, ya sea agregando, actualizando o eliminando elementos de ellas. Cambiar valores dentro de una lista sera el primer tipo de manipulación, para cambiar un elemento de la lista debemos especificar su indice y posteriormente hacer la asignacion del nuevo valor, mediante el simbolo `=`. Ejemplo:\n",
    "\n",
    "```python\n",
    "compras = [\"leche\", \"azucar\", \"harina\", \"frutas\", \"q. philadelphia\", \"maizena\", \"canela molida\", \"galletas maria\"]\n",
    "\n",
    "# Cambiaremos las galletas maria por galletas doradas\n",
    "compras[-1] = \"galletas doradas\"\n",
    "\n",
    "print(compras) # ['leche', 'azucar', 'harina', 'frutas', 'q. philadelphia', 'maizena', 'canela molida', 'galletas doradas']\n",
    "```"
   ]
  },
  {
   "cell_type": "code",
   "execution_count": 7,
   "metadata": {},
   "outputs": [
    {
     "name": "stdout",
     "output_type": "stream",
     "text": [
      "['leche', 'azucar', 'harina', 'frutas', 'q. philadelphia', 'maizena', 'canela molida', 'galletas doradas']\n"
     ]
    }
   ],
   "source": [
    "compras[-1] = \"galletas doradas\"\n",
    "\n",
    "print(compras)"
   ]
  },
  {
   "attachments": {},
   "cell_type": "markdown",
   "metadata": {},
   "source": [
    "## ¿Qué pasa si deseamos cambiar más de un valor?\n",
    "\n",
    "Para cambiar más de un valor de la lista, podemos usar la sintaxis `lista[**inicio**, **fin**]`, con lo cual podemos especificar el intervalo de indices donde se realizara el cambio. Recordar que el indice final sera excluido, salvo que no lo indiquemos. Ejemplo;\n",
    "\n",
    "```python\n",
    "letras = ['a', 'b', 'f', 'x', 'f']\n",
    "letras[2:] = ['c', 'd', 'e']\n",
    "print(letras) # ['a', 'b', 'c', 'd', 'e']\n",
    "```"
   ]
  },
  {
   "cell_type": "code",
   "execution_count": 9,
   "metadata": {},
   "outputs": [
    {
     "name": "stdout",
     "output_type": "stream",
     "text": [
      "['a', 'b', 'f', 'x', 'f']\n",
      "['a', 'b', 'c', 'd', 'e']\n"
     ]
    }
   ],
   "source": [
    "letras = ['a', 'b', 'f', 'x', 'f']\n",
    "print(letras)\n",
    "letras[2:] = ['c', 'd', 'e']\n",
    "print(letras)"
   ]
  },
  {
   "attachments": {},
   "cell_type": "markdown",
   "metadata": {},
   "source": [
    "### Agregando elementos a una lista\n",
    "\n",
    "Para agregar nuevos elementos a una lista existen varias formas, la más conocida es usar el metodo `append` o `mi_lista[len(mi_lista):] = [x]`. Veamos el ejemplo:\n",
    "\n",
    "```python\n",
    "mi_lista = ['a', 'b', 'c', 'd', 'e']\n",
    "mi_lista[len(mi_lista):] = ['f']\n",
    "print(mi_lista) # ['a', 'b', 'c', 'd', 'e', 'f']\n",
    "\n",
    "mi_lista2 = [1, 2, 3, 4]\n",
    "mi_lista2[len(mi_lista2):] = [5]\n",
    "mi_lista2.append(6)\n",
    "print(mi_lista2) # [1, 2, 3, 4, 5, 6]\n",
    "```"
   ]
  },
  {
   "cell_type": "code",
   "execution_count": 10,
   "metadata": {},
   "outputs": [
    {
     "name": "stdout",
     "output_type": "stream",
     "text": [
      "['a', 'b', 'c', 'd', 'e', 'f']\n",
      "[1, 2, 3, 4, 5, 6]\n"
     ]
    }
   ],
   "source": [
    "\n",
    "mi_lista = ['a', 'b', 'c', 'd', 'e']\n",
    "mi_lista2 = [1, 2, 3, 4]\n",
    "mi_lista[len(mi_lista):] = ['f']\n",
    "print(mi_lista)\n",
    "\n",
    "mi_lista2[len(mi_lista2):] = [5]\n",
    "mi_lista2.append(6)\n",
    "print(mi_lista2)"
   ]
  },
  {
   "attachments": {},
   "cell_type": "markdown",
   "metadata": {},
   "source": [
    "### Eliminando elementos de una lista\n",
    "\n",
    "Finalmente para eliminar elementos de una lista tenemos los metodos `pop`, `remove` y `clear`. Tambien podemos usar la función `del`. Tomando las listas anteriores, vamos a eliminar algunos de sus elementos. Ejemplo:\n",
    "\n",
    "```python\n",
    "mi_lista = ['a', 'b', 'c', 'd', 'e']\n",
    "\n",
    "mi_lista.pop() # Elimina el ultimo elemento de la lista. Si le pasamos el indice, eliminara el elemento en ese indice.\n",
    "mi_lista.remove(elemento) # Eliminara el elemento de la lista\n",
    "mi_lista.clear() # Elimina todo de la lista\n",
    "\n",
    "# Usando la función del\n",
    "del(mi_lista[indice])\n",
    "```"
   ]
  },
  {
   "cell_type": "code",
   "execution_count": 11,
   "metadata": {},
   "outputs": [
    {
     "name": "stdout",
     "output_type": "stream",
     "text": [
      "['a', 'b', 'c', 'd', 'e']\n",
      "['a', 'b', 'c', 'd']\n",
      "['a', 'c', 'd']\n",
      "['c', 'd']\n",
      "[]\n"
     ]
    }
   ],
   "source": [
    "mi_lista = ['a', 'b', 'c', 'd', 'e']\n",
    "print(mi_lista) # ['a', 'b', 'c', 'd', 'e']\n",
    "mi_lista.pop() # e\n",
    "print(mi_lista) # ['a', 'b', 'c', 'd']\n",
    "mi_lista.remove('b') # b\n",
    "print(mi_lista) # ['a', 'c', 'd']\n",
    "del(mi_lista[0]) # a\n",
    "print(mi_lista) # ['c', 'd']\n",
    "mi_lista.clear()\n",
    "print(mi_lista) # []"
   ]
  },
  {
   "attachments": {},
   "cell_type": "markdown",
   "metadata": {},
   "source": [
    "### Listas y direcciones\n",
    "\n",
    "![](https://encrypted-tbn0.gstatic.com/images?q=tbn:ANd9GcT5tG0rWNZBHZWYJAFJJ2fMXbSUzPgNUdjLAubBL8OMYaT1YEYdYGhSWIszKTXcI1llygQ&usqp=CAU)"
   ]
  },
  {
   "cell_type": "code",
   "execution_count": 15,
   "metadata": {},
   "outputs": [],
   "source": [
    "tiendas = [\"oxxo\", \"7eleven\", \"kmart\"]"
   ]
  },
  {
   "cell_type": "code",
   "execution_count": 16,
   "metadata": {},
   "outputs": [
    {
     "name": "stdout",
     "output_type": "stream",
     "text": [
      "['oxxo', '7eleven', 'kmart']\n",
      "['oxxo', '7eleven', 'kmart']\n",
      "['Kombini', '7eleven', 'kmart']\n",
      "['Kombini', '7eleven', 'kmart']\n"
     ]
    }
   ],
   "source": [
    "print(tiendas)\n",
    "tiendas2 = tiendas\n",
    "print(tiendas2)\n",
    "tiendas2[0] = \"Kombini\"\n",
    "\n",
    "print(tiendas)\n",
    "print(tiendas2)"
   ]
  },
  {
   "attachments": {},
   "cell_type": "markdown",
   "metadata": {},
   "source": [
    "![](https://process.filestackapi.com/cache=expiry:max/nEwoaMoGRT6wjfa7bbpq)"
   ]
  },
  {
   "cell_type": "code",
   "execution_count": 17,
   "metadata": {},
   "outputs": [
    {
     "name": "stdout",
     "output_type": "stream",
     "text": [
      "['Kombini', '7eleven', 'kmart']\n",
      "['oxxo', '7eleven', 'kmart']\n"
     ]
    }
   ],
   "source": [
    "tiendas2 = list(tiendas)\n",
    "tiendas2[0] = \"oxxo\"\n",
    "\n",
    "print(tiendas)\n",
    "print(tiendas2)"
   ]
  },
  {
   "cell_type": "code",
   "execution_count": 18,
   "metadata": {},
   "outputs": [
    {
     "name": "stdout",
     "output_type": "stream",
     "text": [
      "['oxxo', '7eleven', 'kmart']\n",
      "['walbert', '7eleven', 'kmart']\n"
     ]
    }
   ],
   "source": [
    "tiendas3 = tiendas2[:]\n",
    "tiendas3[0] = \"walbert\"\n",
    "\n",
    "print(tiendas2)\n",
    "print(tiendas3)"
   ]
  },
  {
   "attachments": {},
   "cell_type": "markdown",
   "metadata": {},
   "source": [
    "# Comprension de listas\n",
    "\n",
    "Es una tecnica o funcionalidad para generar listas nuevas a partir de elementos iterables como listas, strings y tuplas. Ejemplo:\n",
    "\n",
    "```python\n",
    "mi_lista_de_partida = [1, 2, 3, 4, 5]\n",
    "mi_nueva_lista = []\n",
    "\n",
    "for elemento in mi_lista_de_partida:\n",
    "    mi_nueva_lista.append(elemento * 2)\n",
    "\n",
    "print(mi_nueva_lista) # [2, 4, 6, 8, 10]\n",
    "```"
   ]
  },
  {
   "cell_type": "code",
   "execution_count": 19,
   "metadata": {},
   "outputs": [
    {
     "name": "stdout",
     "output_type": "stream",
     "text": [
      "[2, 4, 6, 8, 10]\n"
     ]
    }
   ],
   "source": [
    "mi_lista_de_partida = [1, 2, 3, 4, 5]\n",
    "mi_nueva_lista = []\n",
    "\n",
    "for elemento in mi_lista_de_partida:\n",
    "    mi_nueva_lista.append(elemento * 2)\n",
    "\n",
    "print(mi_nueva_lista) # [2, 4, 6, 8, 10]"
   ]
  },
  {
   "attachments": {},
   "cell_type": "markdown",
   "metadata": {},
   "source": [
    "Si usamos la comprensión de listas, lo haremos todo en pocas lineas de codigo.\n",
    "\n",
    "```python\n",
    "mi_lista_de_partida = [1, 2, 3, 4, 5]\n",
    "mi_nueva_lista = [elemento * 2 for elemento in mi_lista_de_partida]\n",
    "\n",
    "print(mi_nueva_lista) # [2, 4, 6, 8, 10]\n",
    "```"
   ]
  },
  {
   "cell_type": "code",
   "execution_count": 20,
   "metadata": {},
   "outputs": [
    {
     "name": "stdout",
     "output_type": "stream",
     "text": [
      "[2, 4, 6, 8, 10]\n"
     ]
    }
   ],
   "source": [
    "mi_lista_de_partida = [1, 2, 3, 4, 5]\n",
    "mi_nueva_lista2 = [n * 2 for n in mi_lista_de_partida]\n",
    "\n",
    "print(mi_nueva_lista2) # [2, 4, 6, 8, 10]"
   ]
  }
 ],
 "metadata": {
  "kernelspec": {
   "display_name": "intro_python",
   "language": "python",
   "name": "python3"
  },
  "language_info": {
   "codemirror_mode": {
    "name": "ipython",
    "version": 3
   },
   "file_extension": ".py",
   "mimetype": "text/x-python",
   "name": "python",
   "nbconvert_exporter": "python",
   "pygments_lexer": "ipython3",
   "version": "3.11.0"
  },
  "orig_nbformat": 4,
  "vscode": {
   "interpreter": {
    "hash": "b5eac5827db45dbed8ebc74130b8e4a26072146af2a1fea4329943b3d88a2400"
   }
  }
 },
 "nbformat": 4,
 "nbformat_minor": 2
}
