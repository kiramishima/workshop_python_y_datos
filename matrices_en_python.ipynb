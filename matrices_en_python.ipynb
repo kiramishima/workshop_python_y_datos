{
 "cells": [
  {
   "attachments": {},
   "cell_type": "markdown",
   "metadata": {},
   "source": [
    "# NumPy\n",
    "\n",
    "Es un paquete fundamental de python, que ofrece una alternativa a las listas de python: las matrices o Array NumPy. Permite realizar calculos sobre arreglos enteros. Se instala de la siguiente manera `pip install numpy` o `pip3 install numpy`. Si trabajamos con Anaconda, ya viene incluido por default. En Google Colab (y Replit) igual ya esta incluido. Para usarlo lo hacemos de la siguiente manera:\n",
    "\n",
    "```python\n",
    "import numpy as np\n",
    "```"
   ]
  },
  {
   "attachments": {},
   "cell_type": "markdown",
   "metadata": {},
   "source": [
    "## Matrices\n",
    "\n",
    "En Python para usar una matrix podemos usar las listas o tuplas.\n",
    "\n",
    "$$\n",
    "v = \n",
    "\\begin{bmatrix}\n",
    "1 & 1 & 1 \n",
    "\\end{bmatrix}\n",
    "$$\n",
    "\n",
    "```python\n",
    "\n",
    "v = (1, 1, 1)\n",
    "\n",
    "```\n",
    "\n",
    "$$\n",
    "v = \n",
    "\\begin{bmatrix}\n",
    "1 \\\\\n",
    "1 \\\\\n",
    "1 \\\\ \n",
    "\\end{bmatrix}\n",
    "$$\n",
    "\n",
    "```python\n",
    "\n",
    "v = ((1,), (1,), (1,))\n",
    "\n",
    "```"
   ]
  },
  {
   "attachments": {},
   "cell_type": "markdown",
   "metadata": {},
   "source": [
    "## Suma de matrices\n",
    "\n",
    "$$\n",
    "\\begin{pmatrix}\n",
    "1 & 2 \\\\\n",
    "3 & 4\n",
    "\\end{pmatrix}\n",
    "+\n",
    "\\begin{pmatrix}\n",
    "5 & 6 \\\\\n",
    "7 & 8\n",
    "\\end{pmatrix}\n",
    "$$\n",
    "\n",
    "\n",
    "```python\n",
    "\n",
    "u = ((1,2), (1,4))\n",
    "v = ((5,6), (7,8))\n",
    "\n",
    "tuple(zip(u, v))\n",
    "```"
   ]
  },
  {
   "cell_type": "code",
   "execution_count": null,
   "metadata": {},
   "outputs": [],
   "source": [
    "\n",
    "u = ((1,2), (3,4))\n",
    "v = ((5,6), (7,8))\n",
    "\n",
    "w = []\n",
    "for idx, _ in enumerate(u):\n",
    "    w.append(zip(u[idx], v[idx]))\n",
    "\n",
    "r = []\n",
    "for item in w:\n",
    "    temp = []\n",
    "    for idx, (a, b) in enumerate(item):\n",
    "        print(idx, a, b)\n",
    "        temp.append(a + b)\n",
    "    r.append(tuple(temp))\n",
    "tuple(r)"
   ]
  },
  {
   "attachments": {},
   "cell_type": "markdown",
   "metadata": {},
   "source": [
    "### Producto por un escalar\n",
    "\n",
    "$$\n",
    "3 \\cdot\n",
    "\\begin{pmatrix}\n",
    "1 & 2 \\\\\n",
    "3 & 4\n",
    "\\end{pmatrix}\n",
    "\n",
    "= \n",
    "\n",
    "\\begin{pmatrix}\n",
    "3 & 6 \\\\\n",
    "9 & 12\n",
    "\\end{pmatrix}\n",
    "$$"
   ]
  },
  {
   "cell_type": "code",
   "execution_count": null,
   "metadata": {},
   "outputs": [],
   "source": [
    "k = 3\n",
    "u = ((1,2), (3,4))\n",
    "\n",
    "tuple([((k*item[0]),(k*item[1])) for item in u])"
   ]
  },
  {
   "attachments": {},
   "cell_type": "markdown",
   "metadata": {},
   "source": [
    "### Matriz transpuesta\n",
    "\n",
    "$$\n",
    "A = \n",
    "\\begin{pmatrix}\n",
    "1 & 2 \\\\\n",
    "3 & 4 \\\\\n",
    "5 & 6\n",
    "\\end{pmatrix}\n",
    "\n",
    "$$\n",
    "\n",
    "$$\n",
    "A^T =\n",
    "\n",
    "\\begin{pmatrix}\n",
    "1 & 3 & 5 \\\\\n",
    "2 & 4 & 6\n",
    "\\end{pmatrix}\n",
    "$$"
   ]
  },
  {
   "cell_type": "code",
   "execution_count": null,
   "metadata": {},
   "outputs": [],
   "source": [
    "u = ((1,2), (3,4), (5,6))\n",
    "\n",
    "m = len(u)\n",
    "n = len(u[0])\n",
    "\n",
    "# Generamos la nueva matriz\n",
    "w = []\n",
    "for i in range(n):\n",
    "    w.append([0] * m)\n",
    "\n",
    "for fila in range(n):\n",
    "    print(fila)\n",
    "    for columna in range(m):\n",
    "        print(columna)\n",
    "        w[fila][columna] = u[columna][fila]\n",
    "\n",
    "tuple(w)"
   ]
  },
  {
   "attachments": {},
   "cell_type": "markdown",
   "metadata": {},
   "source": [
    "### Multiplicación de matrices\n",
    "\n",
    "Tenemos los vectores **u<sub>m x n</sub> *  v<sub>o x p </sub> \\= w <sub>m x p</sub>**\n",
    "\n",
    "- El número de columnas(n) de la matriz u debe ser igual al número de filas(o) de la segunda matriz.\n",
    "- La nueva matriz sera una matriz de m x p\n",
    "- Los elementos se obtienen multiplicando filas x columnas."
   ]
  },
  {
   "cell_type": "code",
   "execution_count": 2,
   "metadata": {},
   "outputs": [
    {
     "data": {
      "text/plain": [
       "[[-20, 63, -7], [7.0, 1.0, 15.0]]"
      ]
     },
     "execution_count": 2,
     "metadata": {},
     "output_type": "execute_result"
    }
   ],
   "source": [
    "u = [(5, 3, -4, -2), (8. -1, 0, 3)] # m = 2 , n = 4\n",
    "v = [(1, 4, 0), (-5, 3, 7), (0, -9, 5), (5, 1, 4)] # m = 4, n = 3\n",
    "\n",
    "# v x u -> No se podria, ya que Vn = 3 & Um = 2\n",
    "# u x v -> Se puede, ya que Un = 4 & Vm = 4\n",
    "# la matriz resultante sera Um x Vn\n",
    "\n",
    "c = [[sum(i * j for i, j in zip(r, c)) for c in zip(*v)]\n",
    "    for r in u]\n",
    "\n",
    "c"
   ]
  },
  {
   "attachments": {},
   "cell_type": "markdown",
   "metadata": {},
   "source": [
    "### Suma de matrices con Numpy\n",
    "\n",
    "1. Importa numpy y le damos el alias np\n",
    "```python\n",
    "import numpy as np\n",
    "```\n",
    "\n",
    "2. Convertir nuestros datos a arreglos de numpy\n",
    "```python\n",
    "u = np.array(((1,2), (3,4)))\n",
    "v = np.array(((5,6), (7,8))) \n",
    "```\n",
    "\n",
    "3. Realizar nuestras operaciones de matrices\n",
    "```python\n",
    "u+v\n",
    "```"
   ]
  },
  {
   "cell_type": "code",
   "execution_count": null,
   "metadata": {},
   "outputs": [],
   "source": [
    "import numpy as np\n",
    "\n",
    "u = np.array(((1,2), (3,4)))\n",
    "v = np.array(((5,6), (7,8)))\n",
    "\n",
    "u+v"
   ]
  },
  {
   "attachments": {},
   "cell_type": "markdown",
   "metadata": {},
   "source": [
    "### producto por un escalar"
   ]
  },
  {
   "cell_type": "code",
   "execution_count": null,
   "metadata": {},
   "outputs": [],
   "source": [
    "k = 3\n",
    "u = np.array(((1,2), (3,4))) # Creamos un array de numpy\n",
    "k * u"
   ]
  },
  {
   "attachments": {},
   "cell_type": "markdown",
   "metadata": {},
   "source": [
    "### Matriz transpuesta"
   ]
  },
  {
   "cell_type": "code",
   "execution_count": null,
   "metadata": {},
   "outputs": [],
   "source": [
    "u = np.array(((1,2), (3,4), (5,6)))\n",
    "u.transpose() # Usamos el metodo transpose"
   ]
  },
  {
   "attachments": {},
   "cell_type": "markdown",
   "metadata": {},
   "source": [
    "### Multiplicación de matrices\n",
    "\n"
   ]
  },
  {
   "cell_type": "code",
   "execution_count": null,
   "metadata": {},
   "outputs": [],
   "source": [
    "A = np.array([(1,2),\n",
    "            (3,4)])\n",
    "\n",
    "B = np.array([(5,6),\n",
    "            (7,8)])\n",
    "\n",
    "np.multiply(A,B) # Esta función multiplicara los elementos como si se tratara de una suma de matrices."
   ]
  },
  {
   "cell_type": "code",
   "execution_count": null,
   "metadata": {},
   "outputs": [],
   "source": [
    "A = np.array([(1,2),\n",
    "            (3,4)])\n",
    "\n",
    "B = np.array([(5,6),\n",
    "            (7,8)])\n",
    "\n",
    "np.matmul(A,B) # Matmul sigue las reglas de multiplicacion de matrices en matematicas"
   ]
  },
  {
   "cell_type": "code",
   "execution_count": null,
   "metadata": {},
   "outputs": [],
   "source": [
    "A = np.array([(1,2),\n",
    "            (3,4)])\n",
    "\n",
    "B = np.array([(5,6),\n",
    "            (7,8)])\n",
    "\n",
    "np.dot(A,B) # Similar a Matmul"
   ]
  },
  {
   "attachments": {},
   "cell_type": "markdown",
   "metadata": {},
   "source": [
    "## Calculando el Indice de Masa Corporal (bmi)\n",
    "\n",
    "![](https://newbodyspecialists.com.au/wp-content/uploads/2016/09/BMI.png)"
   ]
  },
  {
   "cell_type": "code",
   "execution_count": null,
   "metadata": {},
   "outputs": [],
   "source": [
    "import numpy as np\n",
    "\n",
    "heights = [1.3, 1.68, 1.1, 1.92, 1.69]\n",
    "weights = [65.4, 59.3, 78.1, 95.3, 68.7]\n",
    "# Creado Numpy Array\n",
    "np_heights = np.array(heights)\n",
    "np_weights = np.array(weights)"
   ]
  },
  {
   "cell_type": "code",
   "execution_count": null,
   "metadata": {},
   "outputs": [],
   "source": [
    "# Codigo sin usar numpy\n",
    "def bmi(height, weight):\n",
    "    return round(height / weight ** 2, 8)\n",
    "\n",
    "for idx, height in enumerate(heights):\n",
    "    print(bmi(height, weights[idx]))"
   ]
  },
  {
   "cell_type": "code",
   "execution_count": null,
   "metadata": {},
   "outputs": [],
   "source": [
    "# Codigo usando numpy\n",
    "bmi = np_heights / np_weights ** 2\n",
    "bmi"
   ]
  }
 ],
 "metadata": {
  "kernelspec": {
   "display_name": "base",
   "language": "python",
   "name": "python3"
  },
  "language_info": {
   "codemirror_mode": {
    "name": "ipython",
    "version": 3
   },
   "file_extension": ".py",
   "mimetype": "text/x-python",
   "name": "python",
   "nbconvert_exporter": "python",
   "pygments_lexer": "ipython3",
   "version": "3.11.0"
  },
  "orig_nbformat": 4,
  "vscode": {
   "interpreter": {
    "hash": "e42634819b8c191a5d07eaf23810ff32516dd8d3875f28ec3e488928fbd3c187"
   }
  }
 },
 "nbformat": 4,
 "nbformat_minor": 2
}
